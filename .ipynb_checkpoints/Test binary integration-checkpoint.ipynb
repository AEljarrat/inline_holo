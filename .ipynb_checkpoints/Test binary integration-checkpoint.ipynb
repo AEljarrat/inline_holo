{
 "cells": [
  {
   "cell_type": "markdown",
   "metadata": {},
   "source": [
    "## Use map on an image without navigation dimension"
   ]
  },
  {
   "cell_type": "code",
   "execution_count": 1,
   "metadata": {},
   "outputs": [],
   "source": [
    "%matplotlib qt\n",
    "import matplotlib.pyplot as plt\n",
    "import numpy as np\n",
    "import hyperspy.api as hs"
   ]
  },
  {
   "cell_type": "code",
   "execution_count": 2,
   "metadata": {},
   "outputs": [],
   "source": [
    "from inline_holo import ModifiedImage as MI\n",
    "from scipy.misc import ascent"
   ]
  },
  {
   "cell_type": "code",
   "execution_count": 3,
   "metadata": {},
   "outputs": [],
   "source": [
    "imgdata = ascent() / 2**8\n",
    "Ny, Nx = imgdata.shape\n",
    "#imgdata = imgdata * np.exp(1j*np.random.rand(Nx, Ny))\n",
    "\n",
    "dx = 0.5\n",
    "dy = 0.5\n",
    "dict_x = {'size':Nx, 'name':'X', 'units':'d', 'scale':dx, 'offset':0}\n",
    "dict_y = {'size':Ny, 'name':'Y', 'units':'d', 'scale':dy, 'offset':0}\n",
    "img = MI(imgdata, axes=[dict_y, dict_x])\n",
    "\n",
    "#Nz = 10\n",
    "#dict_z = {'size':Nz, 'name':'Z', 'units':'d', 'scale':1, 'offset':0}\n",
    "#imgdata = np.repeat(imgdata[None,...], Nz, 0)\n",
    "#img = MI(imgdata, axes=[dict_z, dict_y, dict_x])\n",
    "\n",
    "# radial integration\n",
    "R = [None, 0.25, 0.5, 5., 25, 10]\n",
    "radii = []\n",
    "imgri = []\n",
    "for io in R:\n",
    "    radii.append(img.get_digitized_radius(io))\n",
    "    imgri.append(img.integrate_radial(io, show_progressbar=False))\n",
    "\n",
    "# angular integration\n",
    "A = [None, 0.1, np.pi/8., 100, 25, 10]\n",
    "angii = []\n",
    "imgai = []\n",
    "for io in A:\n",
    "    angii.append(img.get_digitized_angle(io))\n",
    "    imgai.append(img.integrate_angular(io, show_progressbar=False))"
   ]
  },
  {
   "cell_type": "code",
   "execution_count": 4,
   "metadata": {},
   "outputs": [
    {
     "data": {
      "text/plain": [
       "<matplotlib.axes._subplots.AxesSubplot at 0x20183ef1208>"
      ]
     },
     "execution_count": 4,
     "metadata": {},
     "output_type": "execute_result"
    }
   ],
   "source": [
    "hs.plot.plot_images(angii, per_row=len(A))\n",
    "hs.plot.plot_spectra(imgai, legend=[str(io) for io in A], line_style='steps', legend_picking=False)\n",
    "\n",
    "hs.plot.plot_images(radii, per_row=len(R))\n",
    "hs.plot.plot_spectra(imgri, legend=[str(io) for io in R], line_style='steps', legend_picking=False)"
   ]
  },
  {
   "cell_type": "markdown",
   "metadata": {},
   "source": [
    "## Use map on an image with navigation dimension"
   ]
  },
  {
   "cell_type": "code",
   "execution_count": 5,
   "metadata": {},
   "outputs": [],
   "source": [
    "%matplotlib qt\n",
    "import matplotlib.pyplot as plt\n",
    "import numpy as np\n",
    "import hyperspy.api as hs"
   ]
  },
  {
   "cell_type": "code",
   "execution_count": 6,
   "metadata": {},
   "outputs": [],
   "source": [
    "from inline_holo import ModifiedImage as MI\n",
    "from scipy.misc import face"
   ]
  },
  {
   "cell_type": "code",
   "execution_count": 7,
   "metadata": {},
   "outputs": [],
   "source": [
    "imgdata = np.moveaxis(face(), -1, 0) / 2**8\n",
    "Nz, Ny, Nx = imgdata.shape\n",
    "#imgdata = imgdata * np.exp(1j*np.random.rand(Nx, Ny))\n",
    "dx = 0.5\n",
    "dy = 0.5\n",
    "dz = 1\n",
    "dict_x = {'size':Nx, 'name':'X', 'units':'d', 'scale':dx, 'offset':0}\n",
    "dict_y = {'size':Ny, 'name':'Y', 'units':'d', 'scale':dy, 'offset':0}\n",
    "dict_z = {'size':Nz, 'name':'Z', 'units':'d', 'scale':1, 'offset':0}\n",
    "img = MI(imgdata, axes=[dict_z, dict_y, dict_x])\n",
    "\n",
    "# radial integration\n",
    "R = 20\n",
    "radius = img.get_digitized_radius(R)\n",
    "imgri = img.integrate_radial(R, show_progressbar=False)\n",
    "\n",
    "# angular integration\n",
    "A = np.pi / 8.\n",
    "angle = img.get_digitized_angle(A)\n",
    "imgai = img.integrate_angular(A, show_progressbar=False)"
   ]
  },
  {
   "cell_type": "code",
   "execution_count": 8,
   "metadata": {},
   "outputs": [
    {
     "data": {
      "text/plain": [
       "<matplotlib.axes._subplots.AxesSubplot at 0x2018bf47c88>"
      ]
     },
     "execution_count": 8,
     "metadata": {},
     "output_type": "execute_result"
    }
   ],
   "source": [
    "hs.plot.plot_images([img, angle, radius], aspect='equal')\n",
    "hs.plot.plot_spectra(imgri, line_style='steps', legend_picking=False)\n",
    "hs.plot.plot_spectra(imgai, line_style='steps', legend_picking=False)"
   ]
  },
  {
   "cell_type": "markdown",
   "metadata": {},
   "source": [
    "## Use with an FFT"
   ]
  },
  {
   "cell_type": "code",
   "execution_count": 1,
   "metadata": {},
   "outputs": [],
   "source": [
    "%matplotlib qt\n",
    "import matplotlib.pyplot as plt\n",
    "import numpy as np\n",
    "import hyperspy.api as hs"
   ]
  },
  {
   "cell_type": "code",
   "execution_count": 3,
   "metadata": {},
   "outputs": [],
   "source": [
    "from inline_holo import ModifiedImage as MI\n",
    "from scipy.misc import face"
   ]
  },
  {
   "cell_type": "code",
   "execution_count": 4,
   "metadata": {},
   "outputs": [
    {
     "name": "stderr",
     "output_type": "stream",
     "text": [
      "WARNING:hyperspy.signal:Units are not set or cannot be recognized\n",
      "WARNING:hyperspy.signal:Units are not set or cannot be recognized\n",
      "WARNING:hyperspy.signal:The function you applied does not take into account the difference of units and of scales in-between axes.\n",
      "WARNING:hyperspy.signal:The function you applied does not take into account the difference of units and of scales in-between axes.\n"
     ]
    }
   ],
   "source": [
    "imgdata = np.moveaxis(face(), -1, 0) / 2**8\n",
    "Nz, Ny, Nx = imgdata.shape\n",
    "#imgdata = imgdata * np.exp(1j*np.random.rand(Nx, Ny))\n",
    "dx = 0.5\n",
    "dy = 0.5\n",
    "dz = 1\n",
    "dict_x = {'size':Nx, 'name':'X', 'units':'d', 'scale':dx, 'offset':0}\n",
    "dict_y = {'size':Ny, 'name':'Y', 'units':'d', 'scale':dy, 'offset':0}\n",
    "dict_z = {'size':Nz, 'name':'Z', 'units':'d', 'scale':1, 'offset':0}\n",
    "img = MI(imgdata, axes=[dict_z, dict_y, dict_x])\n",
    "\n",
    "# radial integration\n",
    "imgfreq = np.log(img.fft(shifted=True).amplitude)\n",
    "imgfreq = MI(imgfreq)\n",
    "\n",
    "# radial integration\n",
    "R = 100\n",
    "radius = imgfreq.get_digitized_radius(R, shifted=False)\n",
    "imgri = imgfreq.integrate_radial(R, False, show_progressbar=False)\n",
    "\n",
    "# angular integration\n",
    "A = np.pi / 360.\n",
    "angle = imgfreq.get_digitized_angle(A, shifted=False)\n",
    "imgai = imgfreq.integrate_angular(A, False, show_progressbar=False)"
   ]
  },
  {
   "cell_type": "code",
   "execution_count": 5,
   "metadata": {},
   "outputs": [
    {
     "data": {
      "text/plain": [
       "<matplotlib.axes._subplots.AxesSubplot at 0x1fa208c3c18>"
      ]
     },
     "execution_count": 5,
     "metadata": {},
     "output_type": "execute_result"
    }
   ],
   "source": [
    "hs.plot.plot_images([imgfreq, angle, radius], aspect='equal')\n",
    "hs.plot.plot_spectra(imgri, line_style='steps', legend_picking=False)\n",
    "hs.plot.plot_spectra(imgai, line_style='steps', legend_picking=False)"
   ]
  },
  {
   "cell_type": "markdown",
   "metadata": {},
   "source": [
    "## Gaussian filering and Fourier shell correlation "
   ]
  },
  {
   "cell_type": "code",
   "execution_count": 1,
   "metadata": {},
   "outputs": [],
   "source": [
    "%matplotlib qt\n",
    "import matplotlib.pyplot as plt\n",
    "import numpy as np\n",
    "import hyperspy.api as hs"
   ]
  },
  {
   "cell_type": "code",
   "execution_count": 2,
   "metadata": {},
   "outputs": [],
   "source": [
    "from inline_holo import ModifiedImage as MI\n",
    "from inline_holo import ComplexModifiedImage as CMI\n",
    "from scipy.misc import face"
   ]
  },
  {
   "cell_type": "code",
   "execution_count": 3,
   "metadata": {},
   "outputs": [],
   "source": [
    "imgdata = np.moveaxis(face(), -1, 0) / 2**8\n",
    "Nz, Ny, Nx = imgdata.shape\n",
    "#imgdata = imgdata * np.exp(1j*np.random.rand(Nx, Ny))\n",
    "dx = 0.5\n",
    "dy = 0.5\n",
    "dz = 1\n",
    "dict_x = {'size':Nx, 'name':'X', 'units':'nm', 'scale':dx, 'offset':0}\n",
    "dict_y = {'size':Ny, 'name':'Y', 'units':'nm', 'scale':dy, 'offset':0}\n",
    "dict_z = {'size':Nz, 'name':'Z', 'units':'nm', 'scale':1, 'offset':0}\n",
    "img = MI(imgdata, axes=[dict_z, dict_y, dict_x])\n",
    "img.metadata.General.title = 'Racoon'"
   ]
  },
  {
   "cell_type": "code",
   "execution_count": 4,
   "metadata": {},
   "outputs": [],
   "source": [
    "img.plot()"
   ]
  },
  {
   "cell_type": "markdown",
   "metadata": {},
   "source": [
    "Filter the image"
   ]
  },
  {
   "cell_type": "code",
   "execution_count": 5,
   "metadata": {},
   "outputs": [
    {
     "name": "stderr",
     "output_type": "stream",
     "text": [
      "WARNING:hyperspy.signal:The function you applied does not take into account the difference of units and of scales in-between axes.\n"
     ]
    }
   ],
   "source": [
    "# TODO: map for padding\n",
    "img_pad = img.set_padding(((100,100), (100, 100)), 'constant', constant_values=img.data.mean())\n",
    "img_fft = img_pad.fft(True)\n",
    "\n",
    "klist  = [0.1, 0.3, 0.5]\n",
    "xx, yy = [axi.axis for axi in img_fft.axes_manager.signal_axes]\n",
    "kabs   = np.abs(xx[None, :] + 1j* yy[:, None])\n",
    "gauss  = img_fft.real.deepcopy()\n",
    "for io, kcut in enumerate(klist):\n",
    "    gauss.data[io, ...] = np.exp( - (kabs*2.*np.pi)**2. / kcut**2.) \n",
    "    \n",
    "gauss = MI(gauss)\n",
    "\n",
    "foo = lambda idata, gdata: idata * gdata \n",
    "img_fft_gauss = img_fft.map(foo, gdata = gauss, inplace=False, show_progressbar=False)\n",
    "\n",
    "img_fft_gauss.ifft()\n",
    "img_gauss = img_fft_gauss.ifft()"
   ]
  },
  {
   "cell_type": "code",
   "execution_count": 7,
   "metadata": {},
   "outputs": [],
   "source": [
    "CMI(img_fft).plot()"
   ]
  },
  {
   "cell_type": "code",
   "execution_count": 6,
   "metadata": {},
   "outputs": [],
   "source": [
    "gauss.plot()"
   ]
  },
  {
   "cell_type": "code",
   "execution_count": 12,
   "metadata": {},
   "outputs": [
    {
     "name": "stderr",
     "output_type": "stream",
     "text": [
      "WARNING:hyperspy.signal:The function you applied does not take into account the difference of units and of scales in-between axes.\n",
      "C:\\Users\\aeljarrat\\AppData\\Local\\conda\\conda\\envs\\hyperspy_dev\\lib\\site-packages\\ipykernel\\__main__.py:4: RuntimeWarning: divide by zero encountered in log10\n",
      "WARNING:hyperspy.signal:The function you applied does not take into account the difference of units and of scales in-between axes.\n",
      "WARNING:hyperspy.signal:The function you applied does not take into account the difference of units and of scales in-between axes.\n",
      "C:\\Users\\aeljarrat\\AppData\\Local\\conda\\conda\\envs\\hyperspy_dev\\lib\\site-packages\\ipykernel\\__main__.py:5: RuntimeWarning: divide by zero encountered in log10\n"
     ]
    },
    {
     "data": {
      "text/plain": [
       "(0.003951225328782011, 0.6)"
      ]
     },
     "execution_count": 12,
     "metadata": {},
     "output_type": "execute_result"
    }
   ],
   "source": [
    "# Show the filter in action\n",
    "ikwargs = {'shifted':False, 'show_progressbar':False}\n",
    "Ifft_pure = MI(np.log10(img_fft.amplitude)).integrate_radial(**ikwargs)\n",
    "Ifft_filt = MI(np.log10(img_fft_gauss.amplitude)).integrate_radial(**ikwargs)\n",
    "Igaussian = np.log10(gauss.integrate_radial(**ikwargs))\n",
    "\n",
    "f, ax = plt.subplots()\n",
    "pkwargs = {'colors':['r', 'g', 'b']}\n",
    "hs.plot.plot_spectra(Ifft_pure, line_style='-', fig=f, ax=ax, **pkwargs)\n",
    "hs.plot.plot_spectra(Ifft_filt, line_style='--', fig=f, ax=ax, **pkwargs)\n",
    "hs.plot.plot_spectra(Igaussian, line_style=':', fig=f, ax=ax, **pkwargs)\n",
    "ax.set_ylim(-5., None)\n",
    "ax.set_xlim(None, 0.6)"
   ]
  },
  {
   "cell_type": "code",
   "execution_count": 9,
   "metadata": {},
   "outputs": [
    {
     "data": {
      "text/plain": [
       "[<matplotlib.axes._subplots.AxesSubplot at 0x1a856650a20>,\n",
       " <matplotlib.axes._subplots.AxesSubplot at 0x1a8567e27f0>,\n",
       " <matplotlib.axes._subplots.AxesSubplot at 0x1a85751e2e8>,\n",
       " <matplotlib.axes._subplots.AxesSubplot at 0x1a85752d7f0>,\n",
       " <matplotlib.axes._subplots.AxesSubplot at 0x1a854004ef0>,\n",
       " <matplotlib.axes._subplots.AxesSubplot at 0x1a853bb20b8>]"
      ]
     },
     "execution_count": 9,
     "metadata": {},
     "output_type": "execute_result"
    }
   ],
   "source": [
    "hs.plot.plot_images([img_pad, img_gauss])"
   ]
  },
  {
   "cell_type": "markdown",
   "metadata": {},
   "source": [
    "Calculate FSC"
   ]
  },
  {
   "cell_type": "code",
   "execution_count": 10,
   "metadata": {},
   "outputs": [
    {
     "name": "stderr",
     "output_type": "stream",
     "text": [
      "WARNING:hyperspy.signal:The function you applied does not take into account the difference of units and of scales in-between axes.\n",
      "WARNING:hyperspy.signal:The function you applied does not take into account the difference of units and of scales in-between axes.\n",
      "WARNING:hyperspy.signal:The function you applied does not take into account the difference of units and of scales in-between axes.\n"
     ]
    }
   ],
   "source": [
    "bin_size = 512\n",
    "\n",
    "obs_ft = img_gauss.fft(True)\n",
    "exp_ft = img_pad.fft(True)\n",
    "\n",
    "# Get correlations\n",
    "axdict = obs_ft.axes_manager.as_dictionary()\n",
    "axdict = [axdict[keys] for keys in axdict.keys()]\n",
    "exp_obs_xc = MI(np.real(obs_ft * np.conj(exp_ft)), axes=axdict)\n",
    "obs_ac     = MI(obs_ft.amplitude**2, axes=axdict)\n",
    "\n",
    "axdict = exp_ft.axes_manager.as_dictionary()\n",
    "axdict = [axdict[keys] for keys in axdict.keys()]\n",
    "exp_ac     = MI(exp_ft.amplitude**2, axes=axdict)\n",
    "\n",
    "# wrong fsc\n",
    "#fsc_img = exp_obs_xc / np.sqrt(exp_ac*obs_ac)\n",
    "#fsc1 = fsc_img.integrate_radial(bin_size=bin_size, shifted=False)\n",
    "\n",
    "# good fsc\n",
    "xc  = exp_obs_xc.integrate_radial(bin_size=bin_size, shifted=False, show_progressbar=False)\n",
    "ac1 = exp_ac.integrate_radial(bin_size=bin_size, shifted=False, show_progressbar=False)\n",
    "ac2 = obs_ac.integrate_radial(bin_size=bin_size, shifted=False, show_progressbar=False)\n",
    "\n",
    "fsc = xc / np.sqrt(ac1*ac2)"
   ]
  },
  {
   "cell_type": "code",
   "execution_count": 11,
   "metadata": {},
   "outputs": [
    {
     "data": {
      "text/plain": [
       "<matplotlib.axes._subplots.AxesSubplot at 0x1a853fa3908>"
      ]
     },
     "execution_count": 11,
     "metadata": {},
     "output_type": "execute_result"
    }
   ],
   "source": [
    "hs.plot.plot_spectra(fsc.isig[:0.6], line_style='steps')"
   ]
  }
 ],
 "metadata": {
  "kernelspec": {
   "display_name": "Python [conda env:hyperspy_dev]",
   "language": "python",
   "name": "conda-env-hyperspy_dev-py"
  },
  "language_info": {
   "codemirror_mode": {
    "name": "ipython",
    "version": 3
   },
   "file_extension": ".py",
   "mimetype": "text/x-python",
   "name": "python",
   "nbconvert_exporter": "python",
   "pygments_lexer": "ipython3",
   "version": "3.6.5"
  }
 },
 "nbformat": 4,
 "nbformat_minor": 2
}
