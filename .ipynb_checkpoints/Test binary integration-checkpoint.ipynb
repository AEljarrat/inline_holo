{
 "cells": [
  {
   "cell_type": "markdown",
   "metadata": {},
   "source": [
    "## Use map on an image without navigation dimension"
   ]
  },
  {
   "cell_type": "code",
   "execution_count": 1,
   "metadata": {},
   "outputs": [],
   "source": [
    "%matplotlib qt\n",
    "import matplotlib.pyplot as plt\n",
    "import numpy as np\n",
    "import hyperspy.api as hs"
   ]
  },
  {
   "cell_type": "code",
   "execution_count": 2,
   "metadata": {},
   "outputs": [],
   "source": [
    "from inline_holo import ModifiedImage as MI\n",
    "from scipy.misc import ascent"
   ]
  },
  {
   "cell_type": "code",
   "execution_count": 3,
   "metadata": {},
   "outputs": [],
   "source": [
    "imgdata = ascent() / 2**8\n",
    "Ny, Nx = imgdata.shape\n",
    "#imgdata = imgdata * np.exp(1j*np.random.rand(Nx, Ny))\n",
    "\n",
    "dx = 0.5\n",
    "dy = 0.5\n",
    "dict_x = {'size':Nx, 'name':'X', 'units':'d', 'scale':dx, 'offset':0}\n",
    "dict_y = {'size':Ny, 'name':'Y', 'units':'d', 'scale':dy, 'offset':0}\n",
    "img = MI(imgdata, axes=[dict_y, dict_x])\n",
    "\n",
    "#Nz = 10\n",
    "#dict_z = {'size':Nz, 'name':'Z', 'units':'d', 'scale':1, 'offset':0}\n",
    "#imgdata = np.repeat(imgdata[None,...], Nz, 0)\n",
    "#img = MI(imgdata, axes=[dict_z, dict_y, dict_x])\n",
    "\n",
    "# radial integration\n",
    "R = [None, 0.25, 0.5, 5., 25, 10]\n",
    "radii = []\n",
    "imgri = []\n",
    "for io in R:\n",
    "    radii.append(img.get_digitized_radius(io))\n",
    "    imgri.append(img.integrate_radial(io, show_progressbar=False))\n",
    "\n",
    "# angular integration\n",
    "A = [None, 0.1, np.pi/8., 100, 25, 10]\n",
    "angii = []\n",
    "imgai = []\n",
    "for io in A:\n",
    "    angii.append(img.get_digitized_angle(io))\n",
    "    imgai.append(img.integrate_angular(io, show_progressbar=False))"
   ]
  },
  {
   "cell_type": "code",
   "execution_count": 4,
   "metadata": {},
   "outputs": [
    {
     "data": {
      "text/plain": [
       "<matplotlib.axes._subplots.AxesSubplot at 0x220f89861d0>"
      ]
     },
     "execution_count": 4,
     "metadata": {},
     "output_type": "execute_result"
    }
   ],
   "source": [
    "hs.plot.plot_images(angii, per_row=len(A))\n",
    "hs.plot.plot_spectra(imgai, legend=[str(io) for io in A], line_style='steps', legend_picking=False)\n",
    "\n",
    "hs.plot.plot_images(radii, per_row=len(R))\n",
    "hs.plot.plot_spectra(imgri, legend=[str(io) for io in R], line_style='steps', legend_picking=False)"
   ]
  },
  {
   "cell_type": "markdown",
   "metadata": {},
   "source": [
    "## Use map on an image with navigation dimension"
   ]
  },
  {
   "cell_type": "code",
   "execution_count": 5,
   "metadata": {},
   "outputs": [],
   "source": [
    "%matplotlib qt\n",
    "import matplotlib.pyplot as plt\n",
    "import numpy as np\n",
    "import hyperspy.api as hs"
   ]
  },
  {
   "cell_type": "code",
   "execution_count": 6,
   "metadata": {},
   "outputs": [],
   "source": [
    "from inline_holo import ModifiedImage as MI\n",
    "from scipy.misc import face"
   ]
  },
  {
   "cell_type": "code",
   "execution_count": 7,
   "metadata": {},
   "outputs": [],
   "source": [
    "imgdata = np.moveaxis(face(), -1, 0) / 2**8\n",
    "Nz, Ny, Nx = imgdata.shape\n",
    "#imgdata = imgdata * np.exp(1j*np.random.rand(Nx, Ny))\n",
    "dx = 0.5\n",
    "dy = 0.5\n",
    "dz = 1\n",
    "dict_x = {'size':Nx, 'name':'X', 'units':'d', 'scale':dx, 'offset':0}\n",
    "dict_y = {'size':Ny, 'name':'Y', 'units':'d', 'scale':dy, 'offset':0}\n",
    "dict_z = {'size':Nz, 'name':'Z', 'units':'d', 'scale':1, 'offset':0}\n",
    "img = MI(imgdata, axes=[dict_z, dict_y, dict_x])\n",
    "\n",
    "# radial integration\n",
    "R = 20\n",
    "radius = img.get_digitized_radius(R)\n",
    "imgri = img.integrate_radial(R, show_progressbar=False)\n",
    "\n",
    "# angular integration\n",
    "A = np.pi / 8.\n",
    "angle = img.get_digitized_angle(A)\n",
    "imgai = img.integrate_angular(A, show_progressbar=False)"
   ]
  },
  {
   "cell_type": "code",
   "execution_count": 8,
   "metadata": {},
   "outputs": [
    {
     "data": {
      "text/plain": [
       "<matplotlib.axes._subplots.AxesSubplot at 0x22080220e10>"
      ]
     },
     "execution_count": 8,
     "metadata": {},
     "output_type": "execute_result"
    }
   ],
   "source": [
    "hs.plot.plot_images([img, angle, radius], aspect='equal')\n",
    "hs.plot.plot_spectra(imgri, line_style='steps', legend_picking=False)\n",
    "hs.plot.plot_spectra(imgai, line_style='steps', legend_picking=False)"
   ]
  },
  {
   "cell_type": "markdown",
   "metadata": {},
   "source": [
    "## Use with an FFT"
   ]
  },
  {
   "cell_type": "code",
   "execution_count": 9,
   "metadata": {},
   "outputs": [],
   "source": [
    "%matplotlib qt\n",
    "import matplotlib.pyplot as plt\n",
    "import numpy as np\n",
    "import hyperspy.api as hs"
   ]
  },
  {
   "cell_type": "code",
   "execution_count": 10,
   "metadata": {},
   "outputs": [],
   "source": [
    "from inline_holo import ModifiedImage as MI\n",
    "from scipy.misc import face"
   ]
  },
  {
   "cell_type": "code",
   "execution_count": 24,
   "metadata": {},
   "outputs": [
    {
     "name": "stderr",
     "output_type": "stream",
     "text": [
      "WARNING:hyperspy.signal:Units are not set or cannot be recognized\n",
      "WARNING:hyperspy.signal:Units are not set or cannot be recognized\n"
     ]
    }
   ],
   "source": [
    "imgdata = np.moveaxis(face(), -1, 0) / 2**8\n",
    "Nz, Ny, Nx = imgdata.shape\n",
    "#imgdata = imgdata * np.exp(1j*np.random.rand(Nx, Ny))\n",
    "dx = 0.5\n",
    "dy = 0.5\n",
    "dz = 1\n",
    "dict_x = {'size':Nx, 'name':'X', 'units':'d', 'scale':dx, 'offset':0}\n",
    "dict_y = {'size':Ny, 'name':'Y', 'units':'d', 'scale':dy, 'offset':0}\n",
    "dict_z = {'size':Nz, 'name':'Z', 'units':'d', 'scale':1, 'offset':0}\n",
    "img = MI(imgdata, axes=[dict_z, dict_y, dict_x])\n",
    "\n",
    "# radial integration\n",
    "imgfreq = np.log(img.fft(shifted=True).amplitude)\n",
    "imgfreq = MI(imgfreq)\n",
    "\n",
    "# radial integration\n",
    "R = 100\n",
    "radius = imgfreq.get_digitized_radius(R)\n",
    "imgri = imgfreq.integrate_radial(R, True, show_progressbar=False)\n",
    "\n",
    "# angular integration\n",
    "A = np.pi / 360.\n",
    "angle = imgfreq.get_digitized_angle(A)\n",
    "imgai = imgfreq.integrate_angular(A, True, show_progressbar=False)"
   ]
  },
  {
   "cell_type": "code",
   "execution_count": 25,
   "metadata": {},
   "outputs": [
    {
     "name": "stderr",
     "output_type": "stream",
     "text": [
      "WARNING:hyperspy.drawing.utils:Axes labels were requested, but one or both of the axes units and/or name are undefined. Axes decorations have been set to 'ticks' instead.\n"
     ]
    },
    {
     "data": {
      "text/plain": [
       "<matplotlib.axes._subplots.AxesSubplot at 0x220f88f1588>"
      ]
     },
     "execution_count": 25,
     "metadata": {},
     "output_type": "execute_result"
    }
   ],
   "source": [
    "hs.plot.plot_images([imgfreq, angle, radius], aspect='equal')\n",
    "hs.plot.plot_spectra(imgri, line_style='steps', legend_picking=False)\n",
    "hs.plot.plot_spectra(imgai, line_style='steps', legend_picking=False)"
   ]
  },
  {
   "cell_type": "code",
   "execution_count": null,
   "metadata": {},
   "outputs": [],
   "source": []
  }
 ],
 "metadata": {
  "kernelspec": {
   "display_name": "Python [conda env:hyperspy_dev]",
   "language": "python",
   "name": "conda-env-hyperspy_dev-py"
  },
  "language_info": {
   "codemirror_mode": {
    "name": "ipython",
    "version": 3
   },
   "file_extension": ".py",
   "mimetype": "text/x-python",
   "name": "python",
   "nbconvert_exporter": "python",
   "pygments_lexer": "ipython3",
   "version": "3.6.5"
  }
 },
 "nbformat": 4,
 "nbformat_minor": 2
}
