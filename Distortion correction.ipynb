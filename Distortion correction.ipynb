{
 "cells": [
  {
   "cell_type": "code",
   "execution_count": 1,
   "metadata": {},
   "outputs": [
    {
     "name": "stderr",
     "output_type": "stream",
     "text": [
      "C:\\Users\\aeljarrat\\AppData\\Local\\conda\\conda\\envs\\hyperspy_dev\\lib\\site-packages\\skcuda\\cublas.py:272: UserWarning: creating CUBLAS context to get version number\n",
      "  warnings.warn('creating CUBLAS context to get version number')\n"
     ]
    }
   ],
   "source": [
    "from inline_holo import ModifiedImage as MI\n",
    "from distortions import _checkerboard\n",
    "img = _checkerboard(256)\n",
    "img.plot()"
   ]
  },
  {
   "cell_type": "markdown",
   "metadata": {},
   "source": [
    "# Test if distortion coefficients are set and ordered"
   ]
  },
  {
   "cell_type": "code",
   "execution_count": 17,
   "metadata": {},
   "outputs": [],
   "source": [
    "%matplotlib qt\n",
    "import matplotlib.pyplot as plt\n",
    "import hyperspy.api as hs\n",
    "\n",
    "import numpy as np\n",
    "from distortions import Distortion\n",
    "\n",
    "test_dict = {'A00' : 0, 'B11' : 0, 'A11' : 0, 'B22' : 0, \n",
    "             'A20' : 0, 'A22' : 0, 'B33' : 0, 'B31' : 0,\n",
    "             'A31' : 0, 'A33' : 0}\n",
    "# set some random values\n",
    "keys = test_dict.keys()\n",
    "values = np.random.random(len(keys)) + 1j*np.random.random(len(keys))\n",
    "for key, value in zip(keys, values):\n",
    "    test_dict[key] = value*0.00005\n",
    "    \n",
    "kdist = Distortion(**test_dict)\n",
    "coeffsA = kdist._coeffs.copy()\n",
    "\n",
    "# now scramble the dictionary\n",
    "keys = list(test_dict.keys())\n",
    "indices = np.arange(len(keys))\n",
    "np.random.shuffle(indices)\n",
    "new_dict = {}\n",
    "for idx in indices:\n",
    "    new_dict[keys[idx]] = test_dict[keys[idx]]\n",
    "\n",
    "kdist = Distortion(**new_dict)\n",
    "coeffsB = kdist._coeffs.copy()\n",
    "\n",
    "assert coeffsA == coeffsB\n",
    "\n",
    "# compare with input\n",
    "test_dictA = {}\n",
    "test_dictB = {}\n",
    "for key in test_dict.keys():\n",
    "    test_dictA[key] = coeffsA[key][3]\n",
    "    test_dictB[key] = coeffsB[key][3]\n",
    "    \n",
    "assert test_dict == test_dictA\n",
    "assert test_dict == test_dictB"
   ]
  },
  {
   "cell_type": "code",
   "execution_count": 18,
   "metadata": {},
   "outputs": [],
   "source": [
    "kdist.save_coefficients('prueba.txt')"
   ]
  },
  {
   "cell_type": "code",
   "execution_count": 19,
   "metadata": {},
   "outputs": [],
   "source": [
    "kdist.load_coefficients('prueba.txt')"
   ]
  },
  {
   "cell_type": "code",
   "execution_count": 20,
   "metadata": {},
   "outputs": [],
   "source": [
    "kdist().plot()"
   ]
  },
  {
   "cell_type": "code",
   "execution_count": 24,
   "metadata": {},
   "outputs": [
    {
     "name": "stderr",
     "output_type": "stream",
     "text": [
      "WARNING:hyperspy.drawing.utils:Axes labels were requested, but one or both of the axes units and/or name are undefined. Axes decorations have been set to 'ticks' instead.\n"
     ]
    },
    {
     "data": {
      "text/plain": [
       "[<matplotlib.axes._subplots.AxesSubplot at 0x1702afe3828>,\n",
       " <matplotlib.axes._subplots.AxesSubplot at 0x1702b05dba8>]"
      ]
     },
     "execution_count": 24,
     "metadata": {},
     "output_type": "execute_result"
    }
   ],
   "source": [
    "from inline_holo import ModifiedImage as MI\n",
    "from scipy.misc import ascent\n",
    "\n",
    "img = MI(ascent())\n",
    "#img = _checkerboard(256)\n",
    "img_1 = kdist(img)\n",
    "\n",
    "hs.plot.plot_images([img, img_1], per_row=3, saturated_pixels=1)"
   ]
  },
  {
   "cell_type": "code",
   "execution_count": 6,
   "metadata": {},
   "outputs": [
    {
     "name": "stderr",
     "output_type": "stream",
     "text": [
      "WARNING:hyperspy.drawing.utils:Axes labels were requested, but one or both of the axes units and/or name are undefined. Axes decorations have been set to 'ticks' instead.\n"
     ]
    },
    {
     "data": {
      "text/plain": [
       "[<matplotlib.axes._subplots.AxesSubplot at 0x7f3a0df1e160>,\n",
       " <matplotlib.axes._subplots.AxesSubplot at 0x7f3a0de94710>,\n",
       " <matplotlib.axes._subplots.AxesSubplot at 0x7f3a0de0dfd0>]"
      ]
     },
     "execution_count": 6,
     "metadata": {},
     "output_type": "execute_result"
    }
   ],
   "source": [
    "from inline_holo import ModifiedImage as MI\n",
    "from scipy.misc import ascent\n",
    "\n",
    "img = MI(ascent())\n",
    "\n",
    "kdist = Distortion(A00=10.+10j)\n",
    "img_1 = kdist(img)\n",
    "\n",
    "kdist = Distortion(A00=-10.-10j)\n",
    "img_2 = kdist(img_1)\n",
    "\n",
    "hs.plot.plot_images([img, img_1, img_2], per_row=3)"
   ]
  },
  {
   "cell_type": "code",
   "execution_count": 7,
   "metadata": {},
   "outputs": [
    {
     "name": "stderr",
     "output_type": "stream",
     "text": [
      "WARNING:hyperspy.drawing.utils:Axes labels were requested, but one or both of the axes units and/or name are undefined. Axes decorations have been set to 'ticks' instead.\n"
     ]
    }
   ],
   "source": [
    "from inline_holo import ModifiedImage as MI\n",
    "from scipy.misc import ascent\n",
    "from scipy.ndimage import gaussian_filter\n",
    "\n",
    "#img = MI(ascent())\n",
    "imdata = np.kron([[1, 0] * 4, [0, 1] * 4] * 4, np.ones((25, 25)))\n",
    "#imdata = gaussian_filter(imdata, 0.5)\n",
    "img = MI(imdata)\n",
    "\n",
    "value = -0.1\n",
    "\n",
    "kdist = Distortion(A11=value, B11=-value)\n",
    "img_1 = kdist(img, order=1)\n",
    "\n",
    "ivalue = value/np.sqrt(np.abs(value)*2.)\n",
    "kdist = Distortion(A11=-ivalue, B11=ivalue)\n",
    "img_2 = kdist(img_1, order=1)\n",
    "\n",
    "axs = hs.plot.plot_images([img, img_1, img_2], per_row=3)\n",
    "\n",
    "for ax in axs[1:]:\n",
    "    axs[0].get_shared_x_axes().join(axs[0], ax)\n",
    "    axs[0].get_shared_y_axes().join(axs[0], ax)"
   ]
  },
  {
   "cell_type": "code",
   "execution_count": 76,
   "metadata": {},
   "outputs": [],
   "source": [
    "from scipy.ndimage import map_coordinates\n",
    "map_coordinates?"
   ]
  },
  {
   "cell_type": "code",
   "execution_count": 13,
   "metadata": {},
   "outputs": [
    {
     "name": "stderr",
     "output_type": "stream",
     "text": [
      "WARNING:hyperspy.drawing.utils:Axes labels were requested, but one or both of the axes units and/or name are undefined. Axes decorations have been set to 'ticks' instead.\n"
     ]
    },
    {
     "data": {
      "text/plain": [
       "[<matplotlib.axes._subplots.AxesSubplot at 0x7f2c18197c88>,\n",
       " <matplotlib.axes._subplots.AxesSubplot at 0x7f2c18107828>,\n",
       " <matplotlib.axes._subplots.AxesSubplot at 0x7f2c1807df60>]"
      ]
     },
     "execution_count": 13,
     "metadata": {},
     "output_type": "execute_result"
    }
   ],
   "source": [
    "from inline_holo import ModifiedImage as MI\n",
    "from scipy.misc import ascent\n",
    "\n",
    "#kdist = Krivanek(A11=1, B11=-1, A22=-0.001-0.001j, B22=-0.001+0.001j)\n",
    "#kdist = Krivanek(A00=10+10j, A11=0.001)\n",
    "\n",
    "alpha = np.pi / 4\n",
    "phase = np.exp(1j*alpha)\n",
    "kdist = Krivanek(A11=phase, B11=-phase)\n",
    "\n",
    "img = MI(ascent())\n",
    "img_f = kdist(img)\n",
    "\n",
    "# invert\n",
    "alpha = -np.pi / 4\n",
    "phase = np.exp(1j*alpha)\n",
    "kdist = Krivanek(A11=phase, B11=-phase)\n",
    "\n",
    "img_i = kdist(img_f)\n",
    "\n",
    "hs.plot.plot_images([img, img_f, img_i])"
   ]
  },
  {
   "cell_type": "code",
   "execution_count": 9,
   "metadata": {},
   "outputs": [],
   "source": [
    "img_f.plot()"
   ]
  },
  {
   "cell_type": "code",
   "execution_count": 16,
   "metadata": {},
   "outputs": [
    {
     "name": "stdout",
     "output_type": "stream",
     "text": [
      "5.0000e+00\n"
     ]
    }
   ],
   "source": [
    "a = 5+4j\n",
    "print(\"%.4e\" % a.real)"
   ]
  },
  {
   "cell_type": "code",
   "execution_count": 26,
   "metadata": {},
   "outputs": [
    {
     "name": "stderr",
     "output_type": "stream",
     "text": [
      "WARNING:hyperspy.drawing.utils:Axes labels were requested, but one or both of the axes units and/or name are undefined. Axes decorations have been set to 'ticks' instead.\n",
      "WARNING:hyperspy.drawing.utils:Axes labels were requested, but one or both of the axes units and/or name are undefined. Axes decorations have been set to 'ticks' instead.\n"
     ]
    },
    {
     "data": {
      "text/plain": [
       "[<matplotlib.axes._subplots.AxesSubplot at 0x1701fd0b7b8>,\n",
       " <matplotlib.axes._subplots.AxesSubplot at 0x17029532748>,\n",
       " <matplotlib.axes._subplots.AxesSubplot at 0x170295a9668>,\n",
       " <matplotlib.axes._subplots.AxesSubplot at 0x17029617080>,\n",
       " <matplotlib.axes._subplots.AxesSubplot at 0x17029688be0>,\n",
       " <matplotlib.axes._subplots.AxesSubplot at 0x1702970c208>]"
      ]
     },
     "execution_count": 26,
     "metadata": {},
     "output_type": "execute_result"
    }
   ],
   "source": [
    "stack = []\n",
    "kdist = Distortion(A00=-1.-1j)\n",
    "stack += kdist()\n",
    "kdist = Distortion(B11=-1.-1j)\n",
    "stack += kdist()\n",
    "kdist = Distortion(A11=-1.-1j)\n",
    "stack += kdist()\n",
    "kdist = Distortion(B22=-1.-1j)\n",
    "stack += kdist()\n",
    "kdist = Distortion(A20=-1.-1j)\n",
    "stack += kdist()\n",
    "kdist = Distortion(A22=-1.-1j)\n",
    "stack += kdist()\n",
    "\n",
    "stackr = [img.real for img in stack]\n",
    "hs.plot.plot_images(stackr, no_nans=True)\n",
    "\n",
    "stacki = [img.imag for img in stack]\n",
    "hs.plot.plot_images(stacki, no_nans=True)"
   ]
  },
  {
   "cell_type": "code",
   "execution_count": 22,
   "metadata": {},
   "outputs": [],
   "source": []
  },
  {
   "cell_type": "code",
   "execution_count": 24,
   "metadata": {},
   "outputs": [
    {
     "data": {
      "text/plain": [
       "array([[-2.3561945 , -2.3581553 , -2.3601236 , ...,  2.3601236 ,\n",
       "         2.3581553 ,  2.3561945 ],\n",
       "       [-2.3542337 , -2.3561945 , -2.3581629 , ...,  2.3581629 ,\n",
       "         2.3561945 ,  2.3542337 ],\n",
       "       [-2.3522651 , -2.3542259 , -2.3561945 , ...,  2.3561945 ,\n",
       "         2.3542259 ,  2.3522651 ],\n",
       "       ...,\n",
       "       [-0.78932744, -0.7873667 , -0.7853982 , ...,  0.7853982 ,\n",
       "         0.7873667 ,  0.78932744],\n",
       "       [-0.78735894, -0.7853982 , -0.7834297 , ...,  0.7834297 ,\n",
       "         0.7853982 ,  0.78735894],\n",
       "       [-0.7853982 , -0.7834374 , -0.7814689 , ...,  0.7814689 ,\n",
       "         0.7834374 ,  0.7853982 ]], dtype=float32)"
      ]
     },
     "execution_count": 24,
     "metadata": {},
     "output_type": "execute_result"
    }
   ],
   "source": [
    "phi"
   ]
  },
  {
   "cell_type": "code",
   "execution_count": null,
   "metadata": {},
   "outputs": [],
   "source": []
  },
  {
   "cell_type": "code",
   "execution_count": 27,
   "metadata": {},
   "outputs": [],
   "source": [
    "nmp = []\n",
    "for key in coeffs.keys():\n",
    "    value = coeffs[key]\n",
    "    nmp += [ value[:-1], ]\n",
    "    Cp   = value[-1] \n",
    "nmp = np.array(nmp)\n",
    "odd = nmp[:, 1] < 0\n"
   ]
  },
  {
   "cell_type": "code",
   "execution_count": 29,
   "metadata": {},
   "outputs": [
    {
     "data": {
      "text/plain": [
       "array([ True, False,  True, False,  True,  True, False, False,  True,\n",
       "        True])"
      ]
     },
     "execution_count": 29,
     "metadata": {},
     "output_type": "execute_result"
    }
   ],
   "source": [
    "\n"
   ]
  },
  {
   "cell_type": "code",
   "execution_count": null,
   "metadata": {},
   "outputs": [],
   "source": []
  }
 ],
 "metadata": {
  "kernelspec": {
   "display_name": "Python [conda env:hyperspy_dev]",
   "language": "python",
   "name": "conda-env-hyperspy_dev-py"
  },
  "language_info": {
   "codemirror_mode": {
    "name": "ipython",
    "version": 3
   },
   "file_extension": ".py",
   "mimetype": "text/x-python",
   "name": "python",
   "nbconvert_exporter": "python",
   "pygments_lexer": "ipython3",
   "version": "3.6.5"
  }
 },
 "nbformat": 4,
 "nbformat_minor": 2
}
