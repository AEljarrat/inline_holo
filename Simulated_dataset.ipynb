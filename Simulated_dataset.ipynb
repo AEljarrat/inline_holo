{
 "cells": [
  {
   "cell_type": "markdown",
   "metadata": {},
   "source": [
    "# Inline holography with a simulated dataset\n",
    "This notebook showcases the functionality of the inline_holo python module using a simulated focal series dataset. These functionalities are accessed using the scripts below, that can be taken as example code, modified and reused in different applications. The simulated dataset is generated from an input wave (Wave.hdf5) and parameters, also given below together in a separate cell. Multi-focus TIE and gaussian-process TIE algorithms are used to obtain the low-spatial frequency information from the focal series. The Gerchberg-Saxton algorithm is finally used to also include high-spatial frequencies in these solutions. Validation tests are produced to explore the quality of these solutions."
   ]
  },
  {
   "cell_type": "code",
   "execution_count": 1,
   "metadata": {},
   "outputs": [],
   "source": [
    "# some useful tools\n",
    "%matplotlib qt\n",
    "import matplotlib.pyplot as plt\n",
    "import numpy as np\n",
    "\n",
    "import hyperspy.api as hs\n",
    "\n",
    "# inline_holo tools\n",
    "from image_tools import *\n",
    "from inline_holo import *\n",
    "from inline_holo import ModifiedImage as MI\n",
    "from inline_holo import ComplexModifiedImage as CMI\n",
    "\n",
    "from time import time as t"
   ]
  },
  {
   "cell_type": "markdown",
   "metadata": {},
   "source": [
    "The cell below defines some scripts used to run the calculations and to store the results in a consistent manner."
   ]
  },
  {
   "cell_type": "code",
   "execution_count": 2,
   "metadata": {},
   "outputs": [],
   "source": [
    "use_gpu = False"
   ]
  },
  {
   "cell_type": "code",
   "execution_count": 3,
   "metadata": {},
   "outputs": [],
   "source": [
    "def noiser(fs, SNR, seed=None):\n",
    "    # Remove padding and add some noise\n",
    "    fsn = fs.unset_padding()\n",
    "    fsn.data += add_noise_gauss(fsn.data, SNR,seed)\n",
    "\n",
    "    # Re-do padding\n",
    "    fsu = fsn.set_padding(((Nypad, Nypad), (Nxpad, Nxpad)), 'reflect')\n",
    "    #fsu = fsn.set_padding(((200, 200), (200, 200)), 'constant', constant_values=fsn.data.mean())\n",
    "\n",
    "    fsu.data = fsu.data.astype('float32')\n",
    "    fsu.data = np.ascontiguousarray(fsu.data)\n",
    "    fsu.data[fsu.data<0.] = 1e-4\n",
    "    return fsu\n",
    "\n",
    "def three_plane_slicer(fs, idz):\n",
    "    # idz = 1, 2, 3...\n",
    "    Ndz = np.int(np.floor(len(fs) / 2))\n",
    "    n1 = Ndz-idz\n",
    "    n2 = idz-Ndz if Ndz != idz else None\n",
    "    fs_idz=fs.inav[n1:n2:idz]\n",
    "    fs_idz.axes_manager[0].axis = zdef[n1:n2:idz]\n",
    "    return fs_idz\n",
    "\n",
    "def do_mftie(fsi, SNR, lothres, hithres, Nbutter=100):\n",
    "    results = {'SNR': SNR, \n",
    "               'hithres': hithres, \n",
    "               'lothres': lothres,\n",
    "               'defocus' : fsi.axes_manager[0].axis}\n",
    "\n",
    "    # MFTIE\n",
    "    mftie = MFTIE(fsi, use_gpu, lothres, hithres, alpha, SNR, Nbutter=Nbutter)\n",
    "    phase = mftie(False)\n",
    "    \n",
    "    # MFTIE, validate\n",
    "    PhV = phase.unset_padding().set_padding(((Nypad, Nypad), (Nxpad, Nxpad)), 'reflect')\n",
    "    val = validation(PhV, phase_org, False)\n",
    "    frc = val.run_fourier_ring_correlation(d2d=False)\n",
    "    rmse_real, rmse_rcpr = val.run_rmse_check() \n",
    "    \n",
    "    # save MFTIE results\n",
    "    inv_lap = fsi.inav[len(fsi)//2+1:].deepcopy()\n",
    "    if use_gpu:\n",
    "        inv_lap.data = mftie.inverse_laplacian.get()\n",
    "        results.update({'Phi_dz': mftie.phdata.get()})\n",
    "    else:\n",
    "        inv_lap.data = mftie.inverse_laplacian.copy()\n",
    "        results.update({'Phi_dz': mftie.phdata.copy()})\n",
    "        \n",
    "    results.update({'Phi' : phase})\n",
    "    results.update({'Nm2' : inv_lap})\n",
    "    results.update({'k2H' : mftie.k2_hi_thres})\n",
    "    results.update({'k2L' : mftie.k2_lo_thres})\n",
    "    results.update({'frc' : frc})\n",
    "    results.update({'RMSE2' : mftie.rmse2n})\n",
    "    \n",
    "    rmse_rcpr.data = np.fft.fftshift(rmse_rcpr.data, (-2,-1))\n",
    "    results.update({'rms' : rmse_rcpr.integrate_radial(512)})\n",
    "    \n",
    "    return results\n",
    "\n",
    "def do_gptie(fsi, Nsl):\n",
    "    results = {'Nsl': Nsl, \n",
    "               'defocus' : fsi.axes_manager[0].axis[-1]}\n",
    "\n",
    "    # GPTIE\n",
    "    gptie = GPTIE(fsi, Nsl=Nsl)\n",
    "    phase = gptie(False)\n",
    "    \n",
    "    # GPTIE, validate\n",
    "    PhV = phase.unset_padding().set_padding(((Nypad, Nypad), (Nxpad, Nxpad)), 'reflect')\n",
    "    val = validation(PhV, phase_org, False)\n",
    "    frc = val.run_fourier_ring_correlation(d2d=False)\n",
    "    rmse_real, rmse_rcpr = val.run_rmse_check() \n",
    "    \n",
    "    \n",
    "    # save GPTIE results\n",
    "    results.update({'Phi' : phase})\n",
    "    results.update({'frc' : frc})\n",
    "    \n",
    "    rmse_rcpr.data = np.fft.fftshift(rmse_rcpr.data, (-2,-1))\n",
    "    results.update({'rms' : rmse_rcpr.integrate_radial(512)})\n",
    "    \n",
    "    return results\n",
    "\n",
    "def do_gsref(fsi, wave_init, ctf, Niters):\n",
    "    results = {'Nsl': Niters, \n",
    "               'defocus' : fsi.axes_manager[0].axis[-1]}\n",
    "\n",
    "    # GSref\n",
    "    gsref = GS(fsi, wave_init, ctf, alpha, use_gpu)\n",
    "    wave = gsref(Niters)\n",
    "    \n",
    "    # GSref, validate phase\n",
    "    phase = wave.deepcopy()\n",
    "    phase.data = np.angle(wave.data) \n",
    "    PhV = phase.unset_padding().set_padding(((Nypad, Nypad), (Nxpad, Nxpad)), 'reflect')\n",
    "    val = validation(PhV, phase_org, False)\n",
    "    frc_phi = val.run_fourier_ring_correlation(d2d=False)\n",
    "    rmse_real, rmse_rcpr_phi = val.run_rmse_check() \n",
    "    \n",
    "    # GSref, validate intensity\n",
    "    amplitude = wave.deepcopy()\n",
    "    amplitude.data = np.abs(wave.data) \n",
    "    AmV = phase.unset_padding().set_padding(((Nypad, Nypad), (Nxpad, Nxpad)), 'reflect')\n",
    "    val = validation(AmV, ampli_org, False)\n",
    "    frc_amp = val.run_fourier_ring_correlation(d2d=False)\n",
    "    rmse_real, rmse_rcpr_amp = val.run_rmse_check() \n",
    "    \n",
    "    # save GSref results\n",
    "    results.update({'Phi' : phase})\n",
    "    results.update({'frc_phi' : frc_phi})\n",
    "    \n",
    "    results.update({'Amp' : amplitude})\n",
    "    results.update({'frc_amp' : frc_amp})\n",
    "    \n",
    "    rmse_rcpr_phi.data = np.fft.fftshift(rmse_rcpr_phi.data, (-2,-1))\n",
    "    results.update({'rms_phi' : rmse_rcpr_phi.integrate_radial(512)})\n",
    "    \n",
    "    rmse_rcpr_amp.data = np.fft.fftshift(rmse_rcpr_amp.data, (-2,-1))\n",
    "    results.update({'rms_amp' : rmse_rcpr_amp.integrate_radial(512)})\n",
    "    \n",
    "    return results"
   ]
  },
  {
   "cell_type": "markdown",
   "metadata": {},
   "source": [
    "## 1. Define input parameters"
   ]
  },
  {
   "cell_type": "code",
   "execution_count": 4,
   "metadata": {},
   "outputs": [],
   "source": [
    "# PARAMETERS\n",
    "alpha       = 0.       # uScope: Convergergence (set to 0 for coherent illumiation)\n",
    "NA          = 0.6      # uScope: Num Aperture \n",
    "wlen        = 0.5      # uScope: Wave-length\n",
    "nref        = 1.       # uScope: Refractive index\n",
    "\n",
    "defmin      = 1.0      # Experiment: Smallest defocus plane\n",
    "defmax      = 150.     # Experiment: Largest defocus plane\n",
    "Ndef        = 10       # Experiment: Number of defocus planes\n",
    "\n",
    "fsmooth     = 2.       # FS-Simulation: Cosine-Bell smooth \n",
    "\n",
    "lothres     = 1.0      # MFTIE: low-freq threshold\n",
    "hithres     = 0.25     # MFTIE: high-freq threshold\n",
    "Nsl         = 50       # GPTIE: binning\n",
    "Niters      = 25       # GSref: Iterations"
   ]
  },
  {
   "cell_type": "code",
   "execution_count": 5,
   "metadata": {},
   "outputs": [],
   "source": [
    "# load original wave\n",
    "wave = hs.load('Wave.hdf5')\n",
    "wave.__class__ = CMI\n",
    "Ny, Nx = wave.unset_padding().axes_manager.signal_shape\n",
    "Nypad, Nxpad = (int(Ny/2), int(Nx/2))\n",
    "wave = wave.unset_padding().set_padding(((Nypad, Nypad), (Nxpad, Nxpad)), 'reflect')\n",
    "\n",
    "# calculate original phase\n",
    "phase_org = wave.deepcopy()\n",
    "phase_org.data = np.angle(wave.data)\n",
    "\n",
    "# calculate original amplitude\n",
    "ampli_org = wave.deepcopy()\n",
    "ampli_org.data = np.abs(wave.data)"
   ]
  },
  {
   "cell_type": "code",
   "execution_count": 6,
   "metadata": {},
   "outputs": [],
   "source": [
    "# Useful to know\n",
    "wnum = 2. * np.pi / wlen\n",
    "q = np.linspace(0., wnum, 256)\n",
    "q2= q**2."
   ]
  },
  {
   "cell_type": "markdown",
   "metadata": {},
   "source": [
    "This below is a plot of the input wave"
   ]
  },
  {
   "cell_type": "code",
   "execution_count": 7,
   "metadata": {},
   "outputs": [],
   "source": [
    "wave.unset_padding().plot(representation='polar')"
   ]
  },
  {
   "cell_type": "markdown",
   "metadata": {},
   "source": [
    "## 2.A: 3 defoci experiment"
   ]
  },
  {
   "cell_type": "markdown",
   "metadata": {},
   "source": [
    "Select the defocus planes for the simulation: 1, 5 and 10"
   ]
  },
  {
   "cell_type": "code",
   "execution_count": 8,
   "metadata": {},
   "outputs": [],
   "source": [
    "SNR = 20"
   ]
  },
  {
   "cell_type": "code",
   "execution_count": 9,
   "metadata": {},
   "outputs": [
    {
     "name": "stdout",
     "output_type": "stream",
     "text": [
      "[-10.  -5.  -1.   0.   1.   5.  10.]\n"
     ]
    }
   ],
   "source": [
    "dz = np.array([1., 5., 10.])\n",
    "zdef = np.concatenate( [-dz[::-1], np.array([0,]), dz])\n",
    "print(np.round(zdef,1))"
   ]
  },
  {
   "cell_type": "code",
   "execution_count": 10,
   "metadata": {},
   "outputs": [
    {
     "name": "stderr",
     "output_type": "stream",
     "text": [
      "C:\\Users\\aeljarrat\\inline_holo\\inline_holo.py:538: RuntimeWarning: invalid value encountered in sqrt\n",
      "  Chi = np.sqrt(wnum**2-k2) - wnum\n"
     ]
    },
    {
     "name": "stdout",
     "output_type": "stream",
     "text": [
      "CTF-Sim time: 3.1626360416412354\n"
     ]
    }
   ],
   "source": [
    "from CTFSim import CTFSim\n",
    "\n",
    "# Project the wave to the selected planes\n",
    "t0 = t()\n",
    "ctsim = CTFSim(wave, zdef, alpha, use_gpu, None, wlen, nref, NA, 2.)\n",
    "fs = ctsim(False)\n",
    "Tsim = t()-t0\n",
    "print('CTF-Sim time:', Tsim)\n",
    "\n",
    "del CTFSim, ctsim "
   ]
  },
  {
   "cell_type": "code",
   "execution_count": 11,
   "metadata": {},
   "outputs": [
    {
     "name": "stderr",
     "output_type": "stream",
     "text": [
      "C:\\Users\\aeljarrat\\inline_holo\\MFTIE.py:294: RuntimeWarning: divide by zero encountered in true_divide\n",
      "  nabla_minus_2 = (1. / k2) * (1./(1.+(k2/k2Hi[:,None,None])**Nbutter)) * \\\n",
      "C:\\Users\\aeljarrat\\inline_holo\\MFTIE.py:294: RuntimeWarning: overflow encountered in power\n",
      "  nabla_minus_2 = (1. / k2) * (1./(1.+(k2/k2Hi[:,None,None])**Nbutter)) * \\\n",
      "C:\\Users\\aeljarrat\\inline_holo\\MFTIE.py:295: RuntimeWarning: overflow encountered in power\n",
      "  (1.-1./(1.+(k2/k2Lo[:,None,None])**Nbutter))\n",
      "C:\\Users\\aeljarrat\\inline_holo\\MFTIE.py:295: RuntimeWarning: invalid value encountered in multiply\n",
      "  (1.-1./(1.+(k2/k2Lo[:,None,None])**Nbutter))\n",
      "100%|████████████████████████████████████████████████████████████████████████████████████| 1/1 [00:00<00:00, 12.01it/s]\n",
      "C:\\Users\\aeljarrat\\inline_holo\\inline_holo.py:538: RuntimeWarning: invalid value encountered in sqrt\n",
      "  Chi = np.sqrt(wnum**2-k2) - wnum\n",
      "100%|██████████████████████████████████████████████████████████████████████████████████| 25/25 [02:14<00:00,  5.38s/it]\n",
      "100%|████████████████████████████████████████████████████████████████████████████████████| 1/1 [00:00<00:00, 10.50it/s]\n",
      "100%|████████████████████████████████████████████████████████████████████████████████████| 1/1 [00:00<00:00, 10.78it/s]\n"
     ]
    }
   ],
   "source": [
    "# Apply noise\n",
    "fsn = noiser(fs, SNR, seed=12345)\n",
    "\n",
    "# Do TIE !!!\n",
    "sim_mfivx = do_mftie(fsn, SNR, lothres, hithres, Nbutter=1000)\n",
    "\n",
    "# Get in-focus Amplitude\n",
    "Nm  = get_middle(fsn)\n",
    "amp = fsn.inav[Nm]\n",
    "\n",
    "# Get init-waves\n",
    "wave_ivx = sim_mfivx['Phi'].deepcopy()\n",
    "wave_ivx.data = np.sqrt(amp.data) * np.exp(1j*sim_mfivx['Phi'].data)\n",
    "\n",
    "# Get CTF\n",
    "ctf = amp.get_contrast_transfer(zdef)\n",
    "\n",
    "# Do GSref !!\n",
    "sim_gsivx = do_gsref(fsn, wave_ivx, ctf, Niters)"
   ]
  },
  {
   "cell_type": "markdown",
   "metadata": {},
   "source": [
    "## 2.B: 21 defoci experiment"
   ]
  },
  {
   "cell_type": "markdown",
   "metadata": {},
   "source": [
    "Select the defocus planes for the simulation: geometric progression. "
   ]
  },
  {
   "cell_type": "code",
   "execution_count": 12,
   "metadata": {},
   "outputs": [
    {
     "name": "stdout",
     "output_type": "stream",
     "text": [
      "[-150.   -86.   -49.3  -28.2  -16.2   -9.3   -5.3   -3.    -1.7   -1.\n",
      "    0.     1.     1.7    3.     5.3    9.3   16.2   28.2   49.3   86.\n",
      "  150. ]\n"
     ]
    }
   ],
   "source": [
    "dz = np.logspace(np.log10(defmin), np.log10(defmax), 10)\n",
    "zdef = np.concatenate( [-dz[::-1], np.array([0,]), dz])\n",
    "print(np.round(zdef,1))"
   ]
  },
  {
   "cell_type": "markdown",
   "metadata": {},
   "source": [
    "Additional noise level is higher."
   ]
  },
  {
   "cell_type": "code",
   "execution_count": 13,
   "metadata": {},
   "outputs": [],
   "source": [
    "SNR = 15"
   ]
  },
  {
   "cell_type": "code",
   "execution_count": 14,
   "metadata": {},
   "outputs": [
    {
     "name": "stderr",
     "output_type": "stream",
     "text": [
      "C:\\Users\\aeljarrat\\inline_holo\\inline_holo.py:538: RuntimeWarning: invalid value encountered in sqrt\n",
      "  Chi = np.sqrt(wnum**2-k2) - wnum\n"
     ]
    },
    {
     "name": "stdout",
     "output_type": "stream",
     "text": [
      "CTF-Sim time: 9.042755842208862\n"
     ]
    }
   ],
   "source": [
    "from CTFSim import CTFSim\n",
    "\n",
    "# Project the wave to the selected planes\n",
    "t0 = t()\n",
    "ctsim = CTFSim(wave, zdef, alpha, use_gpu, None, wlen, nref, NA, 2.)\n",
    "fs = ctsim(False)\n",
    "Tsim = t()-t0\n",
    "print('CTF-Sim time:', Tsim)\n",
    "\n",
    "del CTFSim, ctsim "
   ]
  },
  {
   "cell_type": "code",
   "execution_count": 15,
   "metadata": {
    "scrolled": false
   },
   "outputs": [
    {
     "name": "stderr",
     "output_type": "stream",
     "text": [
      "C:\\Users\\aeljarrat\\inline_holo\\MFTIE.py:294: RuntimeWarning: divide by zero encountered in true_divide\n",
      "  nabla_minus_2 = (1. / k2) * (1./(1.+(k2/k2Hi[:,None,None])**Nbutter)) * \\\n",
      "C:\\Users\\aeljarrat\\inline_holo\\MFTIE.py:295: RuntimeWarning: invalid value encountered in multiply\n",
      "  (1.-1./(1.+(k2/k2Lo[:,None,None])**Nbutter))\n",
      "100%|████████████████████████████████████████████████████████████████████████████████████| 1/1 [00:00<00:00, 11.93it/s]\n",
      "C:\\Users\\aeljarrat\\inline_holo\\GPTIE.py:149: FutureWarning: `rcond` parameter will change to the default of machine precision times ``max(M, N)`` where M and N are the input matrix dimensions.\n",
      "To use the future default and silence this warning we advise to pass `rcond=None`, to keep using the old, explicitly pass `rcond=-1`.\n",
      "  Coeff = np.linalg.lstsq(L, np.linalg.lstsq(L.T, D)[0])[0]\n",
      "100%|████████████████████████████████████████████████████████████████████████████████████| 1/1 [00:00<00:00, 11.85it/s]\n",
      "C:\\Users\\aeljarrat\\inline_holo\\inline_holo.py:538: RuntimeWarning: invalid value encountered in sqrt\n",
      "  Chi = np.sqrt(wnum**2-k2) - wnum\n",
      "100%|██████████████████████████████████████████████████████████████████████████████████| 25/25 [06:36<00:00, 15.85s/it]\n",
      "100%|████████████████████████████████████████████████████████████████████████████████████| 1/1 [00:00<00:00, 11.80it/s]\n",
      "100%|████████████████████████████████████████████████████████████████████████████████████| 1/1 [00:00<00:00, 11.97it/s]\n",
      "100%|██████████████████████████████████████████████████████████████████████████████████| 25/25 [06:44<00:00, 16.16s/it]\n",
      "100%|████████████████████████████████████████████████████████████████████████████████████| 1/1 [00:00<00:00, 10.90it/s]\n",
      "100%|████████████████████████████████████████████████████████████████████████████████████| 1/1 [00:00<00:00, 10.67it/s]\n"
     ]
    }
   ],
   "source": [
    "# Apply noise\n",
    "fsn = noiser(fs, SNR, seed=12345)\n",
    "\n",
    "# Do TIE !!!\n",
    "sim_mftie = do_mftie(fsn, SNR, lothres, hithres, Nbutter=10)\n",
    "sim_gptie = do_gptie(fsn, Nsl)\n",
    "\n",
    "# Get in-focus Amplitude\n",
    "Nm  = get_middle(fsn)\n",
    "amp = fsn.inav[Nm]\n",
    "\n",
    "# Get init-waves\n",
    "wave_mf = sim_mftie['Phi'].deepcopy()\n",
    "wave_mf.data = np.sqrt(amp.data) * np.exp(1j*sim_mftie['Phi'].data)\n",
    "\n",
    "wave_gp = sim_gptie['Phi'].deepcopy()\n",
    "wave_gp.data = np.sqrt(amp.data) * np.exp(1j*sim_gptie['Phi'].data)\n",
    "\n",
    "# Get CTF\n",
    "ctf = amp.get_contrast_transfer(zdef)\n",
    "\n",
    "# Do GSref !!\n",
    "sim_mf_gs = do_gsref(fsn, wave_mf, ctf, Niters)\n",
    "sim_gp_gs = do_gsref(fsn, wave_gp, ctf, Niters)"
   ]
  },
  {
   "cell_type": "markdown",
   "metadata": {},
   "source": [
    "## 3. plotting time"
   ]
  },
  {
   "cell_type": "code",
   "execution_count": 16,
   "metadata": {},
   "outputs": [],
   "source": [
    "psi_list = [sim_gsivx['Phi'].unset_padding() + 0.3, sim_gsivx['Amp'].unset_padding(),  \n",
    "            sim_mf_gs['Phi'].unset_padding() + 0.3, sim_mf_gs['Amp'].unset_padding(),   \n",
    "            sim_gp_gs['Phi'].unset_padding() + 0.3, sim_gp_gs['Amp'].unset_padding()]\n",
    "\n",
    "frc_list = [[sim_mfivx['frc'], sim_gsivx['frc_phi']],\n",
    "            [sim_mftie['frc'], sim_mf_gs['frc_phi']],\n",
    "            [sim_gptie['frc'], sim_gp_gs['frc_phi']]]\n",
    "\n",
    "rms_list = [[sim_mfivx['rms'], sim_gsivx['rms_phi']],\n",
    "            [sim_mftie['rms'], sim_mf_gs['rms_phi']],\n",
    "            [sim_gptie['rms'], sim_gp_gs['rms_phi']]]\n",
    "\n",
    "kax = sim_mftie['frc'].axes_manager[-1].axis\n",
    "\n",
    "dz = sim_mfivx['defocus'].copy()\n",
    "dz = dz[len(dz)//2+1:]\n",
    "x_arrstr = np.char.mod('%i', dz)\n",
    "\n",
    "dz = sim_mftie['defocus'].copy()\n",
    "dzM = round(dz[len(dz)//2+1:].max(),1)\n",
    "dzm = round(dz[len(dz)//2+1:].min(),1)\n",
    "labels = [r'MFTIE, $\\delta z='+\",\".join(x_arrstr)+'\\mu m$',\n",
    "          r'MFTIE, $\\delta z='+np.str(dzm)+'-'+np.str(dzM)+'\\mu m$',\n",
    "          r'GPTIE, $\\delta z='+np.str(dzm)+'-'+np.str(dzM)+'\\mu m$',] \n"
   ]
  },
  {
   "cell_type": "markdown",
   "metadata": {},
   "source": [
    "### Plot reconstructed waves \n",
    "These are obtained after TIE inversion and GS refinement."
   ]
  },
  {
   "cell_type": "code",
   "execution_count": 17,
   "metadata": {},
   "outputs": [],
   "source": [
    "from string import ascii_lowercase as alph\n",
    "\n",
    "size_factor = 2\n",
    "\n",
    "h, w = plt.figaspect(3/2.)\n",
    "h, w = size_factor*h, size_factor*w\n",
    "f = plt.figure(figsize=(h, w))\n",
    "\n",
    "#f = plt.figure()\n",
    "axs = hs.plot.plot_images(psi_list, per_row=2, scalebar=[0,], colorbar=None, axes_decor='off', fig=f)\n",
    "\n",
    "# set amplitude clim\n",
    "for io, axi in enumerate(axs[::2]):\n",
    "    imi = axi.images[0]\n",
    "    imi.set_clim(vmin=0., vmax=1.)\n",
    "    axi.set_title('('+alph[2*io]+')', loc='left', fontweight='bold')\n",
    "    axi.text(0.02, 0.97, r'$\\Phi_0$', transform=axi.transAxes, \n",
    "             fontweight='bold', color='white', ha='left', va='top', alpha=0.5)\n",
    "    \n",
    "# set phases clim\n",
    "for io, axi in enumerate(axs[1::2]):\n",
    "    imi = axi.images[0]\n",
    "    imi.set_clim(vmin=0.8, vmax=3.2)\n",
    "    axi.set_title('('+alph[2*io+1]+')', loc='left', fontweight='bold')\n",
    "    axi.text(0.98, 0.97, labels[io][:5]+'+'+str(Niters)+'xGS\\n'+labels[io][6:], \n",
    "             transform=axi.transAxes, \n",
    "             fontweight='bold', color='white', ha='right', va='top', alpha=0.5)\n",
    "    axi.text(0.02, 0.97, r'$I_0$', transform=axi.transAxes, \n",
    "             fontweight='bold', color='white', ha='left', va='top', alpha=0.5)\n",
    "    \n",
    "sbar = axs[0].scalebar\n",
    "sbar.line.set_lw(4.)\n",
    "oldtxt = sbar.text.get_text()\n",
    "sbar.text.set_text(oldtxt[:6]+'${\\mu m}$')\n",
    "\n",
    "f.show()\n",
    "plt.pause(0.1) # wtf matplotlib\n",
    "\n",
    "new_pos = (sbar.position[0]+10, sbar.position[1]-5.)\n",
    "sbar.text.set_position(new_pos)\n",
    "\n",
    "# custom scalebars, horizontal\n",
    "posA = axs[-2].get_position()\n",
    "caxA = f.add_axes([posA.x0, posA.y0-0.03, posA.width, 0.02])\n",
    "cbarA = f.colorbar(axs[-2].images[0], orientation='horizontal', cax=caxA)\n",
    "cbarA.set_ticks([0.0, 0.5, 1.0])\n",
    "\n",
    "posB = axs[-1].get_position()\n",
    "caxB = f.add_axes([posB.x0, posB.y0-0.03, posB.width, 0.02])\n",
    "cbarB = f.colorbar(axs[-1].images[0], orientation='horizontal', cax=caxB)\n",
    "cbarB.set_ticks([1., 2., 3.])\n",
    "\n",
    "#f.subplots_adjust(wspace=0.1, hspace=0.15)"
   ]
  },
  {
   "cell_type": "markdown",
   "metadata": {},
   "source": [
    "## Plot reconstruction validations"
   ]
  },
  {
   "cell_type": "markdown",
   "metadata": {},
   "source": [
    "### Fourier ring correlation (FRC)"
   ]
  },
  {
   "cell_type": "code",
   "execution_count": 18,
   "metadata": {},
   "outputs": [
    {
     "data": {
      "text/plain": [
       "Text(0,0.5,'FRC-$\\\\Phi$, Fourier ring correlation, phase [a.u.]')"
      ]
     },
     "execution_count": 18,
     "metadata": {},
     "output_type": "execute_result"
    }
   ],
   "source": [
    "from string import ascii_lowercase as alph\n",
    "\n",
    "Nplots = len(frc_list)\n",
    "fig, axs = plt.subplots(Nplots, 1, sharex=True, figsize=(11.,8.))\n",
    "\n",
    "for io, axi in enumerate(axs):\n",
    "    axi.plot(kax, frc_list[io][0], '--k')\n",
    "    axi.plot(kax, frc_list[io][1], '-k')\n",
    "    axi.grid(which='major',axis='y')\n",
    "    axi.set_yticks([0., 0.25, 0.5, 0.75, 1.])\n",
    "    axi.set_ylim(0., 1.05)\n",
    "    axi.set_xlim(0., wnum)\n",
    "    axi.set_title(labels[io], loc='right')\n",
    "    axi.set_title('('+alph[io]+')', loc='left', fontweight='bold')\n",
    "    #axi.set_xscale('log')\n",
    "\n",
    "axi.legend(['FRC-$\\Phi$, TIE', 'FRC-$\\Phi$, TIE+GS'], loc='lower left', frameon=False)\n",
    "axs[-1].set_xlabel(r'$q=|\\mathbf{q}|$, spatial frequency modulus $[{\\mu m}^{-1}]$')\n",
    "md=Nplots // 2\n",
    "axs[md].set_ylabel(r'FRC-$\\Phi$, Fourier ring correlation, phase [a.u.]') "
   ]
  },
  {
   "cell_type": "markdown",
   "metadata": {},
   "source": [
    "### Root-mean-square error (RMSE)"
   ]
  },
  {
   "cell_type": "code",
   "execution_count": 23,
   "metadata": {},
   "outputs": [
    {
     "name": "stderr",
     "output_type": "stream",
     "text": [
      "C:\\Users\\aeljarrat\\AppData\\Local\\conda\\conda\\envs\\hyperspy_dev\\lib\\site-packages\\matplotlib\\axes\\_base.py:3129: UserWarning: Attempted to set non-positive xlimits for log-scale axis; invalid limits will be ignored.\n",
      "  'Attempted to set non-positive xlimits for log-scale axis; '\n"
     ]
    },
    {
     "data": {
      "text/plain": [
       "Text(0,0.5,'$d_q$RMSE$^2$, differential root-mean-square error  $[rad^2 {\\\\mu m}]$')"
      ]
     },
     "execution_count": 23,
     "metadata": {},
     "output_type": "execute_result"
    }
   ],
   "source": [
    "from string import ascii_lowercase as alph\n",
    "\n",
    "Nplots = len(rms_list)\n",
    "fig, axs = plt.subplots(Nplots,1, sharex=True, figsize=(11.,8.))\n",
    "\n",
    "for io, axi in enumerate(axs):\n",
    "    s1 = rms_list[io][0]\n",
    "    kax1 = s1.axes_manager.signal_axes[0].axis\n",
    "    axi.plot(kax1, s1.data, '-k')\n",
    "    \n",
    "    s2 = rms_list[io][1]\n",
    "    kax2 = s2.axes_manager.signal_axes[0].axis\n",
    "    axi.plot(kax2, s2.data, '--k')\n",
    "    axi.grid(which='major',axis='y')\n",
    "    \n",
    "    axi.set_yscale('log')\n",
    "    axi.set_xscale('log')\n",
    "    axi.set_ylim(1e0, 1e4)\n",
    "    axi.set_xlim(0., wnum)\n",
    "    \n",
    "    axi.set_title(labels[io], loc='right')\n",
    "    axi.set_title('('+alph[io]+')', loc='left', fontweight='bold')\n",
    "    \n",
    "    \n",
    "axi.legend(['Error, TIE', 'Error, TIE+GS'], loc='upper right', frameon=False)\n",
    "\n",
    "axs[-1].set_xlabel(r'$q=|\\mathbf{q}|$, spatial frequency modulus $[{\\mu m}^{-1}]$')\n",
    "md=Nplots // 2\n",
    "axs[md].set_ylabel(r'$d_q$RMSE$^2$, differential root-mean-square error  $[rad^2 {\\mu m}]$')    "
   ]
  },
  {
   "cell_type": "markdown",
   "metadata": {},
   "source": [
    "## Some comparisons"
   ]
  },
  {
   "cell_type": "code",
   "execution_count": 35,
   "metadata": {},
   "outputs": [
    {
     "name": "stderr",
     "output_type": "stream",
     "text": [
      "C:\\Users\\aeljarrat\\AppData\\Local\\conda\\conda\\envs\\hyperspy_dev\\lib\\site-packages\\matplotlib\\axes\\_base.py:3129: UserWarning: Attempted to set non-positive xlimits for log-scale axis; invalid limits will be ignored.\n",
      "  'Attempted to set non-positive xlimits for log-scale axis; '\n"
     ]
    },
    {
     "data": {
      "text/plain": [
       "Text(0,0.5,'$d_q$RMSE$^2$, differential root-mean-square error  $[rad^2 {\\\\mu m}]$')"
      ]
     },
     "execution_count": 35,
     "metadata": {},
     "output_type": "execute_result"
    }
   ],
   "source": [
    "from string import ascii_lowercase as alph\n",
    "\n",
    "c1 = 'b'\n",
    "c2 = 'r'\n",
    "\n",
    "Nplots = len(frc_list)\n",
    "f, ax = plt.subplots(Nplots,1, sharex=True, figsize=(11.,8.))\n",
    "for io, axi in enumerate(ax):\n",
    "    \n",
    "    axi.plot(kax, frc_list[io][0], '-'+c1, label='FRC, TIE')\n",
    "    axi.plot(kax, np.abs(frc_list[io][0]), '-'+c1, alpha=0.5)\n",
    "    \n",
    "    axi.plot(kax, frc_list[io][1], '--'+c1, label='FRC, TIE+GS')\n",
    "    axi.plot(kax, np.abs(frc_list[io][1]), '--'+c1, alpha=0.5)\n",
    "    \n",
    "    axi.set_title(labels[io], loc='right')\n",
    "    axi.set_title('('+alph[io]+')', loc='left', fontweight='bold')\n",
    "    \n",
    "    axi.set_ylim(0., 1.05)\n",
    "    axi.tick_params('y', colors=c1)\n",
    "    \n",
    "    # twin axis\n",
    "    axt = axi.twinx()\n",
    "    s1 = rms_list[io][0]\n",
    "    kax1 = s1.axes_manager.signal_axes[0].axis\n",
    "    axt.plot(kax1, s1.data, '-'+c2, label=r'$d_q$RMSE$^2$, TIE' )\n",
    "    s2 = rms_list[io][1]\n",
    "    kax2 = s2.axes_manager.signal_axes[0].axis\n",
    "    axt.plot(kax2, s2.data, '--'+c2, label=r'$d_q$RMSE$^2$, TIE+GS')\n",
    "    \n",
    "    axt.set_yscale('log')\n",
    "    axt.set_xscale('log')\n",
    "    axt.set_ylim(1e0, 1e4)\n",
    "    axt.set_xlim(0., wnum)\n",
    "    axt.tick_params('y', colors=c2)\n",
    "        \n",
    "f.axes[0].legend(loc='lower left', frameon=False)\n",
    "f.axes[4].legend(loc='lower left', frameon=False)\n",
    "\n",
    "ax[-1].set_xlabel(r'$q=|\\mathbf{q}|$, spatial frequency modulus $[{\\mu m}^{-1}]$')\n",
    "md=Nplots // 2\n",
    "ax[md].set_ylabel(r'FRC, Fourier ring correlation [a.u.]', color=c1)\n",
    "f.axes[md+Nplots].set_ylabel(r'$d_q$RMSE$^2$, differential root-mean-square error  $[rad^2 {\\mu m}]$', \n",
    "                             color=c2, va='bottom', rotation=270)    "
   ]
  },
  {
   "cell_type": "code",
   "execution_count": 34,
   "metadata": {},
   "outputs": [
    {
     "name": "stderr",
     "output_type": "stream",
     "text": [
      "C:\\Users\\aeljarrat\\AppData\\Local\\conda\\conda\\envs\\hyperspy_dev\\lib\\site-packages\\matplotlib\\axes\\_base.py:3129: UserWarning: Attempted to set non-positive xlimits for log-scale axis; invalid limits will be ignored.\n",
      "  'Attempted to set non-positive xlimits for log-scale axis; '\n"
     ]
    },
    {
     "data": {
      "text/plain": [
       "Text(0,0.5,'$d_q$RMSE$^2$, differential root-mean-square error  $[rad^2 {\\\\mu m}]$')"
      ]
     },
     "execution_count": 34,
     "metadata": {},
     "output_type": "execute_result"
    }
   ],
   "source": [
    "from string import ascii_lowercase as alph\n",
    "\n",
    "c1 = 'b'\n",
    "c2 = 'r'\n",
    "\n",
    "Nplots = len(frc_list)\n",
    "gs_kw = {'width_ratios':[1, 3], 'wspace':0.25}\n",
    "f, ax = plt.subplots(Nplots,2, sharex='col', gridspec_kw=gs_kw, figsize=(11.,8.))\n",
    "\n",
    "#kax = sim_chi_3p[0]['frc'].axes_manager[0].axis\n",
    "\n",
    "# images\n",
    "axs = ax[:,0]\n",
    "phases = [sim_gsivx['Phi'].unset_padding() + 0.3,   \n",
    "          sim_mf_gs['Phi'].unset_padding() + 0.3,    \n",
    "          sim_gp_gs['Phi'].unset_padding() + 0.3]\n",
    "\n",
    "for io, axi in enumerate(axs):\n",
    "    imi = axi.imshow(phases[io].data)\n",
    "    imi.set_clim(vmin=0., vmax=1.)\n",
    "    axi.set_axis_off()\n",
    "    #axi.set_title(r'$\\delta z='+str(np.round(dz[io],0))+'\\mu m$', loc='right')\n",
    "    axi.set_title('('+alph[io]+')', loc='left', fontweight='bold')\n",
    "\n",
    "# sbar tech\n",
    "hs.hyperspy.drawing.widgets.ScaleBar(axi, '${\\mu m}$', pixel_size=0.2)\n",
    "\n",
    "# custom scalebar, horizontal\n",
    "pos = axs[-1].get_position()\n",
    "cax = f.add_axes([pos.x0, pos.y0-0.03, pos.width, 0.02])\n",
    "cbar = f.colorbar(axs[-1].images[0], orientation='horizontal', cax=cax)\n",
    "cbar.set_ticks([0.0, 0.5, 1.0])\n",
    "\n",
    "\n",
    "# validations\n",
    "axl = ax[:,1]\n",
    "axr = []\n",
    "for io, axi in enumerate(ax[:,1]):\n",
    "    \n",
    "    axi.plot(kax, frc_list[io][0], '-'+c1, label='TIE')\n",
    "    axi.plot(kax, np.abs(frc_list[io][0]), '-'+c1, alpha=0.5)\n",
    "    \n",
    "    axi.plot(kax, frc_list[io][1], '--'+c1, label='TIE+GS')\n",
    "    axi.plot(kax, np.abs(frc_list[io][1]), '--'+c1, alpha=0.5)\n",
    "    \n",
    "    axi.set_title(labels[io], loc='right')\n",
    "    #axi.set_title('('+alph[io+3]+')', loc='left', fontweight='bold')\n",
    "    \n",
    "    axi.set_ylim(0., 1.05)\n",
    "    axi.tick_params('y', colors=c1)\n",
    "    \n",
    "    # twin axis\n",
    "    axt = axi.twinx()\n",
    "    s1 = rms_list[io][0]\n",
    "    kax1 = s1.axes_manager.signal_axes[0].axis\n",
    "    axt.plot(kax1, s1.data, '-'+c2, label=r'$d_q$RMSE$^2$, TIE' )\n",
    "    s2 = rms_list[io][1]\n",
    "    kax2 = s2.axes_manager.signal_axes[0].axis\n",
    "    axt.plot(kax2, s2.data, '--'+c2, label=r'$d_q$RMSE$^2$, TIE+GS')\n",
    "    \n",
    "    axt.set_yscale('log')\n",
    "    axt.set_xscale('log')\n",
    "    axt.set_ylim(1e0, 1e4)\n",
    "    axt.set_xlim(0., wnum)\n",
    "    axt.tick_params('y', which='both', colors=c2)\n",
    "    axr.append(axt)\n",
    "    \n",
    "axl[-1].legend(loc='lower left', frameon=False)\n",
    "\n",
    "ax[-1,1].set_xlabel(r'$q=|\\mathbf{q}|$, spatial frequency modulus $[{\\mu m}^{-1}]$')\n",
    "md=Nplots // 2\n",
    "ax[md,1].set_ylabel(r'FRC, Fourier ring correlation [a.u.]', color=c1)\n",
    "f.axes[md+2*Nplots+1].set_ylabel(r'$d_q$RMSE$^2$, differential root-mean-square error  $[rad^2 {\\mu m}]$', \n",
    "                               color=c2, va='bottom', rotation=270)  "
   ]
  },
  {
   "cell_type": "markdown",
   "metadata": {},
   "source": [
    "## Inverse Laplacian\n",
    "This plot compares the multi-focus inverse Laplacian filters from MFTIE with the actual inverse Laplacian $q^{-2}$. The additional application of these filters has to be equal to this function. **This only holds if alpha is set to 0**, in case partial spatial coherence is present, the inverse Laplacian filters take this into account and the normalization is different than $q^{-2}$."
   ]
  },
  {
   "cell_type": "code",
   "execution_count": 36,
   "metadata": {},
   "outputs": [],
   "source": [
    "nm2 = sim_mftie['Nm2'].deepcopy()\n",
    "nm2.data = np.fft.fftshift(nm2.data, axes = (-2, -1))"
   ]
  },
  {
   "cell_type": "code",
   "execution_count": 39,
   "metadata": {},
   "outputs": [
    {
     "name": "stderr",
     "output_type": "stream",
     "text": [
      "C:\\Users\\aeljarrat\\AppData\\Local\\conda\\conda\\envs\\hyperspy_dev\\lib\\site-packages\\ipykernel\\__main__.py:8: RuntimeWarning: divide by zero encountered in true_divide\n",
      "\n",
      "  0%|                                                                                           | 0/12 [00:00<?, ?it/s]\n",
      "  8%|██████▉                                                                            | 1/12 [00:00<00:02,  4.95it/s]\n",
      " 75%|██████████████████████████████████████████████████████████████▎                    | 9/12 [00:00<00:00,  6.85it/s]\n",
      "100%|██████████████████████████████████████████████████████████████████████████████████| 12/12 [00:00<00:00, 34.46it/s]"
     ]
    }
   ],
   "source": [
    "k2 = fsn.get_fourier_space()\n",
    "kscale = np.sqrt(k2[1,0])\n",
    "k2 = np.fft.fftshift(k2, (-2,-1))\n",
    "\n",
    "# collect inverse Laplacian\n",
    "iLap = np.concatenate( [nm2.data, \n",
    "                        np.sqrt((nm2.data**2.).sum(0))[None,...],\n",
    "                        (1./k2)[None,...]] )\n",
    "\n",
    "iLap = MI(iLap)\n",
    "\n",
    "# compute integral\n",
    "Ndec = 0\n",
    "S_iLap_dr = iLap.integrate_radial()\n",
    "# Do not plot this signal directly: \n",
    "# the scale is no longer linear for Ndec > 1!!!"
   ]
  },
  {
   "cell_type": "code",
   "execution_count": 40,
   "metadata": {},
   "outputs": [
    {
     "data": {
      "text/plain": [
       "Text(0,0.5,'$\\\\hat\\\\nabla^{-2}$, inverse Laplacian filters $[{\\\\mu m}^2]$')"
      ]
     },
     "execution_count": 40,
     "metadata": {},
     "output_type": "execute_result"
    }
   ],
   "source": [
    "f = plt.figure()\n",
    "ax = f.add_subplot(111)\n",
    "\n",
    "qrnd = S_iLap_dr.axes_manager[-1].axis * kscale\n",
    "for si in S_iLap_dr:\n",
    "    ax.plot(qrnd, si.data, mew=0.5)\n",
    "\n",
    "ax.set_yscale('log')\n",
    "ax.set_xscale('log')\n",
    "ax.set_ylim(1e-3, 1e3)\n",
    "ax.set_xlim(0.03, wnum)\n",
    "ax.set_xlabel(r'$q=|\\mathbf{q}|$, spatial frequency modulus $[{\\mu m}^{-1}]$')\n",
    "ax.set_ylabel(r'$\\hat\\nabla^{-2}$, inverse Laplacian filters $[{\\mu m}^2]$')    "
   ]
  },
  {
   "cell_type": "markdown",
   "metadata": {},
   "source": [
    "# GFTIE experiment\n",
    "This is sort of a different experiment. We remove the boundary conditions from the dataset and build them up again using the gradient-flipping algorithm (GFTIE). **This algorithm does not take into account partial spatial coherence**, meaning the experiment works better with alpha = 0."
   ]
  },
  {
   "cell_type": "code",
   "execution_count": 41,
   "metadata": {},
   "outputs": [],
   "source": [
    "from GFTIE import GFTIE"
   ]
  },
  {
   "cell_type": "code",
   "execution_count": 43,
   "metadata": {},
   "outputs": [
    {
     "name": "stderr",
     "output_type": "stream",
     "text": [
      "C:\\Users\\aeljarrat\\inline_holo\\MFTIE.py:294: RuntimeWarning: divide by zero encountered in true_divide\n",
      "  nabla_minus_2 = (1. / k2) * (1./(1.+(k2/k2Hi[:,None,None])**Nbutter)) * \\\n",
      "C:\\Users\\aeljarrat\\inline_holo\\MFTIE.py:295: RuntimeWarning: invalid value encountered in multiply\n",
      "  (1.-1./(1.+(k2/k2Lo[:,None,None])**Nbutter))\n",
      "\n",
      "\n",
      "  0%|                                                                                            | 0/1 [00:00<?, ?it/s]\n",
      "\n",
      "100%|████████████████████████████████████████████████████████████████████████████████████| 1/1 [00:00<00:00, 11.24it/s]C:\\Users\\aeljarrat\\inline_holo\\GFTIE.py:86: RuntimeWarning: divide by zero encountered in true_divide\n",
      "  nabla_minus_2 = (1. / np.repeat(k2[None,...], len(adef), 0) )\n"
     ]
    },
    {
     "name": "stdout",
     "output_type": "stream",
     "text": [
      "Starting GF; Rlp = 5 um\n"
     ]
    },
    {
     "name": "stderr",
     "output_type": "stream",
     "text": [
      "\n",
      "\n",
      "  0%|                                                                                           | 0/20 [00:00<?, ?it/s]\n",
      "\n",
      "  5%|████▏                                                                              | 1/20 [00:02<00:38,  2.01s/it]\n",
      "\n",
      "Chi2 = 0.0010280546603986054; dChi2 = 0.9998971945339601\n",
      ":  10%|██▍                     | 2/20 [00:07<00:53,  2.99s/it]\n",
      "\n",
      "Chi2 = 0.0005447173733054711; dChi2 = 0.47014745977196487\n",
      ":  15%|███▍                   | 3/20 [00:12<01:02,  3.69s/it]\n",
      "\n",
      "Chi2 = 0.000480639225496952; dChi2 = 0.11763558672578782\n",
      ":  20%|████▊                   | 4/20 [00:17<01:06,  4.18s/it]\n",
      "\n",
      "Chi2 = 0.00047932498946417573; dChi2 = 0.002734350346494125\n",
      ":  25%|█████▎               | 5/20 [00:23<01:07,  4.53s/it]\n",
      "\n",
      "Chi2 = 0.00047645446821027656; dChi2 = 0.005988674316997443\n",
      ":  30%|██████▎              | 6/20 [00:28<01:06,  4.78s/it]\n",
      "\n",
      "Chi2 = 0.00047771261287327; dChi2 = 0.002640639865797628\n",
      ":  35%|████████▍               | 7/20 [00:33<01:04,  4.92s/it]\n",
      "\n",
      "Chi2 = 0.0004783826911571906; dChi2 = 0.0014026807454177866\n",
      ":  40%|████████▍            | 8/20 [00:39<01:00,  5.00s/it]\n",
      "\n",
      "Chi2 = 0.00047885079353834404; dChi2 = 0.0009785102801715957\n",
      ":  45%|█████████           | 9/20 [00:44<00:55,  5.08s/it]\n",
      "\n",
      "Chi2 = 0.00047996196089333506; dChi2 = 0.002320487654996518\n",
      ":  50%|██████████          | 10/20 [00:49<00:51,  5.17s/it]\n",
      "\n",
      "Chi2 = 0.0004801303208276785; dChi2 = 0.0003507776616923538\n",
      ":  55%|███████████         | 11/20 [00:55<00:47,  5.24s/it]\n",
      "\n",
      "Chi2 = 0.0004810719825609951; dChi2 = 0.00196126279151315\n",
      ":  60%|█████████████▏        | 12/20 [01:00<00:42,  5.27s/it]\n",
      "\n",
      "Chi2 = 0.00048128775430631316; dChi2 = 0.0004485227848219331\n",
      ":  65%|████████████▎      | 13/20 [01:05<00:36,  5.27s/it]\n",
      "\n",
      "Chi2 = 0.00048210237881813207; dChi2 = 0.0016925934735094997\n",
      ":  70%|█████████████▎     | 14/20 [01:10<00:31,  5.25s/it]\n",
      "\n",
      "Chi2 = 0.00048232968030568595; dChi2 = 0.0004714797054333399\n",
      ":  75%|██████████████▎    | 15/20 [01:16<00:26,  5.25s/it]\n",
      "\n",
      "Chi2 = 0.0004831529678222922; dChi2 = 0.0017068978962365613\n",
      ":  80%|████████████████    | 16/20 [01:21<00:20,  5.25s/it]\n",
      "\n",
      "Chi2 = 0.0004834929471636059; dChi2 = 0.0007036681216014759\n",
      ":  85%|█████████████████   | 17/20 [01:26<00:15,  5.23s/it]\n",
      "\n",
      "Chi2 = 0.0004841772092354568; dChi2 = 0.001415247266511558\n",
      ":  90%|██████████████████▉  | 18/20 [01:31<00:10,  5.23s/it]\n",
      "\n",
      "Chi2 = 0.0004844806081952852; dChi2 = 0.0006266279247374621\n",
      ":  95%|███████████████████ | 19/20 [01:37<00:05,  5.23s/it]\n",
      "\n",
      "Chi2 = 0.00048491991745263746; dChi2 = 0.000906763345985578\n",
      ": 100%|████████████████████| 20/20 [01:42<00:00,  5.22s/it]"
     ]
    }
   ],
   "source": [
    "Npad = 100\n",
    "\n",
    "fs_gftie = fsn.unset_padding()\n",
    "fs_gftie = fs_gftie.set_padding(((Npad, Npad), (Npad, Npad)), 'constant', constant_values=fs_gftie.data.mean())\n",
    "\n",
    "# Generate initial phase result\n",
    "sim_gftie = do_mftie(fs_gftie, SNR, lothres, hithres, Nbutter=10)\n",
    "ph_gftie = sim_gftie['Phi']\n",
    "\n",
    "# Do GFTIE\n",
    "D = GFTIE(fs_gftie, ph_gftie, 20, 5)\n",
    "mftie = MFTIE(fs_gftie, False, 1e5, 0.25, alpha, SNR, True)\n",
    "mftie.set_dzI(D)\n",
    "ph_flip = mftie(False)"
   ]
  },
  {
   "cell_type": "markdown",
   "metadata": {},
   "source": [
    "GS refinement of the MFTIE and GFTIE results"
   ]
  },
  {
   "cell_type": "code",
   "execution_count": 44,
   "metadata": {},
   "outputs": [
    {
     "name": "stderr",
     "output_type": "stream",
     "text": [
      "C:\\Users\\aeljarrat\\inline_holo\\inline_holo.py:538: RuntimeWarning: invalid value encountered in sqrt\n",
      "  Chi = np.sqrt(wnum**2-k2) - wnum\n",
      "\n",
      "\n",
      "\n",
      "  0%|                                                                                           | 0/25 [00:00<?, ?it/s]\n",
      "\n",
      "\n",
      "  4%|███▎                                                                               | 1/25 [00:11<04:35, 11.48s/it]\n",
      "\n",
      "\n",
      "  8%|██████▋                                                                            | 2/25 [00:22<04:23, 11.45s/it]\n",
      "\n",
      "\n",
      " 12%|█████████▉                                                                         | 3/25 [00:34<04:14, 11.55s/it]\n",
      "\n",
      "\n",
      " 16%|█████████████▎                                                                     | 4/25 [00:46<04:03, 11.58s/it]\n",
      "\n",
      "\n",
      " 20%|████████████████▌                                                                  | 5/25 [00:58<03:52, 11.62s/it]\n",
      "\n",
      "\n",
      " 24%|███████████████████▉                                                               | 6/25 [01:09<03:40, 11.63s/it]\n",
      "\n",
      "\n",
      " 28%|███████████████████████▏                                                           | 7/25 [01:21<03:29, 11.64s/it]\n",
      "\n",
      "\n",
      " 32%|██████████████████████████▌                                                        | 8/25 [01:33<03:17, 11.65s/it]\n",
      "\n",
      "\n",
      " 36%|█████████████████████████████▉                                                     | 9/25 [01:44<03:06, 11.65s/it]\n",
      "\n",
      "\n",
      " 40%|████████████████████████████████▊                                                 | 10/25 [01:56<02:54, 11.66s/it]\n",
      "\n",
      "\n",
      " 44%|████████████████████████████████████                                              | 11/25 [02:08<02:43, 11.67s/it]\n",
      "\n",
      "\n",
      " 48%|███████████████████████████████████████▎                                          | 12/25 [02:19<02:31, 11.66s/it]\n",
      "\n",
      "\n",
      " 52%|██████████████████████████████████████████▋                                       | 13/25 [02:31<02:19, 11.66s/it]\n",
      "\n",
      "\n",
      " 56%|█████████████████████████████████████████████▉                                    | 14/25 [02:43<02:08, 11.67s/it]\n",
      "\n",
      "\n",
      " 60%|█████████████████████████████████████████████████▏                                | 15/25 [02:55<01:56, 11.67s/it]\n",
      "\n",
      "\n",
      " 64%|████████████████████████████████████████████████████▍                             | 16/25 [03:06<01:45, 11.67s/it]\n",
      "\n",
      "\n",
      " 68%|███████████████████████████████████████████████████████▊                          | 17/25 [03:18<01:33, 11.70s/it]\n",
      "\n",
      "\n",
      " 72%|███████████████████████████████████████████████████████████                       | 18/25 [03:30<01:21, 11.71s/it]\n",
      "\n",
      "\n",
      " 76%|██████████████████████████████████████████████████████████████▎                   | 19/25 [03:42<01:10, 11.71s/it]\n",
      "\n",
      "\n",
      " 80%|█████████████████████████████████████████████████████████████████▌                | 20/25 [03:54<00:58, 11.72s/it]\n",
      "\n",
      "\n",
      " 84%|████████████████████████████████████████████████████████████████████▉             | 21/25 [04:06<00:46, 11.72s/it]\n",
      "\n",
      "\n",
      " 88%|████████████████████████████████████████████████████████████████████████▏         | 22/25 [04:17<00:35, 11.72s/it]\n",
      "\n",
      "\n",
      " 92%|███████████████████████████████████████████████████████████████████████████▍      | 23/25 [04:30<00:23, 11.75s/it]\n",
      "\n",
      "\n",
      " 96%|██████████████████████████████████████████████████████████████████████████████▋   | 24/25 [04:42<00:11, 11.76s/it]\n",
      "\n",
      "\n",
      "100%|██████████████████████████████████████████████████████████████████████████████████| 25/25 [04:54<00:00, 11.77s/it]\n",
      "\n",
      "\n",
      "\n",
      "\n",
      "\n",
      "  0%|                                                                                            | 0/1 [00:00<?, ?it/s]\n",
      "\n",
      "\n",
      "100%|████████████████████████████████████████████████████████████████████████████████████| 1/1 [00:00<00:00, 11.39it/s]\n",
      "\n",
      "\n",
      "  0%|                                                                                            | 0/1 [00:00<?, ?it/s]\n",
      "\n",
      "\n",
      "100%|████████████████████████████████████████████████████████████████████████████████████| 1/1 [00:00<00:00, 11.66it/s]\n",
      "\n",
      "\n",
      "  0%|                                                                                           | 0/25 [00:00<?, ?it/s]\n",
      "\n",
      "\n",
      "  4%|███▎                                                                               | 1/25 [00:11<04:43, 11.79s/it]\n",
      "\n",
      "\n",
      "  8%|██████▋                                                                            | 2/25 [00:23<04:31, 11.82s/it]\n",
      "\n",
      "\n",
      " 12%|█████████▉                                                                         | 3/25 [00:35<04:20, 11.83s/it]\n",
      "\n",
      "\n",
      " 16%|█████████████▎                                                                     | 4/25 [00:47<04:08, 11.83s/it]\n",
      "\n",
      "\n",
      " 20%|████████████████▌                                                                  | 5/25 [00:59<03:56, 11.85s/it]\n",
      "\n",
      "\n",
      " 24%|███████████████████▉                                                               | 6/25 [01:11<03:44, 11.83s/it]\n",
      "\n",
      "\n",
      " 28%|███████████████████████▏                                                           | 7/25 [01:23<03:33, 11.86s/it]\n",
      "\n",
      "\n",
      " 32%|██████████████████████████▌                                                        | 8/25 [01:34<03:21, 11.87s/it]\n",
      "\n",
      "\n",
      " 36%|█████████████████████████████▉                                                     | 9/25 [01:46<03:09, 11.85s/it]\n",
      "\n",
      "\n",
      " 40%|████████████████████████████████▊                                                 | 10/25 [01:58<02:57, 11.84s/it]\n",
      "\n",
      "\n",
      " 44%|████████████████████████████████████                                              | 11/25 [02:10<02:45, 11.83s/it]\n",
      "\n",
      "\n",
      " 48%|███████████████████████████████████████▎                                          | 12/25 [02:21<02:33, 11.83s/it]\n",
      "\n",
      "\n",
      " 52%|██████████████████████████████████████████▋                                       | 13/25 [02:33<02:21, 11.82s/it]\n",
      "\n",
      "\n",
      " 56%|█████████████████████████████████████████████▉                                    | 14/25 [02:45<02:10, 11.82s/it]\n",
      "\n",
      "\n",
      " 60%|█████████████████████████████████████████████████▏                                | 15/25 [02:57<01:58, 11.82s/it]\n",
      "\n",
      "\n",
      " 64%|████████████████████████████████████████████████████▍                             | 16/25 [03:09<01:46, 11.81s/it]\n",
      "\n",
      "\n",
      " 68%|███████████████████████████████████████████████████████▊                          | 17/25 [03:20<01:34, 11.81s/it]\n",
      "\n",
      "\n",
      " 72%|███████████████████████████████████████████████████████████                       | 18/25 [03:32<01:22, 11.81s/it]\n",
      "\n",
      "\n",
      " 76%|██████████████████████████████████████████████████████████████▎                   | 19/25 [03:44<01:10, 11.81s/it]\n",
      "\n",
      "\n",
      " 80%|█████████████████████████████████████████████████████████████████▌                | 20/25 [03:56<00:59, 11.80s/it]\n",
      "\n",
      "\n",
      " 84%|████████████████████████████████████████████████████████████████████▉             | 21/25 [04:07<00:47, 11.80s/it]\n",
      "\n",
      "\n",
      " 88%|████████████████████████████████████████████████████████████████████████▏         | 22/25 [04:19<00:35, 11.81s/it]\n",
      "\n",
      "\n",
      " 92%|███████████████████████████████████████████████████████████████████████████▍      | 23/25 [04:32<00:23, 11.84s/it]\n",
      "\n",
      "\n",
      " 96%|██████████████████████████████████████████████████████████████████████████████▋   | 24/25 [04:44<00:11, 11.87s/it]\n",
      "\n",
      "\n",
      "100%|██████████████████████████████████████████████████████████████████████████████████| 25/25 [04:56<00:00, 11.85s/it]\n",
      "\n",
      "\n",
      "\n",
      "\n",
      "\n",
      "  0%|                                                                                            | 0/1 [00:00<?, ?it/s]\n",
      "\n",
      "\n",
      "100%|████████████████████████████████████████████████████████████████████████████████████| 1/1 [00:00<00:00, 11.12it/s]\n",
      "\n",
      "\n",
      "  0%|                                                                                            | 0/1 [00:00<?, ?it/s]\n",
      "\n",
      "\n",
      "100%|████████████████████████████████████████████████████████████████████████████████████| 1/1 [00:00<00:00, 11.81it/s]"
     ]
    }
   ],
   "source": [
    "# Get in-focus Amplitude\n",
    "Nm  = get_middle(fs_gftie)\n",
    "amp = fs_gftie.inav[Nm]\n",
    "\n",
    "# Get init-waves\n",
    "wave_gf = sim_gftie['Phi'].deepcopy()\n",
    "wave_gf.data = np.sqrt(amp.data) * np.exp(1j*ph_flip.data)\n",
    "\n",
    "wave_mf = sim_gftie['Phi'].deepcopy()\n",
    "wave_mf.data = np.sqrt(amp.data) * np.exp(1j*sim_gftie['Phi'].data)\n",
    "\n",
    "# Get CTF\n",
    "ctf = amp.get_contrast_transfer(zdef)\n",
    "\n",
    "# Do GSref !!\n",
    "sim_gf_gs = do_gsref(fs_gftie, wave_gf, ctf, Niters)\n",
    "sim_mf_gs = do_gsref(fs_gftie, wave_mf, ctf, Niters)"
   ]
  },
  {
   "cell_type": "markdown",
   "metadata": {},
   "source": [
    "Plot the results"
   ]
  },
  {
   "cell_type": "code",
   "execution_count": 57,
   "metadata": {},
   "outputs": [],
   "source": [
    "phase_org = MI(phase_org.real)"
   ]
  },
  {
   "cell_type": "code",
   "execution_count": 60,
   "metadata": {},
   "outputs": [],
   "source": [
    "plt_list = [phase_org, ph_gftie, ph_flip, \n",
    "            phase_org, sim_mf_gs['Phi'], sim_gf_gs['Phi']]\n",
    "lbl_list = [r'$\\Phi$', 'MFTIE', 'GFTIE',\n",
    "            r'$\\Phi$', 'MFTIE+GS', 'GFTIE+GS']"
   ]
  },
  {
   "cell_type": "code",
   "execution_count": 61,
   "metadata": {},
   "outputs": [
    {
     "name": "stderr",
     "output_type": "stream",
     "text": [
      "WARNING:hyperspy.drawing.utils:vmin have to be a scalar to be compatible with a single colorbar\n",
      "WARNING:hyperspy.drawing.utils:vmax have to be a scalar to be compatible with a single colorbar\n"
     ]
    },
    {
     "data": {
      "text/plain": [
       "Text(0.5,0.98,'gradient flipping results including pad region')"
      ]
     },
     "execution_count": 61,
     "metadata": {},
     "output_type": "execute_result"
    }
   ],
   "source": [
    "f = plt.figure(figsize=(15., 15.))\n",
    "hs.plot.plot_images(plt_list, label=lbl_list,\n",
    "                    per_row=3, axes_decor='off', colorbar='single', fig=f)\n",
    "plt.suptitle('gradient flipping results including pad region')"
   ]
  },
  {
   "cell_type": "code",
   "execution_count": 62,
   "metadata": {},
   "outputs": [
    {
     "name": "stderr",
     "output_type": "stream",
     "text": [
      "WARNING:hyperspy.drawing.utils:vmin have to be a scalar to be compatible with a single colorbar\n",
      "WARNING:hyperspy.drawing.utils:vmax have to be a scalar to be compatible with a single colorbar\n"
     ]
    },
    {
     "data": {
      "text/plain": [
       "Text(0.5,0.98,'gradient flipping results including pad region')"
      ]
     },
     "execution_count": 62,
     "metadata": {},
     "output_type": "execute_result"
    }
   ],
   "source": [
    "f = plt.figure(figsize=(15., 15.))\n",
    "hs.plot.plot_images([pi.unset_padding() for pi in plt_list], label=lbl_list,\n",
    "                    per_row=3, axes_decor='off', colorbar='single', fig=f)\n",
    "plt.suptitle('gradient flipping results including pad region')"
   ]
  },
  {
   "cell_type": "code",
   "execution_count": 63,
   "metadata": {},
   "outputs": [],
   "source": [
    "f, ax = plt.subplots(1,1, figsize=(11., 8.))\n",
    "hs.plot.plot_spectra([sim_mf_gs['frc_phi'], sim_gf_gs['frc_phi']], \n",
    "                     legend=['MFTIE+GS', 'GFTIE+GS'], legend_loc='best', \n",
    "                     fig=f, ax=ax)\n",
    "ax.set_ylim(0.25, 1.05)\n",
    "ax.set_xscale('log')"
   ]
  },
  {
   "cell_type": "code",
   "execution_count": null,
   "metadata": {},
   "outputs": [],
   "source": []
  }
 ],
 "metadata": {
  "anaconda-cloud": {},
  "kernelspec": {
   "display_name": "Python [conda env:hyperspy_dev]",
   "language": "python",
   "name": "conda-env-hyperspy_dev-py"
  },
  "language_info": {
   "codemirror_mode": {
    "name": "ipython",
    "version": 3
   },
   "file_extension": ".py",
   "mimetype": "text/x-python",
   "name": "python",
   "nbconvert_exporter": "python",
   "pygments_lexer": "ipython3",
   "version": "3.6.5"
  }
 },
 "nbformat": 4,
 "nbformat_minor": 1
}
