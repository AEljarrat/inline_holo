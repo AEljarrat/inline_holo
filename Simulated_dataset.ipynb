{
 "cells": [
  {
   "cell_type": "code",
   "execution_count": 14,
   "metadata": {
    "collapsed": false,
    "deletable": true,
    "editable": true
   },
   "outputs": [],
   "source": [
    "from image_tools import *\n",
    "from inline_holo import *\n",
    "from inline_holo import ModifiedImage as ModI\n",
    "\n",
    "from time import time as t"
   ]
  },
  {
   "cell_type": "code",
   "execution_count": 2,
   "metadata": {
    "collapsed": false,
    "deletable": true,
    "editable": true
   },
   "outputs": [],
   "source": [
    "plt.style.use('seaborn-poster')\n",
    "#plt.style.use('seaborn-paper')\n",
    "plt.rcParams['font.family'] = 'serif'"
   ]
  },
  {
   "cell_type": "markdown",
   "metadata": {},
   "source": [
    "These scripts are used to run the calculations and to store the results in a consistent manner."
   ]
  },
  {
   "cell_type": "code",
   "execution_count": null,
   "metadata": {
    "collapsed": true
   },
   "outputs": [],
   "source": [
    "use_gpu = True"
   ]
  },
  {
   "cell_type": "code",
   "execution_count": 3,
   "metadata": {
    "collapsed": false,
    "deletable": true,
    "editable": true
   },
   "outputs": [],
   "source": [
    "def noiser(fs, SNR, seed=None):\n",
    "    # Remove padding and add some noise\n",
    "    fsn = fs.unset_padding()\n",
    "    fsn.data += add_noise_gauss(fsn.data, SNR,seed)\n",
    "\n",
    "    # Re-do padding\n",
    "    fsu = fsn.set_padding(((Nypad, Nypad), (Nxpad, Nxpad)), 'reflect')\n",
    "    #fsu = fsn.set_padding(((200, 200), (200, 200)), 'constant', constant_values=fsn.data.mean())\n",
    "\n",
    "    fsu.data = fsu.data.astype('float32')\n",
    "    fsu.data = np.ascontiguousarray(fsu.data)\n",
    "    fsu.data[fsu.data<0.] = 1e-4\n",
    "    return fsu\n",
    "\n",
    "def three_plane_slicer(fs, idz):\n",
    "    # idz = 1, 2, 3...\n",
    "    Ndz = np.int(np.floor(len(fs) / 2))\n",
    "    n1 = Ndz-idz\n",
    "    n2 = idz-Ndz if Ndz != idz else None\n",
    "    fs_idz=fs.inav[n1:n2:idz]\n",
    "    fs_idz.axes_manager[0].axis = zdef[n1:n2:idz]\n",
    "    return fs_idz\n",
    "\n",
    "def do_mftie(fsi, SNR, lothres, hithres, Nbutter=100):\n",
    "    results = {'SNR': SNR, \n",
    "               'hithres': hithres, \n",
    "               'lothres': lothres,\n",
    "               'defocus' : fsi.axes_manager[0].axis}\n",
    "\n",
    "    # MFTIE\n",
    "    mftie = MFTIE(fsi, use_gpu, lothres, hithres, alpha, SNR, Nbutter=Nbutter)\n",
    "    phase = mftie(False)\n",
    "    inv_lap = fsi.inav[len(fsi)//2+1:].deepcopy()\n",
    "    inv_lap.data = mftie.inverse_laplacian.get()\n",
    "    \n",
    "    # MFTIE, validate\n",
    "    PhV = phase.unset_padding().set_padding(((Nypad, Nypad), (Nxpad, Nxpad)), 'reflect')\n",
    "    val = validation(PhV, phase_org, False)\n",
    "    frc = val.run_fourier_ring_correlation(d2d=False)\n",
    "    rmse_real, rmse_rcpr = val.run_rmse_check() \n",
    "    \n",
    "    # save MFTIE results\n",
    "    results.update({'Phi' : phase})\n",
    "    results.update({'Nm2' : inv_lap})\n",
    "    results.update({'k2H' : mftie.k2_hi_thres})\n",
    "    results.update({'k2L' : mftie.k2_lo_thres})\n",
    "    results.update({'frc' : frc})\n",
    "    results.update({'RMSE2' : mftie.rmse2n})\n",
    "    results.update({'Phi_dz': mftie.phdata.get()})\n",
    "    \n",
    "    rmse_rcpr.data = np.fft.fftshift(rmse_rcpr.data, (-2,-1))\n",
    "    results.update({'rms' : rmse_rcpr.integrate_radial(False, 0)})\n",
    "    \n",
    "    return results\n",
    "\n",
    "def do_gptie(fsi, Nsl):\n",
    "    results = {'Nsl': Nsl, \n",
    "               'defocus' : fsi.axes_manager[0].axis[-1]}\n",
    "\n",
    "    # GPTIE\n",
    "    gptie = GPTIE(fsi, Nsl=Nsl)\n",
    "    phase = gptie(False)\n",
    "    \n",
    "    # GPTIE, validate\n",
    "    PhV = phase.unset_padding().set_padding(((Nypad, Nypad), (Nxpad, Nxpad)), 'reflect')\n",
    "    val = validation(PhV, phase_org, False)\n",
    "    frc = val.run_fourier_ring_correlation(d2d=False)\n",
    "    rmse_real, rmse_rcpr = val.run_rmse_check() \n",
    "    \n",
    "    \n",
    "    # save GPTIE results\n",
    "    results.update({'Phi' : phase})\n",
    "    results.update({'frc' : frc})\n",
    "    \n",
    "    rmse_rcpr.data = np.fft.fftshift(rmse_rcpr.data, (-2,-1))\n",
    "    results.update({'rms' : rmse_rcpr.integrate_radial(False, 0)})\n",
    "    \n",
    "    return results\n",
    "\n",
    "def do_gsref(fsi, wave_init, ctf, Niters):\n",
    "    results = {'Nsl': Niters, \n",
    "               'defocus' : fsi.axes_manager[0].axis[-1]}\n",
    "\n",
    "    # GSref\n",
    "    gsref = GS(fsi, wave_init, ctf, alpha, use_gpu)\n",
    "    wave = gsref(Niters)\n",
    "    \n",
    "    # GSref, validate phase\n",
    "    phase = wave.deepcopy()\n",
    "    phase.data = np.angle(wave.data) \n",
    "    PhV = phase.unset_padding().set_padding(((Nypad, Nypad), (Nxpad, Nxpad)), 'reflect')\n",
    "    val = validation(PhV, phase_org, False)\n",
    "    frc_phi = val.run_fourier_ring_correlation(d2d=False)\n",
    "    rmse_real, rmse_rcpr_phi = val.run_rmse_check() \n",
    "    \n",
    "    # GSref, validate intensity\n",
    "    amplitude = wave.deepcopy()\n",
    "    amplitude.data = np.abs(wave.data) \n",
    "    AmV = phase.unset_padding().set_padding(((Nypad, Nypad), (Nxpad, Nxpad)), 'reflect')\n",
    "    val = validation(AmV, ampli_org, False)\n",
    "    frc_amp = val.run_fourier_ring_correlation(d2d=False)\n",
    "    rmse_real, rmse_rcpr_amp = val.run_rmse_check() \n",
    "    \n",
    "    # save GSref results\n",
    "    results.update({'Phi' : phase})\n",
    "    results.update({'frc_phi' : frc_phi})\n",
    "    \n",
    "    results.update({'Amp' : amplitude})\n",
    "    results.update({'frc_amp' : frc_amp})\n",
    "    \n",
    "    rmse_rcpr_phi.data = np.fft.fftshift(rmse_rcpr_phi.data, (-2,-1))\n",
    "    results.update({'rms_phi' : rmse_rcpr_phi.integrate_radial(False, 0)})\n",
    "    \n",
    "    rmse_rcpr_amp.data = np.fft.fftshift(rmse_rcpr_amp.data, (-2,-1))\n",
    "    results.update({'rms_amp' : rmse_rcpr_amp.integrate_radial(False, 0)})\n",
    "    \n",
    "    return results"
   ]
  },
  {
   "cell_type": "markdown",
   "metadata": {
    "deletable": true,
    "editable": true
   },
   "source": [
    "# Simulation of multifocus dataset"
   ]
  },
  {
   "cell_type": "code",
   "execution_count": 8,
   "metadata": {
    "collapsed": true
   },
   "outputs": [],
   "source": [
    "# PARAMETERS\n",
    "alpha       = 0.       # uScope: Convergergence\n",
    "NA          = 0.6      # uScope: Num Aperture \n",
    "wlen        = 0.5      # uScope: Wave-length\n",
    "nref        = 1.       # uScope: Refractive index\n",
    "\n",
    "defmin      = 1.0      # Experiment: Smallest defocus plane\n",
    "defmax      = 150.     # Experiment: Largest defocus plane\n",
    "Ndef        = 10       # Experiment: Number of defocus planes\n",
    "\n",
    "fsmooth     = 2.       # FS-Simulation: Cosine-Bell smooth \n",
    "\n",
    "lothres     = 1.0      # MFTIE: low-freq threshold\n",
    "hithres     = 0.25     # MFTIE: high-freq threshold\n",
    "Nsl         = 50       # GPTIE: binning\n",
    "Niters      = 25       # GSref: Iterations"
   ]
  },
  {
   "cell_type": "code",
   "execution_count": 9,
   "metadata": {
    "collapsed": false
   },
   "outputs": [
    {
     "name": "stderr",
     "output_type": "stream",
     "text": [
      "c:\\users\\johannes\\anaconda3\\lib\\site-packages\\hyperspy\\io.py:341: FutureWarning: Conversion of the second argument of issubdtype from `complex` to `np.complexfloating` is deprecated. In future, it will be treated as `np.complex128 == np.dtype(complex).type`.\n",
      "  if np.issubdtype(dtype, complex):\n",
      "c:\\users\\johannes\\anaconda3\\lib\\site-packages\\hyperspy\\_signals\\complex_signal.py:97: FutureWarning: Conversion of the second argument of issubdtype from `complex` to `np.complexfloating` is deprecated. In future, it will be treated as `np.complex128 == np.dtype(complex).type`.\n",
      "  if not np.issubdtype(self.data.dtype, complex):\n"
     ]
    }
   ],
   "source": [
    "# load original wave\n",
    "wave = hs.load('Wave.hdf5')\n",
    "wave.__class__ = ModI\n",
    "Ny, Nx = wave.unset_padding().axes_manager.signal_shape\n",
    "Nypad, Nxpad = (int(Ny/2), int(Nx/2))\n",
    "wave = wave.unset_padding().set_padding(((Nypad, Nypad), (Nxpad, Nxpad)), 'reflect')\n",
    "\n",
    "# calculate original phase\n",
    "phase_org = wave.deepcopy()\n",
    "phase_org.data = np.angle(wave.data)\n",
    "\n",
    "# calculate original amplitude\n",
    "ampli_org = wave.deepcopy()\n",
    "ampli_org.data = np.abs(wave.data)"
   ]
  },
  {
   "cell_type": "code",
   "execution_count": 10,
   "metadata": {
    "collapsed": false,
    "deletable": true,
    "editable": true
   },
   "outputs": [],
   "source": [
    "# Useful to know\n",
    "wnum = 2. * np.pi / wlen\n",
    "q = np.linspace(0., wnum, 256)\n",
    "q2= q**2."
   ]
  },
  {
   "cell_type": "markdown",
   "metadata": {
    "deletable": true,
    "editable": true
   },
   "source": [
    "## 3 defoci experiment"
   ]
  },
  {
   "cell_type": "markdown",
   "metadata": {
    "deletable": true,
    "editable": true
   },
   "source": [
    "Select the defocus planes for the simulation: 1, 5 and 10"
   ]
  },
  {
   "cell_type": "code",
   "execution_count": 15,
   "metadata": {
    "collapsed": true,
    "deletable": true,
    "editable": true
   },
   "outputs": [],
   "source": [
    "SNR = 20"
   ]
  },
  {
   "cell_type": "code",
   "execution_count": 16,
   "metadata": {
    "collapsed": false,
    "deletable": true,
    "editable": true
   },
   "outputs": [
    {
     "name": "stdout",
     "output_type": "stream",
     "text": [
      "[-10.  -5.  -1.   0.   1.   5.  10.]\n"
     ]
    }
   ],
   "source": [
    "dz = np.array([1., 5., 10.])\n",
    "zdef = np.concatenate( [-dz[::-1], np.array([0,]), dz])\n",
    "print(np.round(zdef,1))"
   ]
  },
  {
   "cell_type": "code",
   "execution_count": 17,
   "metadata": {
    "collapsed": false,
    "deletable": true,
    "editable": true
   },
   "outputs": [
    {
     "name": "stderr",
     "output_type": "stream",
     "text": [
      "E:\\Documents\\HUB_inline_holo_github\\inline_holo.py:502: RuntimeWarning: invalid value encountered in sqrt\n",
      "  Chi = np.sqrt(wnum**2-k2) - wnum\n"
     ]
    },
    {
     "name": "stdout",
     "output_type": "stream",
     "text": [
      "CTF-Sim time: 5.041808605194092\n"
     ]
    }
   ],
   "source": [
    "from CTFSim import CTFSim\n",
    "\n",
    "# Project the wave to the selected planes\n",
    "t0 = t()\n",
    "ctsim = CTFSim(wave, zdef, alpha, use_gpu, None, wlen, nref, NA, 2.)\n",
    "fs = ctsim(False)\n",
    "Tsim = t()-t0\n",
    "print('CTF-Sim time:', Tsim)\n",
    "\n",
    "del CTFSim, ctsim "
   ]
  },
  {
   "cell_type": "code",
   "execution_count": 18,
   "metadata": {
    "collapsed": false,
    "deletable": true,
    "editable": true
   },
   "outputs": [
    {
     "name": "stderr",
     "output_type": "stream",
     "text": [
      "E:\\Documents\\HUB_inline_holo_github\\MFTIE.py:288: RuntimeWarning: divide by zero encountered in true_divide\n",
      "  nabla_minus_2 = (1. / k2) * (1./(1.+(k2/k2Hi[:,None,None])**Nbutter)) * \\\n",
      "E:\\Documents\\HUB_inline_holo_github\\MFTIE.py:288: RuntimeWarning: overflow encountered in power\n",
      "  nabla_minus_2 = (1. / k2) * (1./(1.+(k2/k2Hi[:,None,None])**Nbutter)) * \\\n",
      "E:\\Documents\\HUB_inline_holo_github\\MFTIE.py:289: RuntimeWarning: overflow encountered in power\n",
      "  (1.-1./(1.+(k2/k2Lo[:,None,None])**Nbutter))\n",
      "E:\\Documents\\HUB_inline_holo_github\\MFTIE.py:289: RuntimeWarning: invalid value encountered in multiply\n",
      "  (1.-1./(1.+(k2/k2Lo[:,None,None])**Nbutter))\n",
      "E:\\Documents\\HUB_inline_holo_github\\inline_holo.py:502: RuntimeWarning: invalid value encountered in sqrt\n",
      "  Chi = np.sqrt(wnum**2-k2) - wnum\n",
      "100%|██████████████████████████████████████████| 25/25 [00:02<00:00,  8.98it/s]\n"
     ]
    }
   ],
   "source": [
    "# Apply noise\n",
    "fsn = noiser(fs, SNR, seed=12345)\n",
    "\n",
    "# Do TIE !!!\n",
    "sim_mfivx = do_mftie(fsn, SNR, lothres, hithres, Nbutter=1000)\n",
    "\n",
    "# Get in-focus Amplitude\n",
    "Nm  = get_middle(fsn)\n",
    "amp = fsn.inav[Nm]\n",
    "\n",
    "# Get init-waves\n",
    "wave_ivx = sim_mfivx['Phi'].deepcopy()\n",
    "wave_ivx.data = np.sqrt(amp.data) * np.exp(1j*sim_mfivx['Phi'].data)\n",
    "\n",
    "# Get CTF\n",
    "ctf = amp.get_contrast_transfer(zdef)\n",
    "\n",
    "# Do GSref !!\n",
    "sim_gsivx = do_gsref(fsn, wave_ivx, ctf, Niters)"
   ]
  },
  {
   "cell_type": "markdown",
   "metadata": {
    "deletable": true,
    "editable": true
   },
   "source": [
    "## 21 defoci experiment"
   ]
  },
  {
   "cell_type": "markdown",
   "metadata": {
    "deletable": true,
    "editable": true
   },
   "source": [
    "Select the defocus planes for the simulation: geometric progression. "
   ]
  },
  {
   "cell_type": "code",
   "execution_count": 24,
   "metadata": {
    "collapsed": false,
    "deletable": true,
    "editable": true
   },
   "outputs": [
    {
     "name": "stdout",
     "output_type": "stream",
     "text": [
      "[-150.   -86.   -49.3  -28.2  -16.2   -9.3   -5.3   -3.    -1.7   -1.\n",
      "    0.     1.     1.7    3.     5.3    9.3   16.2   28.2   49.3   86.\n",
      "  150. ]\n"
     ]
    }
   ],
   "source": [
    "dz = np.logspace(np.log10(defmin), np.log10(defmax), 10)\n",
    "zdef = np.concatenate( [-dz[::-1], np.array([0,]), dz])\n",
    "print(np.round(zdef,1))"
   ]
  },
  {
   "cell_type": "markdown",
   "metadata": {},
   "source": [
    "Additional noise level is higher."
   ]
  },
  {
   "cell_type": "code",
   "execution_count": 23,
   "metadata": {
    "collapsed": true,
    "deletable": true,
    "editable": true
   },
   "outputs": [],
   "source": [
    "SNR = 15"
   ]
  },
  {
   "cell_type": "code",
   "execution_count": 25,
   "metadata": {
    "collapsed": false,
    "deletable": true,
    "editable": true
   },
   "outputs": [
    {
     "name": "stderr",
     "output_type": "stream",
     "text": [
      "E:\\Documents\\HUB_inline_holo_github\\inline_holo.py:502: RuntimeWarning: invalid value encountered in sqrt\n",
      "  Chi = np.sqrt(wnum**2-k2) - wnum\n"
     ]
    },
    {
     "name": "stdout",
     "output_type": "stream",
     "text": [
      "CTF-Sim time: 3.070756435394287\n"
     ]
    }
   ],
   "source": [
    "from CTFSim import CTFSim\n",
    "\n",
    "# Project the wave to the selected planes\n",
    "t0 = t()\n",
    "ctsim = CTFSim(wave, zdef, alpha, use_gpu, None, wlen, nref, NA, 2.)\n",
    "fs = ctsim(False)\n",
    "Tsim = t()-t0\n",
    "print('CTF-Sim time:', Tsim)\n",
    "\n",
    "del CTFSim, ctsim "
   ]
  },
  {
   "cell_type": "code",
   "execution_count": 22,
   "metadata": {
    "collapsed": false,
    "deletable": true,
    "editable": true,
    "scrolled": false
   },
   "outputs": [
    {
     "name": "stderr",
     "output_type": "stream",
     "text": [
      "E:\\Documents\\HUB_inline_holo_github\\MFTIE.py:288: RuntimeWarning: divide by zero encountered in true_divide\n",
      "  nabla_minus_2 = (1. / k2) * (1./(1.+(k2/k2Hi[:,None,None])**Nbutter)) * \\\n",
      "E:\\Documents\\HUB_inline_holo_github\\MFTIE.py:288: RuntimeWarning: overflow encountered in power\n",
      "  nabla_minus_2 = (1. / k2) * (1./(1.+(k2/k2Hi[:,None,None])**Nbutter)) * \\\n",
      "E:\\Documents\\HUB_inline_holo_github\\MFTIE.py:289: RuntimeWarning: overflow encountered in power\n",
      "  (1.-1./(1.+(k2/k2Lo[:,None,None])**Nbutter))\n",
      "E:\\Documents\\HUB_inline_holo_github\\MFTIE.py:289: RuntimeWarning: invalid value encountered in multiply\n",
      "  (1.-1./(1.+(k2/k2Lo[:,None,None])**Nbutter))\n",
      "E:\\Documents\\HUB_inline_holo_github\\GPTIE.py:149: FutureWarning: `rcond` parameter will change to the default of machine precision times ``max(M, N)`` where M and N are the input matrix dimensions.\n",
      "To use the future default and silence this warning we advise to pass `rcond=None`, to keep using the old, explicitly pass `rcond=-1`.\n",
      "  Coeff = np.linalg.lstsq(L, np.linalg.lstsq(L.T, D)[0])[0]\n",
      "E:\\Documents\\HUB_inline_holo_github\\inline_holo.py:502: RuntimeWarning: invalid value encountered in sqrt\n",
      "  Chi = np.sqrt(wnum**2-k2) - wnum\n",
      "100%|██████████████████████████████████████████| 25/25 [00:03<00:00, 11.37it/s]\n",
      "100%|██████████████████████████████████████████| 25/25 [00:03<00:00, 11.17it/s]\n"
     ]
    }
   ],
   "source": [
    "# Apply noise\n",
    "fsn = noiser(fs, SNR, seed=12345)\n",
    "\n",
    "# Do TIE !!!\n",
    "sim_mftie = do_mftie(fsn, SNR, lothres, hithres, Nbutter=1000)\n",
    "sim_gptie = do_gptie(fsn, Nsl)\n",
    "\n",
    "# Get in-focus Amplitude\n",
    "Nm  = get_middle(fsn)\n",
    "amp = fsn.inav[Nm]\n",
    "\n",
    "# Get init-waves\n",
    "wave_mf = sim_mftie['Phi'].deepcopy()\n",
    "wave_mf.data = np.sqrt(amp.data) * np.exp(1j*sim_mftie['Phi'].data)\n",
    "\n",
    "wave_gp = sim_gptie['Phi'].deepcopy()\n",
    "wave_gp.data = np.sqrt(amp.data) * np.exp(1j*sim_gptie['Phi'].data)\n",
    "\n",
    "# Get CTF\n",
    "ctf = amp.get_contrast_transfer(zdef)\n",
    "\n",
    "# Do GSref !!\n",
    "sim_mf_gs = do_gsref(fsn, wave_mf, ctf, Niters)\n",
    "sim_gp_gs = do_gsref(fsn, wave_gp, ctf, Niters)"
   ]
  },
  {
   "cell_type": "markdown",
   "metadata": {
    "deletable": true,
    "editable": true
   },
   "source": [
    "## OK plot!"
   ]
  },
  {
   "cell_type": "code",
   "execution_count": 26,
   "metadata": {
    "collapsed": false,
    "deletable": true,
    "editable": true
   },
   "outputs": [],
   "source": [
    "psi_list = [sim_gsivx['Phi'].unset_padding() + 0.3, sim_gsivx['Amp'].unset_padding(),  \n",
    "            sim_mf_gs['Phi'].unset_padding() + 0.3, sim_mf_gs['Amp'].unset_padding(),   \n",
    "            sim_gp_gs['Phi'].unset_padding() + 0.3, sim_gp_gs['Amp'].unset_padding()]\n",
    "\n",
    "frc_list = [[sim_mfivx['frc'], sim_gsivx['frc_phi']],\n",
    "            [sim_mftie['frc'], sim_mf_gs['frc_phi']],\n",
    "            [sim_gptie['frc'], sim_gp_gs['frc_phi']]]\n",
    "\n",
    "rms_list = [[sim_mfivx['rms'], sim_gsivx['rms_phi']],\n",
    "            [sim_mftie['rms'], sim_mf_gs['rms_phi']],\n",
    "            [sim_gptie['rms'], sim_gp_gs['rms_phi']]]\n",
    "\n",
    "kax = sim_mftie['frc'].axes_manager[-1].axis\n",
    "\n",
    "dz = sim_mfivx['defocus'].copy()\n",
    "dz = dz[len(dz)//2+1:]\n",
    "x_arrstr = np.char.mod('%i', dz)\n",
    "\n",
    "dz = sim_mftie['defocus'].copy()\n",
    "dzM = dz[len(dz)//2+1:].max()\n",
    "dzm = dz[len(dz)//2+1:].min()\n",
    "labels = [r'MFTIE, $\\delta z='+\",\".join(x_arrstr)+'\\mu m$',\n",
    "          r'MFTIE, $\\delta z='+np.str(dzm)+'-'+np.str(dzM)+'\\mu m$',\n",
    "          r'GPTIE, $\\delta z='+np.str(dzm)+'-'+np.str(dzM)+'\\mu m$',] \n"
   ]
  },
  {
   "cell_type": "markdown",
   "metadata": {
    "deletable": true,
    "editable": true
   },
   "source": [
    "### Waves"
   ]
  },
  {
   "cell_type": "code",
   "execution_count": 27,
   "metadata": {
    "collapsed": false,
    "deletable": true,
    "editable": true
   },
   "outputs": [
    {
     "name": "stderr",
     "output_type": "stream",
     "text": [
      "c:\\users\\johannes\\anaconda3\\lib\\site-packages\\matplotlib\\backend_bases.py:2445: MatplotlibDeprecationWarning: Using default event loop until function specific to this GUI is implemented\n",
      "  warnings.warn(str, mplDeprecation)\n"
     ]
    }
   ],
   "source": [
    "from string import ascii_lowercase as alph\n",
    "\n",
    "h, w = plt.figaspect(3/2.)\n",
    "f = plt.figure(figsize=(h,w))\n",
    "#f = plt.figure()\n",
    "axs = hs.plot.plot_images(psi_list, per_row=2, scalebar=[0,], colorbar=None, axes_decor='off', fig=f)\n",
    "\n",
    "# set amplitude clim\n",
    "for io, axi in enumerate(axs[::2]):\n",
    "    imi = axi.images[0]\n",
    "    imi.set_clim(vmin=0., vmax=1.)\n",
    "    axi.set_title('('+alph[2*io]+')', loc='left', fontweight='bold')\n",
    "    axi.text(0.02, 0.97, r'$\\Phi_0$', transform=axi.transAxes, \n",
    "             fontweight='bold', color='white', ha='left', va='top', alpha=0.5)\n",
    "    \n",
    "# set phases clim\n",
    "for io, axi in enumerate(axs[1::2]):\n",
    "    imi = axi.images[0]\n",
    "    imi.set_clim(vmin=0.8, vmax=3.2)\n",
    "    axi.set_title('('+alph[2*io+1]+')', loc='left', fontweight='bold')\n",
    "    axi.text(0.98, 0.97, labels[io][:5]+'+'+str(Niters)+'xGS\\n'+labels[io][6:], \n",
    "             transform=axi.transAxes, \n",
    "             fontweight='bold', color='white', ha='right', va='top', alpha=0.5)\n",
    "    axi.text(0.02, 0.97, r'$I_0$', transform=axi.transAxes, \n",
    "             fontweight='bold', color='white', ha='left', va='top', alpha=0.5)\n",
    "    \n",
    "sbar = axs[0].scalebar\n",
    "sbar.line.set_lw(4.)\n",
    "oldtxt = sbar.text.get_text()\n",
    "sbar.text.set_text(oldtxt[:6]+'${\\mu m}$')\n",
    "\n",
    "f.show()\n",
    "plt.pause(0.1) # wtf matplotlib\n",
    "\n",
    "new_pos = (sbar.position[0]+10, sbar.position[1]-5.)\n",
    "sbar.text.set_position(new_pos)\n",
    "\n",
    "# custom scalebars, horizontal\n",
    "posA = axs[-2].get_position()\n",
    "caxA = f.add_axes([posA.x0, posA.y0-0.03, posA.width, 0.02])\n",
    "cbarA = f.colorbar(axs[-2].images[0], orientation='horizontal', cax=caxA)\n",
    "cbarA.set_ticks([0.0, 0.5, 1.0])\n",
    "\n",
    "posB = axs[-1].get_position()\n",
    "caxB = f.add_axes([posB.x0, posB.y0-0.03, posB.width, 0.02])\n",
    "cbarB = f.colorbar(axs[-1].images[0], orientation='horizontal', cax=caxB)\n",
    "cbarB.set_ticks([1., 2., 3.])\n",
    "\n",
    "#f.subplots_adjust(wspace=0.1, hspace=0.15)"
   ]
  },
  {
   "cell_type": "markdown",
   "metadata": {
    "deletable": true,
    "editable": true
   },
   "source": [
    "## FRC and rmse"
   ]
  },
  {
   "cell_type": "markdown",
   "metadata": {
    "deletable": true,
    "editable": true
   },
   "source": [
    "### frc"
   ]
  },
  {
   "cell_type": "code",
   "execution_count": 28,
   "metadata": {
    "collapsed": false,
    "deletable": true,
    "editable": true
   },
   "outputs": [
    {
     "data": {
      "text/plain": [
       "<matplotlib.text.Text at 0x24b84c1f9e8>"
      ]
     },
     "execution_count": 28,
     "metadata": {},
     "output_type": "execute_result"
    }
   ],
   "source": [
    "from string import ascii_lowercase as alph\n",
    "\n",
    "Nplots = len(frc_list)\n",
    "fig, axs = plt.subplots(Nplots, 1, sharex=True)\n",
    "\n",
    "for io, axi in enumerate(axs):\n",
    "    axi.plot(kax, frc_list[io][0], '--k')\n",
    "    axi.plot(kax, frc_list[io][1], '-k')\n",
    "    axi.grid(which='major',axis='y')\n",
    "    axi.set_yticks([0., 0.25, 0.5, 0.75, 1.])\n",
    "    axi.set_ylim(0., 1.05)\n",
    "    axi.set_xlim(0., wnum)\n",
    "    axi.set_title(labels[io], loc='right')\n",
    "    axi.set_title('('+alph[io]+')', loc='left', fontweight='bold')\n",
    "\n",
    "axi.legend(['FRC-$\\Phi$, TIE', 'FRC-$\\Phi$, TIE+GS'], loc='lower left', frameon=False)\n",
    "axs[-1].set_xlabel(r'$q=|\\mathbf{q}|$, spatial frequency modulus $[{\\mu m}^{-1}]$')\n",
    "md=Nplots // 2\n",
    "axs[md].set_ylabel(r'FRC-$\\Phi$, Fourier ring correlation, phase [a.u.]') "
   ]
  },
  {
   "cell_type": "markdown",
   "metadata": {
    "deletable": true,
    "editable": true
   },
   "source": [
    "### rmse"
   ]
  },
  {
   "cell_type": "code",
   "execution_count": 29,
   "metadata": {
    "collapsed": false,
    "deletable": true,
    "editable": true
   },
   "outputs": [
    {
     "data": {
      "text/plain": [
       "<matplotlib.text.Text at 0x24b80608e10>"
      ]
     },
     "execution_count": 29,
     "metadata": {},
     "output_type": "execute_result"
    }
   ],
   "source": [
    "from string import ascii_lowercase as alph\n",
    "\n",
    "Nplots = len(rms_list)\n",
    "fig, axs = plt.subplots(Nplots,1, sharex=True)\n",
    "\n",
    "for io, axi in enumerate(axs):\n",
    "    axi.plot(kax, rms_list[io][0], '-k')\n",
    "    axi.plot(kax, rms_list[io][1], '--k')\n",
    "    axi.grid(which='major',axis='y')\n",
    "    \n",
    "    axi.set_yscale('log')\n",
    "    axi.set_xscale('log')\n",
    "    axi.set_ylim(1e0, 1e4)\n",
    "    axi.set_xlim(0., wnum)\n",
    "    \n",
    "    axi.set_title(labels[io], loc='right')\n",
    "    axi.set_title('('+alph[io]+')', loc='left', fontweight='bold')\n",
    "    \n",
    "    \n",
    "axi.legend(['Error, TIE', 'Error, TIE+GS'], loc='upper right', frameon=False)\n",
    "\n",
    "axs[-1].set_xlabel(r'$q=|\\mathbf{q}|$, spatial frequency modulus $[{\\mu m}^{-1}]$')\n",
    "md=Nplots // 2\n",
    "axs[md].set_ylabel(r'$d_q$RMSE$^2$, differential root-mean-square error  $[rad^2 {\\mu m}]$')    "
   ]
  },
  {
   "cell_type": "code",
   "execution_count": 58,
   "metadata": {
    "collapsed": false,
    "deletable": true,
    "editable": true
   },
   "outputs": [
    {
     "data": {
      "text/plain": [
       "<matplotlib.text.Text at 0x25348cf1d68>"
      ]
     },
     "execution_count": 58,
     "metadata": {},
     "output_type": "execute_result"
    }
   ],
   "source": [
    "from string import ascii_lowercase as alph\n",
    "\n",
    "c1 = 'b'\n",
    "c2 = 'r'\n",
    "\n",
    "Nplots = len(frc_list)\n",
    "f, ax = plt.subplots(Nplots,1,sharex=True)\n",
    "for io, axi in enumerate(ax):\n",
    "    \n",
    "    axi.plot(kax, frc_list[io][0], '-'+c1, label='FRC, TIE')\n",
    "    axi.plot(kax, np.abs(frc_list[io][0]), '-'+c1, alpha=0.5)\n",
    "    \n",
    "    axi.plot(kax, frc_list[io][1], '--'+c1, label='FRC, TIE+GS')\n",
    "    axi.plot(kax, np.abs(frc_list[io][1]), '--'+c1, alpha=0.5)\n",
    "    \n",
    "    axi.set_title(labels[io], loc='right')\n",
    "    axi.set_title('('+alph[io]+')', loc='left', fontweight='bold')\n",
    "    \n",
    "    axi.set_ylim(0., 1.05)\n",
    "    axi.tick_params('y', colors=c1)\n",
    "    \n",
    "    # twin axis\n",
    "    axt = axi.twinx()\n",
    "    axt.plot(kax, rms_list[io][0], '-'+c2, label=r'$d_q$RMSE$^2$, TIE' )\n",
    "    axt.plot(kax, rms_list[io][1], '--'+c2, label=r'$d_q$RMSE$^2$, TIE+GS')\n",
    "    \n",
    "    axt.set_yscale('log')\n",
    "    axt.set_xscale('log')\n",
    "    axt.set_ylim(1e0, 1e4)\n",
    "    axt.set_xlim(0., wnum)\n",
    "    axt.tick_params('y', colors=c2)\n",
    "        \n",
    "f.axes[0].legend(loc='lower left', frameon=False)\n",
    "f.axes[4].legend(loc='lower left', frameon=False)\n",
    "\n",
    "ax[-1].set_xlabel(r'$q=|\\mathbf{q}|$, spatial frequency modulus $[{\\mu m}^{-1}]$')\n",
    "md=Nplots // 2\n",
    "ax[md].set_ylabel(r'FRC, Fourier ring correlation [a.u.]', color=c1)\n",
    "f.axes[md+Nplots].set_ylabel(r'$d_q$RMSE$^2$, differential root-mean-square error  $[rad^2 {\\mu m}]$', \n",
    "                             color=c2, va='bottom', rotation=270)    "
   ]
  },
  {
   "cell_type": "code",
   "execution_count": null,
   "metadata": {
    "collapsed": true,
    "deletable": true,
    "editable": true
   },
   "outputs": [],
   "source": []
  },
  {
   "cell_type": "code",
   "execution_count": 59,
   "metadata": {
    "collapsed": false,
    "deletable": true,
    "editable": true
   },
   "outputs": [
    {
     "data": {
      "text/plain": [
       "<matplotlib.text.Text at 0x25301bd5f28>"
      ]
     },
     "execution_count": 59,
     "metadata": {},
     "output_type": "execute_result"
    }
   ],
   "source": [
    "from string import ascii_lowercase as alph\n",
    "\n",
    "c1 = 'b'\n",
    "c2 = 'r'\n",
    "\n",
    "Nplots = len(frc_list)\n",
    "gs_kw = {'width_ratios':[1, 3], 'wspace':0.25}\n",
    "f, ax = plt.subplots(Nplots,2, sharex='col', gridspec_kw=gs_kw)\n",
    "\n",
    "#kax = sim_chi_3p[0]['frc'].axes_manager[0].axis\n",
    "\n",
    "# images\n",
    "axs = ax[:,0]\n",
    "phases = [sim_gsivx['Phi'].unset_padding() + 0.3,   \n",
    "          sim_mf_gs['Phi'].unset_padding() + 0.3,    \n",
    "          sim_gp_gs['Phi'].unset_padding() + 0.3]\n",
    "\n",
    "for io, axi in enumerate(axs):\n",
    "    imi = axi.imshow(phases[io].data)\n",
    "    imi.set_clim(vmin=0., vmax=1.)\n",
    "    axi.set_axis_off()\n",
    "    #axi.set_title(r'$\\delta z='+str(np.round(dz[io],0))+'\\mu m$', loc='right')\n",
    "    axi.set_title('('+alph[io]+')', loc='left', fontweight='bold')\n",
    "\n",
    "# sbar tech\n",
    "hs.hyperspy.drawing.widgets.ScaleBar(axi, '${\\mu m}$', pixel_size=0.2)\n",
    "\n",
    "# custom scalebar, horizontal\n",
    "pos = axs[-1].get_position()\n",
    "cax = f.add_axes([pos.x0, pos.y0-0.03, pos.width, 0.02])\n",
    "cbar = f.colorbar(axs[-1].images[0], orientation='horizontal', cax=cax)\n",
    "cbar.set_ticks([0.0, 0.5, 1.0])\n",
    "\n",
    "\n",
    "# validations\n",
    "axl = ax[:,1]\n",
    "axr = []\n",
    "for io, axi in enumerate(ax[:,1]):\n",
    "    \n",
    "    axi.plot(kax, frc_list[io][0], '-'+c1, label='TIE')\n",
    "    axi.plot(kax, np.abs(frc_list[io][0]), '-'+c1, alpha=0.5)\n",
    "    \n",
    "    axi.plot(kax, frc_list[io][1], '--'+c1, label='TIE+GS')\n",
    "    axi.plot(kax, np.abs(frc_list[io][1]), '--'+c1, alpha=0.5)\n",
    "    \n",
    "    axi.set_title(labels[io], loc='right')\n",
    "    #axi.set_title('('+alph[io+3]+')', loc='left', fontweight='bold')\n",
    "    \n",
    "    axi.set_ylim(0., 1.05)\n",
    "    axi.tick_params('y', colors=c1)\n",
    "    \n",
    "    # twin axis\n",
    "    axt = axi.twinx()\n",
    "    axt.plot(kax, rms_list[io][0], '-'+c2, label=r'TIE' )\n",
    "    axt.plot(kax, rms_list[io][1], '--'+c2, label=r'TIE+GS')\n",
    "    \n",
    "    axt.set_yscale('log')\n",
    "    axt.set_xscale('log')\n",
    "    axt.set_ylim(1e0, 1e4)\n",
    "    axt.set_xlim(0., wnum)\n",
    "    axt.tick_params('y', which='both', colors=c2)\n",
    "    axr.append(axt)\n",
    "    \n",
    "axl[-1].legend(loc='lower left', frameon=False)\n",
    "\n",
    "ax[-1,1].set_xlabel(r'$q=|\\mathbf{q}|$, spatial frequency modulus $[{\\mu m}^{-1}]$')\n",
    "md=Nplots // 2\n",
    "ax[md,1].set_ylabel(r'FRC, Fourier ring correlation [a.u.]', color=c1)\n",
    "f.axes[md+2*Nplots+1].set_ylabel(r'$d_q$RMSE$^2$, differential root-mean-square error  $[rad^2 {\\mu m}]$', \n",
    "                               color=c2, va='bottom', rotation=270)  "
   ]
  },
  {
   "cell_type": "markdown",
   "metadata": {
    "deletable": true,
    "editable": true
   },
   "source": [
    "## Inverse Laplacian"
   ]
  },
  {
   "cell_type": "code",
   "execution_count": 60,
   "metadata": {
    "collapsed": false,
    "deletable": true,
    "editable": true
   },
   "outputs": [],
   "source": [
    "nm2 = sim_mftie['Nm2'].deepcopy()\n",
    "nm2.data = np.fft.fftshift(nm2.data, axes = (-2, -1))"
   ]
  },
  {
   "cell_type": "code",
   "execution_count": 61,
   "metadata": {
    "collapsed": false,
    "deletable": true,
    "editable": true
   },
   "outputs": [
    {
     "name": "stderr",
     "output_type": "stream",
     "text": [
      "c:\\users\\johannes\\anaconda3\\lib\\site-packages\\ipykernel\\__main__.py:8: RuntimeWarning: divide by zero encountered in true_divide\n"
     ]
    }
   ],
   "source": [
    "k2 = fsn.get_fourier_space()\n",
    "kscale = np.sqrt(k2[1,0])\n",
    "k2 = np.fft.fftshift(k2, (-2,-1))\n",
    "\n",
    "# collect inverse Laplacian\n",
    "iLap = np.concatenate( [nm2.data, \n",
    "                        np.sqrt((nm2.data**2.).sum(0))[None,...],\n",
    "                        (1./k2)[None,...]] )\n",
    "\n",
    "iLap = ModI(iLap)\n",
    "\n",
    "# compute integral\n",
    "Ndec = 0\n",
    "S_iLap_dr = iLap.integrate_radial(True, round_decimals=Ndec)\n",
    "# Do not plot this signal directly: \n",
    "# the scale is no longer linear for Ndec > 1!!!"
   ]
  },
  {
   "cell_type": "code",
   "execution_count": 62,
   "metadata": {
    "collapsed": false,
    "deletable": true,
    "editable": true
   },
   "outputs": [
    {
     "data": {
      "text/plain": [
       "<matplotlib.text.Text at 0x253042569e8>"
      ]
     },
     "execution_count": 62,
     "metadata": {},
     "output_type": "execute_result"
    }
   ],
   "source": [
    "f = plt.figure()\n",
    "ax = f.add_subplot(111)\n",
    "\n",
    "qrnd = S_iLap_dr.axes_manager[-1].axis * kscale\n",
    "for si in S_iLap_dr:\n",
    "    ax.plot(qrnd, si.data, mew=0.5)\n",
    "\n",
    "ax.set_yscale('log')\n",
    "ax.set_xscale('log')\n",
    "ax.set_ylim(1e-3, 1e3)\n",
    "ax.set_xlim(0.03, wnum)\n",
    "ax.set_xlabel(r'$q=|\\mathbf{q}|$, spatial frequency modulus $[{\\mu m}^{-1}]$')\n",
    "ax.set_ylabel(r'$\\hat\\nabla^{-2}$, inverse Laplacian filters $[{\\mu m}^2]$')    "
   ]
  },
  {
   "cell_type": "code",
   "execution_count": 21,
   "metadata": {
    "collapsed": true,
    "deletable": true,
    "editable": true
   },
   "outputs": [],
   "source": [
    "itegral = nm2.integrate_radial(True, 1)"
   ]
  },
  {
   "cell_type": "code",
   "execution_count": 22,
   "metadata": {
    "collapsed": true,
    "deletable": true,
    "editable": true
   },
   "outputs": [],
   "source": [
    "\n",
    "itegral.plot()"
   ]
  },
  {
   "cell_type": "code",
   "execution_count": null,
   "metadata": {
    "collapsed": false,
    "deletable": true,
    "editable": true
   },
   "outputs": [
    {
     "data": {
      "text/plain": [
       "(40.987803063838392, 15.811388300841896)"
      ]
     },
     "execution_count": 25,
     "metadata": {},
     "output_type": "execute_result"
    }
   ],
   "source": [
    "np.sqrt(560*3), np.sqrt(25*10)"
   ]
  }
 ],
 "metadata": {
  "anaconda-cloud": {},
  "kernelspec": {
   "display_name": "Python 3",
   "language": "python",
   "name": "python3"
  },
  "language_info": {
   "codemirror_mode": {
    "name": "ipython",
    "version": 3
   },
   "file_extension": ".py",
   "mimetype": "text/x-python",
   "name": "python",
   "nbconvert_exporter": "python",
   "pygments_lexer": "ipython3",
   "version": "3.5.1"
  }
 },
 "nbformat": 4,
 "nbformat_minor": 0
}
