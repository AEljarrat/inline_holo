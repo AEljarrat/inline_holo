{
 "cells": [
  {
   "cell_type": "markdown",
   "metadata": {},
   "source": [
    "# Inline holography with a simulated dataset\n",
    "This notebook showcases the functionality of the inline_holo python module using a simulated focal series dataset. These functionalities are accessed using the scripts below, that can be taken as example code, modified and reused in different applications. The simulated dataset is generated from an input wave (Wave.hdf5) and parameters, also given below together in a separate cell. Multi-focus TIE and gaussian-process TIE algorithms are used to obtain the low-spatial frequency information from the focal series. The Gerchberg-Saxton algorithm is finally used to also include high-spatial frequencies in these solutions. Validation tests are produced to explore the quality of these solutions."
   ]
  },
  {
   "cell_type": "code",
   "execution_count": 1,
   "metadata": {},
   "outputs": [
    {
     "name": "stderr",
     "output_type": "stream",
     "text": [
      "C:\\Users\\aeljarrat\\AppData\\Local\\conda\\conda\\envs\\hyperspy_dev\\lib\\site-packages\\skcuda\\cublas.py:272: UserWarning: creating CUBLAS context to get version number\n",
      "  warnings.warn('creating CUBLAS context to get version number')\n"
     ]
    }
   ],
   "source": [
    "# some useful tools\n",
    "%matplotlib qt\n",
    "import matplotlib.pyplot as plt\n",
    "import numpy as np\n",
    "\n",
    "import hyperspy.api as hs\n",
    "\n",
    "# inline_holo tools\n",
    "from image_tools import *\n",
    "from inline_holo import *\n",
    "from inline_holo import ModifiedImage as MI\n",
    "from inline_holo import ComplexModifiedImage as CMI\n",
    "\n",
    "from time import time as t"
   ]
  },
  {
   "cell_type": "markdown",
   "metadata": {},
   "source": [
    "The cell below defines some scripts used to run the calculations and to store the results in a consistent manner."
   ]
  },
  {
   "cell_type": "code",
   "execution_count": 2,
   "metadata": {},
   "outputs": [],
   "source": [
    "use_gpu = True"
   ]
  },
  {
   "cell_type": "code",
   "execution_count": 12,
   "metadata": {},
   "outputs": [],
   "source": [
    "def noiser(fs, SNR, seed=None):\n",
    "    # Remove padding and add some noise\n",
    "    fsn = fs.unset_padding()\n",
    "    fsn.data += add_noise_gauss(fsn.data, SNR,seed)\n",
    "\n",
    "    # Re-do padding\n",
    "    fsu = fsn.set_padding(((Nypad, Nypad), (Nxpad, Nxpad)), 'reflect')\n",
    "    #fsu = fsn.set_padding(((200, 200), (200, 200)), 'constant', constant_values=fsn.data.mean())\n",
    "\n",
    "    fsu.data = fsu.data.astype('float32')\n",
    "    fsu.data = np.ascontiguousarray(fsu.data)\n",
    "    fsu.data[fsu.data<0.] = 1e-4\n",
    "    return fsu\n",
    "\n",
    "def three_plane_slicer(fs, idz):\n",
    "    # idz = 1, 2, 3...\n",
    "    Ndz = np.int(np.floor(len(fs) / 2))\n",
    "    n1 = Ndz-idz\n",
    "    n2 = idz-Ndz if Ndz != idz else None\n",
    "    fs_idz=fs.inav[n1:n2:idz]\n",
    "    fs_idz.axes_manager[0].axis = zdef[n1:n2:idz]\n",
    "    return fs_idz\n",
    "\n",
    "def do_mftie(fsi, SNR, lothres, hithres, Nbutter=100):\n",
    "    results = {'SNR': SNR, \n",
    "               'hithres': hithres, \n",
    "               'lothres': lothres,\n",
    "               'defocus' : fsi.axes_manager[0].axis}\n",
    "\n",
    "    # MFTIE\n",
    "    mftie = MFTIE(fsi, use_gpu, lothres, hithres, alpha, SNR, Nbutter=Nbutter)\n",
    "    phase = mftie(False)\n",
    "    \n",
    "    # MFTIE, validate\n",
    "    PhV = phase.unset_padding().set_padding(((Nypad, Nypad), (Nxpad, Nxpad)), 'reflect')\n",
    "    val = validation(PhV, phase_org, False)\n",
    "    frc = val.run_fourier_ring_correlation()\n",
    "    rmse_real, rmse_rcpr = val.run_rmse_check() \n",
    "    \n",
    "    # save MFTIE results\n",
    "    inv_lap = fsi.inav[len(fsi)//2+1:].deepcopy()\n",
    "    if use_gpu:\n",
    "        inv_lap.data = mftie.inverse_laplacian.get()\n",
    "        results.update({'Phi_dz': mftie.phdata.get()})\n",
    "    else:\n",
    "        inv_lap.data = mftie.inverse_laplacian.copy()\n",
    "        results.update({'Phi_dz': mftie.phdata.copy()})\n",
    "        \n",
    "    results.update({'Phi' : phase})\n",
    "    results.update({'Nm2' : inv_lap})\n",
    "    results.update({'k2H' : mftie.k2_hi_thres})\n",
    "    results.update({'k2L' : mftie.k2_lo_thres})\n",
    "    results.update({'frc' : frc})\n",
    "    results.update({'RMSE2' : mftie.rmse2n})\n",
    "    \n",
    "    rmse_rcpr.data = np.fft.fftshift(rmse_rcpr.data, (-2,-1))\n",
    "    results.update({'rms' : rmse_rcpr.integrate_radial(512)})\n",
    "    \n",
    "    return results\n",
    "\n",
    "def do_gptie(fsi, Nsl):\n",
    "    results = {'Nsl': Nsl, \n",
    "               'defocus' : fsi.axes_manager[0].axis[-1]}\n",
    "\n",
    "    # GPTIE\n",
    "    gptie = GPTIE(fsi, Nsl=Nsl)\n",
    "    phase = gptie(False)\n",
    "    \n",
    "    # GPTIE, validate\n",
    "    PhV = phase.unset_padding().set_padding(((Nypad, Nypad), (Nxpad, Nxpad)), 'reflect')\n",
    "    val = validation(PhV, phase_org, False)\n",
    "    frc = val.run_fourier_ring_correlation()\n",
    "    rmse_real, rmse_rcpr = val.run_rmse_check() \n",
    "    \n",
    "    \n",
    "    # save GPTIE results\n",
    "    results.update({'Phi' : phase})\n",
    "    results.update({'frc' : frc})\n",
    "    \n",
    "    rmse_rcpr.data = np.fft.fftshift(rmse_rcpr.data, (-2,-1))\n",
    "    results.update({'rms' : rmse_rcpr.integrate_radial(512)})\n",
    "    \n",
    "    return results\n",
    "\n",
    "def do_gsref(fsi, wave_init, ctf, Niters):\n",
    "    results = {'Nsl': Niters, \n",
    "               'defocus' : fsi.axes_manager[0].axis[-1]}\n",
    "\n",
    "    # GSref\n",
    "    gsref = GS(fsi, wave_init, ctf, alpha, use_gpu)\n",
    "    wave = gsref(Niters)\n",
    "    \n",
    "    # GSref, validate phase\n",
    "    phase = wave.deepcopy()\n",
    "    phase.data = np.angle(wave.data) \n",
    "    PhV = phase.unset_padding().set_padding(((Nypad, Nypad), (Nxpad, Nxpad)), 'reflect')\n",
    "    val = validation(PhV, phase_org, False)\n",
    "    frc_phi = val.run_fourier_ring_correlation()\n",
    "    rmse_real, rmse_rcpr_phi = val.run_rmse_check() \n",
    "    \n",
    "    # GSref, validate intensity\n",
    "    amplitude = wave.deepcopy()\n",
    "    amplitude.data = np.abs(wave.data) \n",
    "    AmV = phase.unset_padding().set_padding(((Nypad, Nypad), (Nxpad, Nxpad)), 'reflect')\n",
    "    val = validation(AmV, ampli_org, False)\n",
    "    frc_amp = val.run_fourier_ring_correlation()\n",
    "    rmse_real, rmse_rcpr_amp = val.run_rmse_check() \n",
    "    \n",
    "    # save GSref results\n",
    "    results.update({'Phi' : phase})\n",
    "    results.update({'frc_phi' : frc_phi})\n",
    "    \n",
    "    results.update({'Amp' : amplitude})\n",
    "    results.update({'frc_amp' : frc_amp})\n",
    "    \n",
    "    rmse_rcpr_phi.data = np.fft.fftshift(rmse_rcpr_phi.data, (-2,-1))\n",
    "    results.update({'rms_phi' : rmse_rcpr_phi.integrate_radial(512)})\n",
    "    \n",
    "    rmse_rcpr_amp.data = np.fft.fftshift(rmse_rcpr_amp.data, (-2,-1))\n",
    "    results.update({'rms_amp' : rmse_rcpr_amp.integrate_radial(512)})\n",
    "    \n",
    "    return results"
   ]
  },
  {
   "cell_type": "markdown",
   "metadata": {},
   "source": [
    "## 1. Define input parameters"
   ]
  },
  {
   "cell_type": "code",
   "execution_count": 13,
   "metadata": {},
   "outputs": [],
   "source": [
    "# PARAMETERS\n",
    "alpha       = 0.       # uScope: Convergergence (set to 0 for coherent illumiation)\n",
    "NA          = 0.6      # uScope: Num Aperture \n",
    "wlen        = 0.5      # uScope: Wave-length\n",
    "nref        = 1.       # uScope: Refractive index\n",
    "\n",
    "defmin      = 1.0      # Experiment: Smallest defocus plane\n",
    "defmax      = 150.     # Experiment: Largest defocus plane\n",
    "Ndef        = 10       # Experiment: Number of defocus planes\n",
    "\n",
    "fsmooth     = 2.       # FS-Simulation: Cosine-Bell smooth \n",
    "\n",
    "lothres     = 1.0      # MFTIE: low-freq threshold\n",
    "hithres     = 0.25     # MFTIE: high-freq threshold\n",
    "Nsl         = 50       # GPTIE: binning\n",
    "Niters      = 25       # GSref: Iterations"
   ]
  },
  {
   "cell_type": "code",
   "execution_count": 14,
   "metadata": {},
   "outputs": [],
   "source": [
    "# load original wave\n",
    "wave = hs.load('Wave.hdf5')\n",
    "wave.__class__ = CMI\n",
    "Ny, Nx = wave.unset_padding().axes_manager.signal_shape\n",
    "Nypad, Nxpad = (int(Ny/2), int(Nx/2))\n",
    "wave = wave.unset_padding().set_padding(((Nypad, Nypad), (Nxpad, Nxpad)), 'reflect')\n",
    "\n",
    "# calculate original phase\n",
    "phase_org = wave.deepcopy()\n",
    "phase_org.data = np.angle(wave.data)\n",
    "\n",
    "# calculate original amplitude\n",
    "ampli_org = wave.deepcopy()\n",
    "ampli_org.data = np.abs(wave.data)"
   ]
  },
  {
   "cell_type": "code",
   "execution_count": 15,
   "metadata": {},
   "outputs": [],
   "source": [
    "# Useful to know\n",
    "wnum = 2. * np.pi / wlen\n",
    "q = np.linspace(0., wnum, 256)\n",
    "q2= q**2."
   ]
  },
  {
   "cell_type": "markdown",
   "metadata": {},
   "source": [
    "This below is a plot of the input wave"
   ]
  },
  {
   "cell_type": "code",
   "execution_count": 16,
   "metadata": {},
   "outputs": [],
   "source": [
    "wave.unset_padding().plot(representation='polar')"
   ]
  },
  {
   "cell_type": "markdown",
   "metadata": {},
   "source": [
    "## 2.A: 3 defoci experiment"
   ]
  },
  {
   "cell_type": "markdown",
   "metadata": {},
   "source": [
    "Select the defocus planes for the simulation: 1, 5 and 10"
   ]
  },
  {
   "cell_type": "code",
   "execution_count": 17,
   "metadata": {},
   "outputs": [],
   "source": [
    "SNR = 20"
   ]
  },
  {
   "cell_type": "code",
   "execution_count": 18,
   "metadata": {},
   "outputs": [
    {
     "name": "stdout",
     "output_type": "stream",
     "text": [
      "[-10.  -5.  -1.   0.   1.   5.  10.]\n"
     ]
    }
   ],
   "source": [
    "dz = np.array([1., 5., 10.])\n",
    "zdef = np.concatenate( [-dz[::-1], np.array([0,]), dz])\n",
    "print(np.round(zdef,1))"
   ]
  },
  {
   "cell_type": "code",
   "execution_count": 19,
   "metadata": {},
   "outputs": [
    {
     "name": "stderr",
     "output_type": "stream",
     "text": [
      "C:\\Users\\aeljarrat\\inline_holo\\inline_holo.py:700: RuntimeWarning: invalid value encountered in sqrt\n",
      "  Chi = np.sqrt(wnum**2-k2) - wnum\n"
     ]
    },
    {
     "name": "stdout",
     "output_type": "stream",
     "text": [
      "CTF-Sim time: 1.209928035736084\n"
     ]
    }
   ],
   "source": [
    "from CTFSim import CTFSim\n",
    "\n",
    "# Project the wave to the selected planes\n",
    "t0 = t()\n",
    "ctsim = CTFSim(wave, zdef, alpha, use_gpu, None, wlen, nref, NA, 2.)\n",
    "fs = ctsim(False)\n",
    "Tsim = t()-t0\n",
    "print('CTF-Sim time:', Tsim)\n",
    "\n",
    "del CTFSim, ctsim "
   ]
  },
  {
   "cell_type": "code",
   "execution_count": 20,
   "metadata": {},
   "outputs": [
    {
     "name": "stderr",
     "output_type": "stream",
     "text": [
      "C:\\Users\\aeljarrat\\inline_holo\\MFTIE.py:294: RuntimeWarning: divide by zero encountered in true_divide\n",
      "  nabla_minus_2 = (1. / k2) * (1./(1.+(k2/k2Hi[:,None,None])**Nbutter)) * \\\n",
      "C:\\Users\\aeljarrat\\inline_holo\\MFTIE.py:294: RuntimeWarning: overflow encountered in power\n",
      "  nabla_minus_2 = (1. / k2) * (1./(1.+(k2/k2Hi[:,None,None])**Nbutter)) * \\\n",
      "C:\\Users\\aeljarrat\\inline_holo\\MFTIE.py:295: RuntimeWarning: overflow encountered in power\n",
      "  (1.-1./(1.+(k2/k2Lo[:,None,None])**Nbutter))\n",
      "C:\\Users\\aeljarrat\\inline_holo\\MFTIE.py:295: RuntimeWarning: invalid value encountered in multiply\n",
      "  (1.-1./(1.+(k2/k2Lo[:,None,None])**Nbutter))\n",
      "WARNING:hyperspy.signal:Units are not set or cannot be recognized\n",
      "WARNING:hyperspy.signal:Units are not set or cannot be recognized\n",
      "WARNING:hyperspy.signal:Units are not set or cannot be recognized\n",
      "WARNING:hyperspy.signal:Units are not set or cannot be recognized\n",
      "100%|████████████████████████████████████████████████████████████████████████████████████| 1/1 [00:00<00:00, 10.69it/s]\n",
      "C:\\Users\\aeljarrat\\inline_holo\\inline_holo.py:700: RuntimeWarning: invalid value encountered in sqrt\n",
      "  Chi = np.sqrt(wnum**2-k2) - wnum\n",
      "  0%|                                                                                           | 0/25 [00:00<?, ?it/s]C:\\Users\\aeljarrat\\AppData\\Local\\conda\\conda\\envs\\hyperspy_dev\\lib\\site-packages\\pycuda\\elementwise.py:75: UserWarning: The CUDA compiler succeeded, but said the following:\n",
      "kernel.cu\n",
      "\n",
      "  options=options, keep=keep)\n",
      "100%|██████████████████████████████████████████████████████████████████████████████████| 25/25 [00:09<00:00,  2.57it/s]\n",
      "WARNING:hyperspy.signal:Units are not set or cannot be recognized\n",
      "WARNING:hyperspy.signal:Units are not set or cannot be recognized\n",
      "WARNING:hyperspy.signal:Units are not set or cannot be recognized\n",
      "WARNING:hyperspy.signal:Units are not set or cannot be recognized\n",
      "WARNING:hyperspy.signal:Units are not set or cannot be recognized\n",
      "WARNING:hyperspy.signal:Units are not set or cannot be recognized\n",
      "WARNING:hyperspy.signal:Units are not set or cannot be recognized\n",
      "WARNING:hyperspy.signal:Units are not set or cannot be recognized\n",
      "100%|████████████████████████████████████████████████████████████████████████████████████| 1/1 [00:00<00:00, 12.48it/s]\n",
      "100%|████████████████████████████████████████████████████████████████████████████████████| 1/1 [00:00<00:00, 12.74it/s]\n"
     ]
    }
   ],
   "source": [
    "# Apply noise\n",
    "fsn = noiser(fs, SNR, seed=12345)\n",
    "\n",
    "# Do TIE !!!\n",
    "sim_mfivx = do_mftie(fsn, SNR, lothres, hithres, Nbutter=1000)\n",
    "\n",
    "# Get in-focus Amplitude\n",
    "Nm  = get_middle(fsn)\n",
    "amp = fsn.inav[Nm]\n",
    "\n",
    "# Get init-waves\n",
    "wave_ivx = sim_mfivx['Phi'].deepcopy()\n",
    "wave_ivx.data = np.sqrt(amp.data) * np.exp(1j*sim_mfivx['Phi'].data)\n",
    "\n",
    "# Get CTF\n",
    "ctf = amp.get_contrast_transfer(zdef)\n",
    "\n",
    "# Do GSref !!\n",
    "sim_gsivx = do_gsref(fsn, wave_ivx, ctf, Niters)"
   ]
  },
  {
   "cell_type": "markdown",
   "metadata": {},
   "source": [
    "## 2.B: 21 defoci experiment"
   ]
  },
  {
   "cell_type": "markdown",
   "metadata": {},
   "source": [
    "Select the defocus planes for the simulation: geometric progression. "
   ]
  },
  {
   "cell_type": "code",
   "execution_count": 21,
   "metadata": {},
   "outputs": [
    {
     "name": "stdout",
     "output_type": "stream",
     "text": [
      "[-150.   -86.   -49.3  -28.2  -16.2   -9.3   -5.3   -3.    -1.7   -1.\n",
      "    0.     1.     1.7    3.     5.3    9.3   16.2   28.2   49.3   86.\n",
      "  150. ]\n"
     ]
    }
   ],
   "source": [
    "dz = np.logspace(np.log10(defmin), np.log10(defmax), 10)\n",
    "zdef = np.concatenate( [-dz[::-1], np.array([0,]), dz])\n",
    "print(np.round(zdef,1))"
   ]
  },
  {
   "cell_type": "markdown",
   "metadata": {},
   "source": [
    "Additional noise level is higher."
   ]
  },
  {
   "cell_type": "code",
   "execution_count": 22,
   "metadata": {},
   "outputs": [],
   "source": [
    "SNR = 15"
   ]
  },
  {
   "cell_type": "code",
   "execution_count": 23,
   "metadata": {},
   "outputs": [
    {
     "name": "stderr",
     "output_type": "stream",
     "text": [
      "C:\\Users\\aeljarrat\\inline_holo\\inline_holo.py:700: RuntimeWarning: invalid value encountered in sqrt\n",
      "  Chi = np.sqrt(wnum**2-k2) - wnum\n"
     ]
    },
    {
     "name": "stdout",
     "output_type": "stream",
     "text": [
      "CTF-Sim time: 3.450692653656006\n"
     ]
    }
   ],
   "source": [
    "from CTFSim import CTFSim\n",
    "\n",
    "# Project the wave to the selected planes\n",
    "t0 = t()\n",
    "ctsim = CTFSim(wave, zdef, alpha, use_gpu, None, wlen, nref, NA, 2.)\n",
    "fs = ctsim(False)\n",
    "Tsim = t()-t0\n",
    "print('CTF-Sim time:', Tsim)\n",
    "\n",
    "del CTFSim, ctsim "
   ]
  },
  {
   "cell_type": "code",
   "execution_count": 24,
   "metadata": {
    "scrolled": false
   },
   "outputs": [
    {
     "name": "stderr",
     "output_type": "stream",
     "text": [
      "C:\\Users\\aeljarrat\\inline_holo\\MFTIE.py:294: RuntimeWarning: divide by zero encountered in true_divide\n",
      "  nabla_minus_2 = (1. / k2) * (1./(1.+(k2/k2Hi[:,None,None])**Nbutter)) * \\\n",
      "C:\\Users\\aeljarrat\\inline_holo\\MFTIE.py:295: RuntimeWarning: invalid value encountered in multiply\n",
      "  (1.-1./(1.+(k2/k2Lo[:,None,None])**Nbutter))\n",
      "WARNING:hyperspy.signal:Units are not set or cannot be recognized\n",
      "WARNING:hyperspy.signal:Units are not set or cannot be recognized\n",
      "WARNING:hyperspy.signal:Units are not set or cannot be recognized\n",
      "WARNING:hyperspy.signal:Units are not set or cannot be recognized\n",
      "100%|████████████████████████████████████████████████████████████████████████████████████| 1/1 [00:00<00:00, 11.47it/s]\n",
      "C:\\Users\\aeljarrat\\inline_holo\\GPTIE.py:149: FutureWarning: `rcond` parameter will change to the default of machine precision times ``max(M, N)`` where M and N are the input matrix dimensions.\n",
      "To use the future default and silence this warning we advise to pass `rcond=None`, to keep using the old, explicitly pass `rcond=-1`.\n",
      "  Coeff = np.linalg.lstsq(L, np.linalg.lstsq(L.T, D)[0])[0]\n",
      "WARNING:hyperspy.signal:Units are not set or cannot be recognized\n",
      "WARNING:hyperspy.signal:Units are not set or cannot be recognized\n",
      "WARNING:hyperspy.signal:Units are not set or cannot be recognized\n",
      "WARNING:hyperspy.signal:Units are not set or cannot be recognized\n",
      "100%|████████████████████████████████████████████████████████████████████████████████████| 1/1 [00:00<00:00, 11.10it/s]\n",
      "C:\\Users\\aeljarrat\\inline_holo\\inline_holo.py:700: RuntimeWarning: invalid value encountered in sqrt\n",
      "  Chi = np.sqrt(wnum**2-k2) - wnum\n",
      "100%|██████████████████████████████████████████████████████████████████████████████████| 25/25 [00:04<00:00,  6.14it/s]\n",
      "WARNING:hyperspy.signal:Units are not set or cannot be recognized\n",
      "WARNING:hyperspy.signal:Units are not set or cannot be recognized\n",
      "WARNING:hyperspy.signal:Units are not set or cannot be recognized\n",
      "WARNING:hyperspy.signal:Units are not set or cannot be recognized\n",
      "WARNING:hyperspy.signal:Units are not set or cannot be recognized\n",
      "WARNING:hyperspy.signal:Units are not set or cannot be recognized\n",
      "WARNING:hyperspy.signal:Units are not set or cannot be recognized\n",
      "WARNING:hyperspy.signal:Units are not set or cannot be recognized\n",
      "100%|████████████████████████████████████████████████████████████████████████████████████| 1/1 [00:00<00:00, 11.87it/s]\n",
      "100%|████████████████████████████████████████████████████████████████████████████████████| 1/1 [00:00<00:00, 11.99it/s]\n",
      "100%|██████████████████████████████████████████████████████████████████████████████████| 25/25 [00:04<00:00,  6.20it/s]\n",
      "WARNING:hyperspy.signal:Units are not set or cannot be recognized\n",
      "WARNING:hyperspy.signal:Units are not set or cannot be recognized\n",
      "WARNING:hyperspy.signal:Units are not set or cannot be recognized\n",
      "WARNING:hyperspy.signal:Units are not set or cannot be recognized\n",
      "WARNING:hyperspy.signal:Units are not set or cannot be recognized\n",
      "WARNING:hyperspy.signal:Units are not set or cannot be recognized\n",
      "WARNING:hyperspy.signal:Units are not set or cannot be recognized\n",
      "WARNING:hyperspy.signal:Units are not set or cannot be recognized\n",
      "100%|████████████████████████████████████████████████████████████████████████████████████| 1/1 [00:00<00:00, 11.57it/s]\n",
      "100%|████████████████████████████████████████████████████████████████████████████████████| 1/1 [00:00<00:00, 11.09it/s]\n"
     ]
    }
   ],
   "source": [
    "# Apply noise\n",
    "fsn = noiser(fs, SNR, seed=12345)\n",
    "\n",
    "# Do TIE !!!\n",
    "sim_mftie = do_mftie(fsn, SNR, lothres, hithres, Nbutter=10)\n",
    "sim_gptie = do_gptie(fsn, Nsl)\n",
    "\n",
    "# Get in-focus Amplitude\n",
    "Nm  = get_middle(fsn)\n",
    "amp = fsn.inav[Nm]\n",
    "\n",
    "# Get init-waves\n",
    "wave_mf = sim_mftie['Phi'].deepcopy()\n",
    "wave_mf.data = np.sqrt(amp.data) * np.exp(1j*sim_mftie['Phi'].data)\n",
    "\n",
    "wave_gp = sim_gptie['Phi'].deepcopy()\n",
    "wave_gp.data = np.sqrt(amp.data) * np.exp(1j*sim_gptie['Phi'].data)\n",
    "\n",
    "# Get CTF\n",
    "ctf = amp.get_contrast_transfer(zdef)\n",
    "\n",
    "# Do GSref !!\n",
    "sim_mf_gs = do_gsref(fsn, wave_mf, ctf, Niters)\n",
    "sim_gp_gs = do_gsref(fsn, wave_gp, ctf, Niters)"
   ]
  },
  {
   "cell_type": "markdown",
   "metadata": {},
   "source": [
    "## 3. plotting time"
   ]
  },
  {
   "cell_type": "code",
   "execution_count": 25,
   "metadata": {},
   "outputs": [],
   "source": [
    "psi_list = [sim_gsivx['Phi'].unset_padding() + 0.3, sim_gsivx['Amp'].unset_padding(),  \n",
    "            sim_mf_gs['Phi'].unset_padding() + 0.3, sim_mf_gs['Amp'].unset_padding(),   \n",
    "            sim_gp_gs['Phi'].unset_padding() + 0.3, sim_gp_gs['Amp'].unset_padding()]\n",
    "\n",
    "frc_list = [[sim_mfivx['frc'], sim_gsivx['frc_phi']],\n",
    "            [sim_mftie['frc'], sim_mf_gs['frc_phi']],\n",
    "            [sim_gptie['frc'], sim_gp_gs['frc_phi']]]\n",
    "\n",
    "rms_list = [[sim_mfivx['rms'], sim_gsivx['rms_phi']],\n",
    "            [sim_mftie['rms'], sim_mf_gs['rms_phi']],\n",
    "            [sim_gptie['rms'], sim_gp_gs['rms_phi']]]\n",
    "\n",
    "kax = sim_mftie['frc'].axes_manager[-1].axis\n",
    "\n",
    "dz = sim_mfivx['defocus'].copy()\n",
    "dz = dz[len(dz)//2+1:]\n",
    "x_arrstr = np.char.mod('%i', dz)\n",
    "\n",
    "dz = sim_mftie['defocus'].copy()\n",
    "dzM = round(dz[len(dz)//2+1:].max(),1)\n",
    "dzm = round(dz[len(dz)//2+1:].min(),1)\n",
    "labels = [r'MFTIE, $\\delta z='+\",\".join(x_arrstr)+'\\mu m$',\n",
    "          r'MFTIE, $\\delta z='+np.str(dzm)+'-'+np.str(dzM)+'\\mu m$',\n",
    "          r'GPTIE, $\\delta z='+np.str(dzm)+'-'+np.str(dzM)+'\\mu m$',] \n"
   ]
  },
  {
   "cell_type": "markdown",
   "metadata": {},
   "source": [
    "### Plot reconstructed waves \n",
    "These are obtained after TIE inversion and GS refinement."
   ]
  },
  {
   "cell_type": "code",
   "execution_count": 26,
   "metadata": {},
   "outputs": [],
   "source": [
    "from string import ascii_lowercase as alph\n",
    "\n",
    "size_factor = 2\n",
    "\n",
    "h, w = plt.figaspect(3/2.)\n",
    "h, w = size_factor*h, size_factor*w\n",
    "f = plt.figure(figsize=(h, w))\n",
    "\n",
    "#f = plt.figure()\n",
    "axs = hs.plot.plot_images(psi_list, per_row=2, scalebar=[0,], colorbar=None, axes_decor='off', fig=f)\n",
    "\n",
    "# set amplitude clim\n",
    "for io, axi in enumerate(axs[::2]):\n",
    "    imi = axi.images[0]\n",
    "    imi.set_clim(vmin=0., vmax=1.)\n",
    "    axi.set_title('('+alph[2*io]+')', loc='left', fontweight='bold')\n",
    "    axi.text(0.02, 0.97, r'$\\Phi_0$', transform=axi.transAxes, \n",
    "             fontweight='bold', color='white', ha='left', va='top', alpha=0.5)\n",
    "    \n",
    "# set phases clim\n",
    "for io, axi in enumerate(axs[1::2]):\n",
    "    imi = axi.images[0]\n",
    "    imi.set_clim(vmin=0.8, vmax=3.2)\n",
    "    axi.set_title('('+alph[2*io+1]+')', loc='left', fontweight='bold')\n",
    "    axi.text(0.98, 0.97, labels[io][:5]+'+'+str(Niters)+'xGS\\n'+labels[io][6:], \n",
    "             transform=axi.transAxes, \n",
    "             fontweight='bold', color='white', ha='right', va='top', alpha=0.5)\n",
    "    axi.text(0.02, 0.97, r'$I_0$', transform=axi.transAxes, \n",
    "             fontweight='bold', color='white', ha='left', va='top', alpha=0.5)\n",
    "    \n",
    "sbar = axs[0].scalebar\n",
    "sbar.line.set_lw(4.)\n",
    "oldtxt = sbar.text.get_text()\n",
    "sbar.text.set_text(oldtxt[:6]+'${\\mu m}$')\n",
    "\n",
    "f.show()\n",
    "plt.pause(0.1) # wtf matplotlib\n",
    "\n",
    "new_pos = (sbar.position[0]+10, sbar.position[1]-5.)\n",
    "sbar.text.set_position(new_pos)\n",
    "\n",
    "# custom scalebars, horizontal\n",
    "posA = axs[-2].get_position()\n",
    "caxA = f.add_axes([posA.x0, posA.y0-0.03, posA.width, 0.02])\n",
    "cbarA = f.colorbar(axs[-2].images[0], orientation='horizontal', cax=caxA)\n",
    "cbarA.set_ticks([0.0, 0.5, 1.0])\n",
    "\n",
    "posB = axs[-1].get_position()\n",
    "caxB = f.add_axes([posB.x0, posB.y0-0.03, posB.width, 0.02])\n",
    "cbarB = f.colorbar(axs[-1].images[0], orientation='horizontal', cax=caxB)\n",
    "cbarB.set_ticks([1., 2., 3.])\n",
    "\n",
    "#f.subplots_adjust(wspace=0.1, hspace=0.15)"
   ]
  },
  {
   "cell_type": "markdown",
   "metadata": {},
   "source": [
    "## Plot reconstruction validations"
   ]
  },
  {
   "cell_type": "markdown",
   "metadata": {},
   "source": [
    "### Fourier ring correlation (FRC)"
   ]
  },
  {
   "cell_type": "code",
   "execution_count": 27,
   "metadata": {},
   "outputs": [
    {
     "data": {
      "text/plain": [
       "Text(0,0.5,'FRC-$\\\\Phi$, Fourier ring correlation, phase [a.u.]')"
      ]
     },
     "execution_count": 27,
     "metadata": {},
     "output_type": "execute_result"
    }
   ],
   "source": [
    "from string import ascii_lowercase as alph\n",
    "\n",
    "Nplots = len(frc_list)\n",
    "fig, axs = plt.subplots(Nplots, 1, sharex=True, figsize=(11.,8.))\n",
    "\n",
    "for io, axi in enumerate(axs):\n",
    "    axi.plot(kax, frc_list[io][0], '--k')\n",
    "    axi.plot(kax, frc_list[io][1], '-k')\n",
    "    axi.grid(which='major',axis='y')\n",
    "    axi.set_yticks([0., 0.25, 0.5, 0.75, 1.])\n",
    "    axi.set_ylim(0., 1.05)\n",
    "    axi.set_xlim(0., wnum)\n",
    "    axi.set_title(labels[io], loc='right')\n",
    "    axi.set_title('('+alph[io]+')', loc='left', fontweight='bold')\n",
    "    #axi.set_xscale('log')\n",
    "\n",
    "axi.legend(['FRC-$\\Phi$, TIE', 'FRC-$\\Phi$, TIE+GS'], loc='lower left', frameon=False)\n",
    "axs[-1].set_xlabel(r'$q=|\\mathbf{q}|$, spatial frequency modulus $[{\\mu m}^{-1}]$')\n",
    "md=Nplots // 2\n",
    "axs[md].set_ylabel(r'FRC-$\\Phi$, Fourier ring correlation, phase [a.u.]') "
   ]
  },
  {
   "cell_type": "markdown",
   "metadata": {},
   "source": [
    "### Root-mean-square error (RMSE)"
   ]
  },
  {
   "cell_type": "code",
   "execution_count": 28,
   "metadata": {},
   "outputs": [
    {
     "name": "stderr",
     "output_type": "stream",
     "text": [
      "C:\\Users\\aeljarrat\\AppData\\Local\\conda\\conda\\envs\\hyperspy_dev\\lib\\site-packages\\matplotlib\\axes\\_base.py:3129: UserWarning: Attempted to set non-positive xlimits for log-scale axis; invalid limits will be ignored.\n",
      "  'Attempted to set non-positive xlimits for log-scale axis; '\n"
     ]
    },
    {
     "data": {
      "text/plain": [
       "Text(0,0.5,'$d_q$RMSE$^2$, differential root-mean-square error  $[rad^2 {\\\\mu m}]$')"
      ]
     },
     "execution_count": 28,
     "metadata": {},
     "output_type": "execute_result"
    }
   ],
   "source": [
    "from string import ascii_lowercase as alph\n",
    "\n",
    "Nplots = len(rms_list)\n",
    "fig, axs = plt.subplots(Nplots,1, sharex=True, figsize=(11.,8.))\n",
    "\n",
    "for io, axi in enumerate(axs):\n",
    "    s1 = rms_list[io][0]\n",
    "    kax1 = s1.axes_manager.signal_axes[0].axis\n",
    "    axi.plot(kax1, s1.data, '-k')\n",
    "    \n",
    "    s2 = rms_list[io][1]\n",
    "    kax2 = s2.axes_manager.signal_axes[0].axis\n",
    "    axi.plot(kax2, s2.data, '--k')\n",
    "    axi.grid(which='major',axis='y')\n",
    "    \n",
    "    axi.set_yscale('log')\n",
    "    axi.set_xscale('log')\n",
    "    axi.set_ylim(1e0, 1e4)\n",
    "    axi.set_xlim(0., wnum)\n",
    "    \n",
    "    axi.set_title(labels[io], loc='right')\n",
    "    axi.set_title('('+alph[io]+')', loc='left', fontweight='bold')\n",
    "    \n",
    "    \n",
    "axi.legend(['Error, TIE', 'Error, TIE+GS'], loc='upper right', frameon=False)\n",
    "\n",
    "axs[-1].set_xlabel(r'$q=|\\mathbf{q}|$, spatial frequency modulus $[{\\mu m}^{-1}]$')\n",
    "md=Nplots // 2\n",
    "axs[md].set_ylabel(r'$d_q$RMSE$^2$, differential root-mean-square error  $[rad^2 {\\mu m}]$')    "
   ]
  },
  {
   "cell_type": "markdown",
   "metadata": {},
   "source": [
    "## Some comparisons"
   ]
  },
  {
   "cell_type": "code",
   "execution_count": 29,
   "metadata": {},
   "outputs": [
    {
     "name": "stderr",
     "output_type": "stream",
     "text": [
      "C:\\Users\\aeljarrat\\AppData\\Local\\conda\\conda\\envs\\hyperspy_dev\\lib\\site-packages\\matplotlib\\axes\\_base.py:3129: UserWarning: Attempted to set non-positive xlimits for log-scale axis; invalid limits will be ignored.\n",
      "  'Attempted to set non-positive xlimits for log-scale axis; '\n"
     ]
    },
    {
     "data": {
      "text/plain": [
       "Text(0,0.5,'$d_q$RMSE$^2$, differential root-mean-square error  $[rad^2 {\\\\mu m}]$')"
      ]
     },
     "execution_count": 29,
     "metadata": {},
     "output_type": "execute_result"
    }
   ],
   "source": [
    "from string import ascii_lowercase as alph\n",
    "\n",
    "c1 = 'b'\n",
    "c2 = 'r'\n",
    "\n",
    "Nplots = len(frc_list)\n",
    "f, ax = plt.subplots(Nplots,1, sharex=True, figsize=(11.,8.))\n",
    "for io, axi in enumerate(ax):\n",
    "    \n",
    "    axi.plot(kax, frc_list[io][0], '-'+c1, label='FRC, TIE')\n",
    "    axi.plot(kax, np.abs(frc_list[io][0]), '-'+c1, alpha=0.5)\n",
    "    \n",
    "    axi.plot(kax, frc_list[io][1], '--'+c1, label='FRC, TIE+GS')\n",
    "    axi.plot(kax, np.abs(frc_list[io][1]), '--'+c1, alpha=0.5)\n",
    "    \n",
    "    axi.set_title(labels[io], loc='right')\n",
    "    axi.set_title('('+alph[io]+')', loc='left', fontweight='bold')\n",
    "    \n",
    "    axi.set_ylim(0., 1.05)\n",
    "    axi.tick_params('y', colors=c1)\n",
    "    \n",
    "    # twin axis\n",
    "    axt = axi.twinx()\n",
    "    s1 = rms_list[io][0]\n",
    "    kax1 = s1.axes_manager.signal_axes[0].axis\n",
    "    axt.plot(kax1, s1.data, '-'+c2, label=r'$d_q$RMSE$^2$, TIE' )\n",
    "    s2 = rms_list[io][1]\n",
    "    kax2 = s2.axes_manager.signal_axes[0].axis\n",
    "    axt.plot(kax2, s2.data, '--'+c2, label=r'$d_q$RMSE$^2$, TIE+GS')\n",
    "    \n",
    "    axt.set_yscale('log')\n",
    "    axt.set_xscale('log')\n",
    "    axt.set_ylim(1e0, 1e4)\n",
    "    axt.set_xlim(0., wnum)\n",
    "    axt.tick_params('y', colors=c2)\n",
    "        \n",
    "f.axes[0].legend(loc='lower left', frameon=False)\n",
    "f.axes[4].legend(loc='lower left', frameon=False)\n",
    "\n",
    "ax[-1].set_xlabel(r'$q=|\\mathbf{q}|$, spatial frequency modulus $[{\\mu m}^{-1}]$')\n",
    "md=Nplots // 2\n",
    "ax[md].set_ylabel(r'FRC, Fourier ring correlation [a.u.]', color=c1)\n",
    "f.axes[md+Nplots].set_ylabel(r'$d_q$RMSE$^2$, differential root-mean-square error  $[rad^2 {\\mu m}]$', \n",
    "                             color=c2, va='bottom', rotation=270)    "
   ]
  },
  {
   "cell_type": "code",
   "execution_count": 30,
   "metadata": {},
   "outputs": [
    {
     "name": "stderr",
     "output_type": "stream",
     "text": [
      "C:\\Users\\aeljarrat\\AppData\\Local\\conda\\conda\\envs\\hyperspy_dev\\lib\\site-packages\\matplotlib\\axes\\_base.py:3129: UserWarning: Attempted to set non-positive xlimits for log-scale axis; invalid limits will be ignored.\n",
      "  'Attempted to set non-positive xlimits for log-scale axis; '\n"
     ]
    },
    {
     "data": {
      "text/plain": [
       "Text(0,0.5,'$d_q$RMSE$^2$, differential root-mean-square error  $[rad^2 {\\\\mu m}]$')"
      ]
     },
     "execution_count": 30,
     "metadata": {},
     "output_type": "execute_result"
    }
   ],
   "source": [
    "from string import ascii_lowercase as alph\n",
    "\n",
    "c1 = 'b'\n",
    "c2 = 'r'\n",
    "\n",
    "Nplots = len(frc_list)\n",
    "gs_kw = {'width_ratios':[1, 3], 'wspace':0.25}\n",
    "f, ax = plt.subplots(Nplots,2, sharex='col', gridspec_kw=gs_kw, figsize=(11.,8.))\n",
    "\n",
    "#kax = sim_chi_3p[0]['frc'].axes_manager[0].axis\n",
    "\n",
    "# images\n",
    "axs = ax[:,0]\n",
    "phases = [sim_gsivx['Phi'].unset_padding() + 0.3,   \n",
    "          sim_mf_gs['Phi'].unset_padding() + 0.3,    \n",
    "          sim_gp_gs['Phi'].unset_padding() + 0.3]\n",
    "\n",
    "for io, axi in enumerate(axs):\n",
    "    imi = axi.imshow(phases[io].data)\n",
    "    imi.set_clim(vmin=0., vmax=1.)\n",
    "    axi.set_axis_off()\n",
    "    #axi.set_title(r'$\\delta z='+str(np.round(dz[io],0))+'\\mu m$', loc='right')\n",
    "    axi.set_title('('+alph[io]+')', loc='left', fontweight='bold')\n",
    "\n",
    "# sbar tech\n",
    "hs.hyperspy.drawing.widgets.ScaleBar(axi, '${\\mu m}$', pixel_size=0.2)\n",
    "\n",
    "# custom scalebar, horizontal\n",
    "pos = axs[-1].get_position()\n",
    "cax = f.add_axes([pos.x0, pos.y0-0.03, pos.width, 0.02])\n",
    "cbar = f.colorbar(axs[-1].images[0], orientation='horizontal', cax=cax)\n",
    "cbar.set_ticks([0.0, 0.5, 1.0])\n",
    "\n",
    "\n",
    "# validations\n",
    "axl = ax[:,1]\n",
    "axr = []\n",
    "for io, axi in enumerate(ax[:,1]):\n",
    "    \n",
    "    axi.plot(kax, frc_list[io][0], '-'+c1, label='TIE')\n",
    "    axi.plot(kax, np.abs(frc_list[io][0]), '-'+c1, alpha=0.5)\n",
    "    \n",
    "    axi.plot(kax, frc_list[io][1], '--'+c1, label='TIE+GS')\n",
    "    axi.plot(kax, np.abs(frc_list[io][1]), '--'+c1, alpha=0.5)\n",
    "    \n",
    "    axi.set_title(labels[io], loc='right')\n",
    "    #axi.set_title('('+alph[io+3]+')', loc='left', fontweight='bold')\n",
    "    \n",
    "    axi.set_ylim(0., 1.05)\n",
    "    axi.tick_params('y', colors=c1)\n",
    "    \n",
    "    # twin axis\n",
    "    axt = axi.twinx()\n",
    "    s1 = rms_list[io][0]\n",
    "    kax1 = s1.axes_manager.signal_axes[0].axis\n",
    "    axt.plot(kax1, s1.data, '-'+c2, label=r'$d_q$RMSE$^2$, TIE' )\n",
    "    s2 = rms_list[io][1]\n",
    "    kax2 = s2.axes_manager.signal_axes[0].axis\n",
    "    axt.plot(kax2, s2.data, '--'+c2, label=r'$d_q$RMSE$^2$, TIE+GS')\n",
    "    \n",
    "    axt.set_yscale('log')\n",
    "    axt.set_xscale('log')\n",
    "    axt.set_ylim(1e0, 1e4)\n",
    "    axt.set_xlim(0., wnum)\n",
    "    axt.tick_params('y', which='both', colors=c2)\n",
    "    axr.append(axt)\n",
    "    \n",
    "axl[-1].legend(loc='lower left', frameon=False)\n",
    "\n",
    "ax[-1,1].set_xlabel(r'$q=|\\mathbf{q}|$, spatial frequency modulus $[{\\mu m}^{-1}]$')\n",
    "md=Nplots // 2\n",
    "ax[md,1].set_ylabel(r'FRC, Fourier ring correlation [a.u.]', color=c1)\n",
    "f.axes[md+2*Nplots+1].set_ylabel(r'$d_q$RMSE$^2$, differential root-mean-square error  $[rad^2 {\\mu m}]$', \n",
    "                               color=c2, va='bottom', rotation=270)  "
   ]
  },
  {
   "cell_type": "markdown",
   "metadata": {},
   "source": [
    "## Inverse Laplacian\n",
    "This plot compares the multi-focus inverse Laplacian filters from MFTIE with the actual inverse Laplacian $q^{-2}$. The additional application of these filters has to be equal to this function. **This only holds if alpha is set to 0**, in case partial spatial coherence is present, the inverse Laplacian filters take this into account and the normalization is different than $q^{-2}$."
   ]
  },
  {
   "cell_type": "code",
   "execution_count": 31,
   "metadata": {},
   "outputs": [],
   "source": [
    "nm2 = sim_mftie['Nm2'].deepcopy()\n",
    "nm2.data = np.fft.fftshift(nm2.data, axes = (-2, -1))"
   ]
  },
  {
   "cell_type": "code",
   "execution_count": 32,
   "metadata": {},
   "outputs": [
    {
     "name": "stderr",
     "output_type": "stream",
     "text": [
      "C:\\Users\\aeljarrat\\AppData\\Local\\conda\\conda\\envs\\hyperspy_dev\\lib\\site-packages\\ipykernel\\__main__.py:8: RuntimeWarning: divide by zero encountered in true_divide\n",
      "100%|██████████████████████████████████████████████████████████████████████████████████| 12/12 [00:00<00:00, 33.40it/s]\n"
     ]
    }
   ],
   "source": [
    "k2 = fsn.get_fourier_space()\n",
    "kscale = np.sqrt(k2[1,0])\n",
    "k2 = np.fft.fftshift(k2, (-2,-1))\n",
    "\n",
    "# collect inverse Laplacian\n",
    "iLap = np.concatenate( [nm2.data, \n",
    "                        np.sqrt((nm2.data**2.).sum(0))[None,...],\n",
    "                        (1./k2)[None,...]] )\n",
    "\n",
    "iLap = MI(iLap)\n",
    "\n",
    "# compute integral\n",
    "Ndec = 0\n",
    "S_iLap_dr = iLap.integrate_radial()\n",
    "# Do not plot this signal directly: \n",
    "# the scale is no longer linear for Ndec > 1!!!"
   ]
  },
  {
   "cell_type": "code",
   "execution_count": 33,
   "metadata": {},
   "outputs": [
    {
     "data": {
      "text/plain": [
       "Text(0,0.5,'$\\\\hat\\\\nabla^{-2}$, inverse Laplacian filters $[{\\\\mu m}^2]$')"
      ]
     },
     "execution_count": 33,
     "metadata": {},
     "output_type": "execute_result"
    }
   ],
   "source": [
    "f = plt.figure()\n",
    "ax = f.add_subplot(111)\n",
    "\n",
    "qrnd = S_iLap_dr.axes_manager[-1].axis * kscale\n",
    "for si in S_iLap_dr:\n",
    "    ax.plot(qrnd, si.data, mew=0.5)\n",
    "\n",
    "ax.set_yscale('log')\n",
    "ax.set_xscale('log')\n",
    "ax.set_ylim(1e-3, 1e3)\n",
    "ax.set_xlim(0.03, wnum)\n",
    "ax.set_xlabel(r'$q=|\\mathbf{q}|$, spatial frequency modulus $[{\\mu m}^{-1}]$')\n",
    "ax.set_ylabel(r'$\\hat\\nabla^{-2}$, inverse Laplacian filters $[{\\mu m}^2]$')    "
   ]
  },
  {
   "cell_type": "markdown",
   "metadata": {},
   "source": [
    "# GFTIE experiment\n",
    "This is sort of a different experiment. We remove the boundary conditions from the dataset and build them up again using the gradient-flipping algorithm (GFTIE). **This algorithm does not take into account partial spatial coherence**, meaning the experiment works better with alpha = 0."
   ]
  },
  {
   "cell_type": "code",
   "execution_count": 34,
   "metadata": {},
   "outputs": [],
   "source": [
    "from GFTIE import GFTIE"
   ]
  },
  {
   "cell_type": "code",
   "execution_count": 35,
   "metadata": {},
   "outputs": [
    {
     "name": "stderr",
     "output_type": "stream",
     "text": [
      "C:\\Users\\aeljarrat\\inline_holo\\MFTIE.py:294: RuntimeWarning: divide by zero encountered in true_divide\n",
      "  nabla_minus_2 = (1. / k2) * (1./(1.+(k2/k2Hi[:,None,None])**Nbutter)) * \\\n",
      "C:\\Users\\aeljarrat\\inline_holo\\MFTIE.py:295: RuntimeWarning: invalid value encountered in multiply\n",
      "  (1.-1./(1.+(k2/k2Lo[:,None,None])**Nbutter))\n",
      "WARNING:hyperspy.signal:Units are not set or cannot be recognized\n",
      "WARNING:hyperspy.signal:Units are not set or cannot be recognized\n",
      "WARNING:hyperspy.signal:Units are not set or cannot be recognized\n",
      "WARNING:hyperspy.signal:Units are not set or cannot be recognized\n",
      "100%|████████████████████████████████████████████████████████████████████████████████████| 1/1 [00:00<00:00, 11.10it/s]\n",
      "C:\\Users\\aeljarrat\\inline_holo\\GFTIE.py:86: RuntimeWarning: divide by zero encountered in true_divide\n",
      "  nabla_minus_2 = (1. / np.repeat(k2[None,...], len(adef), 0) )\n"
     ]
    },
    {
     "name": "stdout",
     "output_type": "stream",
     "text": [
      "Starting GF; Rlp = 5 um\n"
     ]
    },
    {
     "name": "stderr",
     "output_type": "stream",
     "text": [
      "Chi2 = 0.0010280545344857435; dChi2 = 0.9998971945465515                                | 1/20 [00:02<00:41,  2.18s/it]\n",
      "Chi2 = 0.0005447173013473801; dChi2 = 0.47014746487173447s/it]\n",
      "Chi2 = 0.0004806383595073871; dChi2 = 0.11763705996026043s/it]\n",
      "Chi2 = 0.00047932383176260224; dChi2 = 0.0027349621992970832]\n",
      "Chi2 = 0.0004764611101928012; dChi2 = 0.005972416516979876\n",
      "Chi2 = 0.0004776983557687347; dChi2 = 0.002596739900624553t]\n",
      "Chi2 = 0.0004783611425030104; dChi2 = 0.00138745868867202it]\n",
      "Chi2 = 0.00047884263231624504; dChi2 = 0.001006540394805648t]\n",
      "Chi2 = 0.0004799614033124218; dChi2 = 0.0023364064113612485\n",
      "Chi2 = 0.000480143254979218; dChi2 = 0.00037888810546256936\n",
      "Chi2 = 0.0004810894126123852; dChi2 = 0.0019705736222581046\n",
      "Chi2 = 0.0004813006558664238; dChi2 = 0.00043909354165899564\n",
      "Chi2 = 0.00048212839156038537; dChi2 = 0.0017197892499678377\n",
      "Chi2 = 0.00048235738105123304; dChi2 = 0.0004749554161424827\n",
      "Chi2 = 0.0004831642582248107; dChi2 = 0.0016727787430538912\n",
      "Chi2 = 0.00048351206028927803; dChi2 = 0.0007198422866484461\n",
      "Chi2 = 0.00048423055480728273; dChi2 = 0.0014859908925019068\n",
      "Chi2 = 0.000484545902426931; dChi2 = 0.0006512344512703595\n",
      "Chi2 = 0.0004850014745409751; dChi2 = 0.0009402042443497533]\n",
      ": 100%|████████████████████| 20/20 [01:39<00:00,  5.15s/it]"
     ]
    }
   ],
   "source": [
    "Npad = 100\n",
    "\n",
    "fs_gftie = fsn.unset_padding()\n",
    "fs_gftie = fs_gftie.set_padding(((Npad, Npad), (Npad, Npad)), 'constant', constant_values=fs_gftie.data.mean())\n",
    "\n",
    "# Generate initial phase result\n",
    "sim_gftie = do_mftie(fs_gftie, SNR, lothres, hithres, Nbutter=10)\n",
    "ph_gftie = sim_gftie['Phi']\n",
    "\n",
    "# Do GFTIE\n",
    "D = GFTIE(fs_gftie, ph_gftie, 20, 5)\n",
    "mftie = MFTIE(fs_gftie, False, 1e5, 0.25, alpha, SNR, True)\n",
    "mftie.set_dzI(D)\n",
    "ph_flip = mftie(False)"
   ]
  },
  {
   "cell_type": "markdown",
   "metadata": {},
   "source": [
    "GS refinement of the MFTIE and GFTIE results"
   ]
  },
  {
   "cell_type": "code",
   "execution_count": 36,
   "metadata": {},
   "outputs": [
    {
     "name": "stderr",
     "output_type": "stream",
     "text": [
      "C:\\Users\\aeljarrat\\inline_holo\\inline_holo.py:700: RuntimeWarning: invalid value encountered in sqrt\n",
      "  Chi = np.sqrt(wnum**2-k2) - wnum\n",
      "\n",
      "  0%|                                                                                           | 0/25 [00:00<?, ?it/s]\n",
      "  4%|███▎                                                                               | 1/25 [00:01<00:47,  1.99s/it]\n",
      "  8%|██████▋                                                                            | 2/25 [00:02<00:24,  1.05s/it]\n",
      " 12%|█████████▉                                                                         | 3/25 [00:02<00:16,  1.34it/s]\n",
      " 16%|█████████████▎                                                                     | 4/25 [00:02<00:12,  1.70it/s]\n",
      " 20%|████████████████▌                                                                  | 5/25 [00:02<00:09,  2.03it/s]\n",
      " 24%|███████████████████▉                                                               | 6/25 [00:02<00:08,  2.34it/s]\n",
      " 32%|██████████████████████████▌                                                        | 8/25 [00:02<00:05,  2.89it/s]\n",
      " 36%|█████████████████████████████▉                                                     | 9/25 [00:02<00:05,  3.13it/s]\n",
      " 40%|████████████████████████████████▊                                                 | 10/25 [00:02<00:04,  3.36it/s]\n",
      " 44%|████████████████████████████████████                                              | 11/25 [00:03<00:03,  3.56it/s]\n",
      " 48%|███████████████████████████████████████▎                                          | 12/25 [00:03<00:03,  3.77it/s]\n",
      " 56%|█████████████████████████████████████████████▉                                    | 14/25 [00:03<00:02,  4.13it/s]\n",
      " 64%|████████████████████████████████████████████████████▍                             | 16/25 [00:03<00:02,  4.46it/s]\n",
      " 68%|███████████████████████████████████████████████████████▊                          | 17/25 [00:03<00:01,  4.60it/s]\n",
      " 72%|███████████████████████████████████████████████████████████                       | 18/25 [00:03<00:01,  4.74it/s]\n",
      " 76%|██████████████████████████████████████████████████████████████▎                   | 19/25 [00:03<00:01,  4.86it/s]\n",
      " 80%|█████████████████████████████████████████████████████████████████▌                | 20/25 [00:04<00:01,  4.99it/s]\n",
      " 84%|████████████████████████████████████████████████████████████████████▉             | 21/25 [00:04<00:00,  5.11it/s]\n",
      " 88%|████████████████████████████████████████████████████████████████████████▏         | 22/25 [00:04<00:00,  5.22it/s]\n",
      " 92%|███████████████████████████████████████████████████████████████████████████▍      | 23/25 [00:04<00:00,  5.32it/s]\n",
      " 96%|██████████████████████████████████████████████████████████████████████████████▋   | 24/25 [00:04<00:00,  5.42it/s]\n",
      "100%|██████████████████████████████████████████████████████████████████████████████████| 25/25 [00:04<00:00,  5.52it/s]\n",
      "WARNING:hyperspy.signal:Units are not set or cannot be recognized\n",
      "WARNING:hyperspy.signal:Units are not set or cannot be recognized\n",
      "WARNING:hyperspy.signal:Units are not set or cannot be recognized\n",
      "WARNING:hyperspy.signal:Units are not set or cannot be recognized\n",
      "WARNING:hyperspy.signal:Units are not set or cannot be recognized\n",
      "WARNING:hyperspy.signal:Units are not set or cannot be recognized\n",
      "WARNING:hyperspy.signal:Units are not set or cannot be recognized\n",
      "WARNING:hyperspy.signal:Units are not set or cannot be recognized\n",
      "\n",
      "  0%|                                                                                            | 0/1 [00:00<?, ?it/s]\n",
      "100%|████████████████████████████████████████████████████████████████████████████████████| 1/1 [00:00<00:00, 11.20it/s]\n",
      "  0%|                                                                                            | 0/1 [00:00<?, ?it/s]\n",
      "100%|████████████████████████████████████████████████████████████████████████████████████| 1/1 [00:00<00:00, 12.53it/s]\n",
      "  0%|                                                                                           | 0/25 [00:00<?, ?it/s]\n",
      "  4%|███▎                                                                               | 1/25 [00:01<00:46,  1.94s/it]\n",
      "  8%|██████▋                                                                            | 2/25 [00:02<00:23,  1.03s/it]\n",
      " 12%|█████████▉                                                                         | 3/25 [00:02<00:16,  1.37it/s]\n",
      " 16%|█████████████▎                                                                     | 4/25 [00:02<00:12,  1.74it/s]\n",
      " 20%|████████████████▌                                                                  | 5/25 [00:02<00:09,  2.07it/s]\n",
      " 24%|███████████████████▉                                                               | 6/25 [00:02<00:07,  2.38it/s]\n",
      " 28%|███████████████████████▏                                                           | 7/25 [00:02<00:06,  2.67it/s]\n",
      " 32%|██████████████████████████▌                                                        | 8/25 [00:02<00:05,  2.93it/s]\n",
      " 36%|█████████████████████████████▉                                                     | 9/25 [00:02<00:05,  3.18it/s]\n",
      " 40%|████████████████████████████████▊                                                 | 10/25 [00:02<00:04,  3.40it/s]\n",
      " 44%|████████████████████████████████████                                              | 11/25 [00:03<00:03,  3.61it/s]\n",
      " 48%|███████████████████████████████████████▎                                          | 12/25 [00:03<00:03,  3.80it/s]\n",
      " 52%|██████████████████████████████████████████▋                                       | 13/25 [00:03<00:03,  3.98it/s]\n",
      " 56%|█████████████████████████████████████████████▉                                    | 14/25 [00:03<00:02,  4.15it/s]\n",
      " 60%|█████████████████████████████████████████████████▏                                | 15/25 [00:03<00:02,  4.31it/s]\n",
      " 64%|████████████████████████████████████████████████████▍                             | 16/25 [00:03<00:02,  4.47it/s]\n",
      " 68%|███████████████████████████████████████████████████████▊                          | 17/25 [00:03<00:01,  4.62it/s]\n",
      " 72%|███████████████████████████████████████████████████████████                       | 18/25 [00:03<00:01,  4.76it/s]\n",
      " 76%|██████████████████████████████████████████████████████████████▎                   | 19/25 [00:03<00:01,  4.88it/s]\n",
      " 80%|█████████████████████████████████████████████████████████████████▌                | 20/25 [00:03<00:00,  5.01it/s]\n",
      " 88%|████████████████████████████████████████████████████████████████████████▏         | 22/25 [00:04<00:00,  5.25it/s]\n",
      " 92%|███████████████████████████████████████████████████████████████████████████▍      | 23/25 [00:04<00:00,  5.35it/s]\n",
      "100%|██████████████████████████████████████████████████████████████████████████████████| 25/25 [00:04<00:00,  5.54it/s]\n",
      "WARNING:hyperspy.signal:Units are not set or cannot be recognized\n",
      "WARNING:hyperspy.signal:Units are not set or cannot be recognized\n",
      "WARNING:hyperspy.signal:Units are not set or cannot be recognized\n",
      "WARNING:hyperspy.signal:Units are not set or cannot be recognized\n",
      "WARNING:hyperspy.signal:Units are not set or cannot be recognized\n",
      "WARNING:hyperspy.signal:Units are not set or cannot be recognized\n",
      "WARNING:hyperspy.signal:Units are not set or cannot be recognized\n",
      "WARNING:hyperspy.signal:Units are not set or cannot be recognized\n",
      "\n",
      "  0%|                                                                                            | 0/1 [00:00<?, ?it/s]\n",
      "100%|████████████████████████████████████████████████████████████████████████████████████| 1/1 [00:00<00:00, 10.96it/s]\n",
      "  0%|                                                                                            | 0/1 [00:00<?, ?it/s]\n",
      "100%|████████████████████████████████████████████████████████████████████████████████████| 1/1 [00:00<00:00, 11.53it/s]"
     ]
    }
   ],
   "source": [
    "# Get in-focus Amplitude\n",
    "Nm  = get_middle(fs_gftie)\n",
    "amp = fs_gftie.inav[Nm]\n",
    "\n",
    "# Get init-waves\n",
    "wave_gf = sim_gftie['Phi'].deepcopy()\n",
    "wave_gf.data = np.sqrt(amp.data) * np.exp(1j*ph_flip.data)\n",
    "\n",
    "wave_mf = sim_gftie['Phi'].deepcopy()\n",
    "wave_mf.data = np.sqrt(amp.data) * np.exp(1j*sim_gftie['Phi'].data)\n",
    "\n",
    "# Get CTF\n",
    "ctf = amp.get_contrast_transfer(zdef)\n",
    "\n",
    "# Do GSref !!\n",
    "sim_gf_gs = do_gsref(fs_gftie, wave_gf, ctf, Niters)\n",
    "sim_mf_gs = do_gsref(fs_gftie, wave_mf, ctf, Niters)"
   ]
  },
  {
   "cell_type": "markdown",
   "metadata": {},
   "source": [
    "Plot the results"
   ]
  },
  {
   "cell_type": "code",
   "execution_count": 37,
   "metadata": {},
   "outputs": [],
   "source": [
    "phase_org = MI(phase_org.real)"
   ]
  },
  {
   "cell_type": "code",
   "execution_count": 38,
   "metadata": {},
   "outputs": [],
   "source": [
    "plt_list = [phase_org, ph_gftie, ph_flip, \n",
    "            phase_org, sim_mf_gs['Phi'], sim_gf_gs['Phi']]\n",
    "lbl_list = [r'$\\Phi$', 'MFTIE', 'GFTIE',\n",
    "            r'$\\Phi$', 'MFTIE+GS', 'GFTIE+GS']"
   ]
  },
  {
   "cell_type": "code",
   "execution_count": 39,
   "metadata": {},
   "outputs": [
    {
     "name": "stderr",
     "output_type": "stream",
     "text": [
      "WARNING:hyperspy.drawing.utils:vmin have to be a scalar to be compatible with a single colorbar\n",
      "WARNING:hyperspy.drawing.utils:vmax have to be a scalar to be compatible with a single colorbar\n"
     ]
    },
    {
     "data": {
      "text/plain": [
       "Text(0.5,0.98,'gradient flipping results including pad region')"
      ]
     },
     "execution_count": 39,
     "metadata": {},
     "output_type": "execute_result"
    }
   ],
   "source": [
    "f = plt.figure(figsize=(15., 15.))\n",
    "hs.plot.plot_images(plt_list, label=lbl_list,\n",
    "                    per_row=3, axes_decor='off', colorbar='single', fig=f)\n",
    "plt.suptitle('gradient flipping results including pad region')"
   ]
  },
  {
   "cell_type": "code",
   "execution_count": 40,
   "metadata": {},
   "outputs": [
    {
     "name": "stderr",
     "output_type": "stream",
     "text": [
      "WARNING:hyperspy.drawing.utils:vmin have to be a scalar to be compatible with a single colorbar\n",
      "WARNING:hyperspy.drawing.utils:vmax have to be a scalar to be compatible with a single colorbar\n"
     ]
    },
    {
     "data": {
      "text/plain": [
       "Text(0.5,0.98,'gradient flipping results including pad region')"
      ]
     },
     "execution_count": 40,
     "metadata": {},
     "output_type": "execute_result"
    }
   ],
   "source": [
    "f = plt.figure(figsize=(15., 15.))\n",
    "hs.plot.plot_images([pi.unset_padding() for pi in plt_list], label=lbl_list,\n",
    "                    per_row=3, axes_decor='off', colorbar='single', fig=f)\n",
    "plt.suptitle('gradient flipping results including pad region')"
   ]
  },
  {
   "cell_type": "code",
   "execution_count": 41,
   "metadata": {},
   "outputs": [],
   "source": [
    "f, ax = plt.subplots(1,1, figsize=(11., 8.))\n",
    "hs.plot.plot_spectra([sim_mf_gs['frc_phi'], sim_gf_gs['frc_phi']], \n",
    "                     legend=['MFTIE+GS', 'GFTIE+GS'], legend_loc='best', \n",
    "                     fig=f, ax=ax)\n",
    "ax.set_ylim(0.25, 1.05)\n",
    "ax.set_xscale('log')"
   ]
  },
  {
   "cell_type": "code",
   "execution_count": null,
   "metadata": {},
   "outputs": [],
   "source": []
  }
 ],
 "metadata": {
  "anaconda-cloud": {},
  "kernelspec": {
   "display_name": "Python [conda env:hyperspy_dev]",
   "language": "python",
   "name": "conda-env-hyperspy_dev-py"
  },
  "language_info": {
   "codemirror_mode": {
    "name": "ipython",
    "version": 3
   },
   "file_extension": ".py",
   "mimetype": "text/x-python",
   "name": "python",
   "nbconvert_exporter": "python",
   "pygments_lexer": "ipython3",
   "version": "3.6.5"
  }
 },
 "nbformat": 4,
 "nbformat_minor": 1
}
