{
 "cells": [
  {
   "cell_type": "code",
   "execution_count": 4,
   "metadata": {},
   "outputs": [],
   "source": [
    "%matplotlib qt \n",
    "import matplotlib.pyplot as plt\n",
    "import numpy as np\n",
    "import hyperspy.api as hs"
   ]
  },
  {
   "cell_type": "markdown",
   "metadata": {},
   "source": [
    "## Test Signal2D "
   ]
  },
  {
   "cell_type": "code",
   "execution_count": 8,
   "metadata": {},
   "outputs": [],
   "source": [
    "from inline_holo import ModifiedImage as MI\n",
    "from scipy.misc import face\n",
    "data = np.moveaxis(face(), -1, 0) / 2**8\n",
    "Nz, Ny, Nx = data.shape\n",
    "#imgdata = imgdata * np.exp(1j*np.random.rand(Nx, Ny))\n",
    "dx = 0.5\n",
    "dy = 0.5\n",
    "dz = 0.5\n",
    "dict_x = {'size':Nx, 'name':'X', 'units':'m', 'scale':dx, 'offset':0.}\n",
    "dict_y = {'size':Ny, 'name':'Y', 'units':'m', 'scale':dy, 'offset':0.}\n",
    "dict_z = {'size':Nz, 'name':'Z', 'units':'m', 'scale':dz, 'offset':0.}\n",
    "img = MI(data, axes=[dict_z, dict_y, dict_x])\n",
    "img.metadata.General.title = 'Racoon faces'\n",
    "# Add also an evil non-lineal axis\n",
    "img.axes_manager[-1].axis = np.arange(Nz)**3.\n",
    "# apply pad and remove it\n",
    "#img = MI(np.random.rand(3, 800, 600))\n",
    "cvals = hs.signals.BaseSignal([1., 0.5, 0.0])\n",
    "img_pad = img.set_pad((50, 50.), 'constant', constant_values=cvals.T)\n",
    "img_bis = img_pad.remove_pad()\n",
    "\n",
    "assert np.allclose(\n",
    "     img.data.shape, img_bis.data.shape), 'Shape was not preserved!'\n",
    "\n",
    "assert np.allclose(\n",
    "    img.axes_manager[0].axis, img_pad.axes_manager[0].axis), 'Pad removed the axis of evil!'\n",
    "\n",
    "assert np.allclose(\n",
    "    img.axes_manager[0].axis, img_bis.axes_manager[0].axis), 'Unpad removed the axis of evil!'\n",
    "\n",
    "assert np.allclose(\n",
    "    img_bis.data, img.data), 'Something went wrong, unpad(pad) != original'"
   ]
  },
  {
   "cell_type": "code",
   "execution_count": 9,
   "metadata": {},
   "outputs": [
    {
     "name": "stderr",
     "output_type": "stream",
     "text": [
      "WARNING:hyperspy.drawing.utils:Axes labels were requested, but one or both of the axes units and/or name are undefined. Axes decorations have been set to 'ticks' instead.\n"
     ]
    },
    {
     "data": {
      "text/plain": [
       "[<matplotlib.axes._subplots.AxesSubplot at 0x1b0125846a0>,\n",
       " <matplotlib.axes._subplots.AxesSubplot at 0x1b0125575f8>,\n",
       " <matplotlib.axes._subplots.AxesSubplot at 0x1b012a1a080>,\n",
       " <matplotlib.axes._subplots.AxesSubplot at 0x1b012aa14a8>,\n",
       " <matplotlib.axes._subplots.AxesSubplot at 0x1b0059ccb00>,\n",
       " <matplotlib.axes._subplots.AxesSubplot at 0x1b012adab38>,\n",
       " <matplotlib.axes._subplots.AxesSubplot at 0x1b006c8dc18>,\n",
       " <matplotlib.axes._subplots.AxesSubplot at 0x1b0071d4e48>,\n",
       " <matplotlib.axes._subplots.AxesSubplot at 0x1b007248e10>]"
      ]
     },
     "execution_count": 9,
     "metadata": {},
     "output_type": "execute_result"
    }
   ],
   "source": [
    "hs.plot.plot_images([img, img_pad, img_bis])"
   ]
  },
  {
   "cell_type": "markdown",
   "metadata": {},
   "source": [
    "## Test with Signal1D"
   ]
  },
  {
   "cell_type": "code",
   "execution_count": 14,
   "metadata": {},
   "outputs": [],
   "source": [
    "from scipy.misc import face\n",
    "from inline_holo import ModifiedSignal as MS\n",
    "data = np.random.rand(5, 5, 512) - 0.5\n",
    "Nx, Ny, Nz = data.shape\n",
    "dx = 0.5\n",
    "dy = 0.25\n",
    "dz = 0.01\n",
    "dict_x = {'size':Nx, 'name':'X', 'units':'m', 'scale':dx, 'offset':0}\n",
    "dict_y = {'size':Ny, 'name':'Y', 'units':'m', 'scale':dy, 'offset':0}\n",
    "dict_z = {'size':Nz, 'name':'Z', 'units':'nm', 'scale':dz, 'offset':0}\n",
    "spc = hs.signals.Signal1D(data, axes=[dict_x, dict_y, dict_z])\n",
    "spc = MS(spc)\n",
    "spc.metadata.General.title = 'Noisy'\n",
    "\n",
    "# apply pad and remove it\n",
    "spc = hs.signals.Signal1D(np.random.rand(5, 5, 512))\n",
    "spc = MS(spc)\n",
    "spc_pad = spc.set_pad(((50,100),), 'constant', constant_values=0)\n",
    "spc_bis = spc_pad.remove_pad()\n",
    "\n",
    "assert np.allclose(\n",
    "     spc.data.shape, spc_bis.data.shape), 'Shape was not preserved!'\n",
    "\n",
    "assert np.allclose(\n",
    "    spc.axes_manager[0].axis, spc_pad.axes_manager[0].axis), 'Pad removed the axis of evil!'\n",
    "\n",
    "assert np.allclose(\n",
    "    spc.axes_manager[0].axis, spc_bis.axes_manager[0].axis), 'Unpad removed the axis of evil!'\n",
    "\n",
    "assert np.allclose(\n",
    "    spc_bis.data, spc.data), 'Something went wrong, unpad(pad) != original'"
   ]
  },
  {
   "cell_type": "code",
   "execution_count": 15,
   "metadata": {},
   "outputs": [],
   "source": [
    "spc_pad.plot()"
   ]
  },
  {
   "cell_type": "code",
   "execution_count": 16,
   "metadata": {},
   "outputs": [
    {
     "data": {
      "text/plain": [
       "<ModifiedSignal, title: , dimensions: (5, 5|512)>"
      ]
     },
     "execution_count": 16,
     "metadata": {},
     "output_type": "execute_result"
    }
   ],
   "source": [
    "spc"
   ]
  },
  {
   "cell_type": "code",
   "execution_count": 9,
   "metadata": {},
   "outputs": [
    {
     "data": {
      "text/plain": [
       "<ModifiedSignal, title: Noisy, dimensions: (5, 5|662)>"
      ]
     },
     "execution_count": 9,
     "metadata": {},
     "output_type": "execute_result"
    }
   ],
   "source": [
    "spc_pad"
   ]
  },
  {
   "cell_type": "markdown",
   "metadata": {},
   "source": [
    "## Weird case"
   ]
  },
  {
   "cell_type": "code",
   "execution_count": 28,
   "metadata": {},
   "outputs": [],
   "source": [
    "spc = MS(np.random.rand(5, 5, 512, 512))\n",
    "spc_pad = spc.set_pad((10, 10, 0, 10), 'constant', constant_values=0)\n",
    "spc_bis = spc_pad.remove_pad()"
   ]
  },
  {
   "cell_type": "code",
   "execution_count": 29,
   "metadata": {},
   "outputs": [
    {
     "data": {
      "text/plain": [
       "(<ModifiedSignal, title: , dimensions: (|512, 512, 5, 5)>,\n",
       " <ModifiedSignal, title: , dimensions: (|532, 532, 5, 25)>,\n",
       " <ModifiedSignal, title: , dimensions: (|512, 512, 5, 5)>)"
      ]
     },
     "execution_count": 29,
     "metadata": {},
     "output_type": "execute_result"
    }
   ],
   "source": [
    "spc, spc_pad, spc_bis"
   ]
  }
 ],
 "metadata": {
  "kernelspec": {
   "display_name": "Python [conda env:hyperspy_dev]",
   "language": "python",
   "name": "conda-env-hyperspy_dev-py"
  },
  "language_info": {
   "codemirror_mode": {
    "name": "ipython",
    "version": 3
   },
   "file_extension": ".py",
   "mimetype": "text/x-python",
   "name": "python",
   "nbconvert_exporter": "python",
   "pygments_lexer": "ipython3",
   "version": "3.6.5"
  }
 },
 "nbformat": 4,
 "nbformat_minor": 2
}
